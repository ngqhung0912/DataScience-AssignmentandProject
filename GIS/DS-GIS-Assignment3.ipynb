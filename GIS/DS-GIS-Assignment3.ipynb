{
 "cells": [
  {
   "cell_type": "markdown",
   "id": "6fdfc8f1-5f67-485d-9fc9-22c9cc6be6d0",
   "metadata": {},
   "source": [
    "# Satellite data access through Google Earth Engine\n",
    "\n",
    "Mahdi Khodadadzadeh\n",
    "October 2022\n"
   ]
  },
  {
   "cell_type": "markdown",
   "id": "e625e3ee-4985-4480-aed9-734b50c1be53",
   "metadata": {},
   "source": [
    "In this notebook, you will practice some functionalities of the the Google Earth Engine Python API. This exercise is prepared with some materials from this [tutorial](https://developers.google.com/earth-engine/tutorials/community/intro-to-python-api). "
   ]
  },
  {
   "cell_type": "markdown",
   "id": "c488971e-1ab1-4e7a-9425-086745e1c766",
   "metadata": {},
   "source": [
    "## What is GEE?"
   ]
  },
  {
   "cell_type": "markdown",
   "id": "99d86ffa-b660-429f-95e5-3c6e247a13d4",
   "metadata": {},
   "source": [
    "[GEE](https://earthengine.google.com/) combines a multi-petabyte catalog of satellite imagery and geospatial datasets with planetary-scale analysis capabilities. Scientists, researchers, and developers use Earth Engine to detect changes, map trends, and quantify differences on the Earth's surface. Earth Engine is now available for commercial use, and remains **free for academic and research use**. Particularly, GEE provides petabyte-scale catalog of public and free-to-use geospatial datasets. Visit the [Earth Engine Data Catalog](https://developers.google.com/earth-engine/datasets/catalog) and explore datasets using the search bar or browsing by tag.\n",
    "\n",
    "To use GEE you need to connect to the Earth Engine service through one of the APIs. In this tutorial we will use the Python API. See [here](https://developers.google.com/earth-engine) to know more about all the available APIs.\n",
    "\n",
    "To connect to the GEE APIs, you need to have an active GEE account. You can sign up for GEE if you don’t have an active account yet. Go [here](https://code.earthengine.google.com/) and create or link your current Google account to a new account of GEE. Then, GEE will request access to your Google account, that you need to allow it. After that, you need to fill out an application form and submit it. Once you successfully submit the form, you will receive a \"Thank You\" message. Then you need to keep an eye on your gmail inbox to receive a \"Welcome to Google Earth Engine!\" email, which confirms that you are able to login using your Google account on \"code.earthengine.google.com\" and to use any GEE API. It will take a few minutes, more rarely some days.\n"
   ]
  },
  {
   "cell_type": "markdown",
   "id": "c4df8038-241c-49e9-8250-3ad6bff0b36d",
   "metadata": {},
   "source": [
    "## Authentication \n",
    "\n",
    "After importing `ee`, the `ee.Authenticate()` line should be run once to grant the notebook access to Earth Engine using your account. This triggers the authentication flow, which is easy to complete. [Here](https://developers.google.com/earth-engine/guides/python_install#authentication), you can find a step-by-step instructions.\n"
   ]
  },
  {
   "cell_type": "code",
   "execution_count": null,
   "id": "1d6147a9-ac92-4ba0-a21d-1921d77257a6",
   "metadata": {},
   "outputs": [],
   "source": [
    "import ee\n",
    "\n",
    "# # If you are running this notebook for the first time, you need to activate the command below for the authentication flow:\n",
    "# ee.Authenticate()\n"
   ]
  },
  {
   "cell_type": "markdown",
   "id": "bf743d3d-bfc7-4e26-b11c-3ad61a2157ff",
   "metadata": {},
   "source": [
    "## Initializing \n",
    "\n",
    "Run the following scripts to initialize the API. You should see this message \"Google Earth Engine has initialized successfully!\""
   ]
  },
  {
   "cell_type": "code",
   "execution_count": null,
   "id": "b6766408-8e90-4a66-b4ec-6abba1cebd6b",
   "metadata": {},
   "outputs": [],
   "source": [
    "try:\n",
    "    # Initialize the library.\n",
    "    ee.Initialize()\n",
    "    print('Google Earth Engine has initialized successfully!')\n",
    "except ee.EEException as e:\n",
    "    print('Google Earth Engine has failed to initialize!')\n",
    "except:\n",
    "    print(\"Unexpected error:\", sys.exc_info()[0])\n",
    "    raise"
   ]
  },
  {
   "cell_type": "markdown",
   "id": "d40934dd-e750-4a7b-97b0-d1ba2aa81da4",
   "metadata": {},
   "source": [
    "## Getting Data and Visualizing\n",
    "\n",
    "In the GEE, datasets can be of different types:\n",
    "\n",
    "- `ee.Feature`: a geometric object with a list of properties (vector data)\n",
    "- `ee.Image`: an image that may include several bands (raster data)\n",
    "- `ee.FeatureCollection`: groups of features\n",
    "- `ee.ImageCollection`: groups of images\n"
   ]
  },
  {
   "cell_type": "markdown",
   "id": "36163425-5731-4d68-9427-7eb2149b360f",
   "metadata": {},
   "source": [
    "Let's use the [geemap](https://geemap.org/) Python package for defining the study area and the visualization. geemap is a Python package for interactive mapping with GEE. For video tutorials and notebook examples for the geemap Python package, please visit the [examples page](https://github.com/giswqs/geemap/tree/master/examples). For complete documentation on geemap modules and methods, please visit the [API Reference](https://geemap.org/geemap/#geemap-tutorials)."
   ]
  },
  {
   "cell_type": "code",
   "execution_count": null,
   "id": "d5ff7670-5014-4ca5-a6e1-742b3fa34c75",
   "metadata": {},
   "outputs": [],
   "source": [
    "import geemap"
   ]
  },
  {
   "cell_type": "markdown",
   "id": "af9bec95-2670-42e7-84ca-9f4bfc117dc3",
   "metadata": {},
   "source": [
    "Now let's call the interactive map from geemap to select a region or a point of interest. Please note that the following line opens a default basemap which is a Google Map (additional basemaps can be added using the `Map.add_basemap()` function)."
   ]
  },
  {
   "cell_type": "code",
   "execution_count": null,
   "id": "ff6518db-cd1b-49d2-8ffe-e1c10a0000cd",
   "metadata": {},
   "outputs": [],
   "source": [
    "Map1 = geemap.Map()\n",
    "Map1"
   ]
  },
  {
   "cell_type": "markdown",
   "id": "2c3c880f-b6ee-4600-9c36-41251f2b4dc0",
   "metadata": {},
   "source": [
    "Now let's zoom in (using a mouse) to the region of Enschede. Using the bar at the left side of the map, select a rectangle on this map (i.e., covering Enschede  and surroundings). This region will appear as \"Drawn Features\" layer on this map. You can check it out using the tool icon on the top right corner of the map. Then, you can retrieve this region geometry using the following lines."
   ]
  },
  {
   "cell_type": "code",
   "execution_count": null,
   "id": "47da4ba9-77ce-42b6-bc77-32d446e9aae4",
   "metadata": {
    "tags": []
   },
   "outputs": [],
   "source": [
    "fc = ee.FeatureCollection(Map1.draw_last_feature)\n",
    "region = fc.geometry()\n",
    "cords = region.getInfo()['coordinates']\n",
    "cords"
   ]
  },
  {
   "cell_type": "code",
   "execution_count": null,
   "id": "bef19c03-4347-49cf-a9db-be1e3ec80115",
   "metadata": {},
   "outputs": [],
   "source": [
    "# or alternatively use the following predefined rectangle\n",
    "region = ee.Geometry.Polygon(\n",
    "[[[6.815664, 52.17028],\n",
    "  [6.815664, 52.25884],\n",
    "  [6.969804, 52.25884],\n",
    "  [6.969804, 52.17028],\n",
    "  [6.815664, 52.17028]]]\n",
    ")"
   ]
  },
  {
   "cell_type": "markdown",
   "id": "1e33ad84-6beb-4c12-85fb-e924f6221003",
   "metadata": {},
   "source": [
    "Now it's the time to gather the Sentinel 2 images of this region. To know how to gather an specific data you can always check the [GEE data catalogue](https://developers.google.com/earth-engine/datasets). For example, according to the [Sentinel 2 satellite images catalogue ](https://developers.google.com/earth-engine/datasets/catalog/COPERNICUS_S2_SR_HARMONIZED), we can access these images using the \"ee.ImageCollection(\"COPERNICUS/S2_SR_HARMONIZED\")\" snippet."
   ]
  },
  {
   "cell_type": "markdown",
   "id": "14affd7c-f8ff-41aa-93f2-e123495ab15e",
   "metadata": {},
   "source": [
    "Now let's find a recent [Sentinel 2 Multispectral satellite image](https://developers.google.com/earth-engine/datasets/catalog/COPERNICUS_S2_SR_HARMONIZED) that covers the selected region during the last summer. Let's consider all the images with less than 10% cloud coverage. We don't want very cloudy images!"
   ]
  },
  {
   "cell_type": "code",
   "execution_count": null,
   "id": "6c4bd949-964a-428b-a27d-fc0f67634aec",
   "metadata": {},
   "outputs": [],
   "source": [
    "myCollection = ee.ImageCollection('COPERNICUS/S2_SR_HARMONIZED') \\\n",
    "    .filterBounds(region) \\\n",
    "    .filterDate('2022-06-01', '2022-08-30') \\\n",
    "    .filterMetadata('CLOUDY_PIXEL_PERCENTAGE', 'less_than', 10)"
   ]
  },
  {
   "cell_type": "code",
   "execution_count": null,
   "id": "06144274-21ba-4e3f-8190-f373b4257782",
   "metadata": {},
   "outputs": [],
   "source": [
    "listOfImages = myCollection.aggregate_array('system:index').getInfo()\n",
    "print('Number of images in the collection: ', len(listOfImages))"
   ]
  },
  {
   "cell_type": "markdown",
   "id": "b0e1ca14-1ab1-4d78-9c03-de6c74b6047c",
   "metadata": {},
   "source": [
    "The first image and clip to the region and visualize it on the map.\n",
    "\n",
    "Often, we don't need a whole image for furthur analysis. We can simply crop an image and select a smaller part of an image for the region of interest. You can use [Clip](https://developers.google.com/earth-engine/apidocs/ee-image-clip) to a Geometry or Feature for selecting part of an image. The output bands correspond exactly to the input bands, except data not covered by the geometry is masked. The output image retains the metadata of the input image."
   ]
  },
  {
   "cell_type": "code",
   "execution_count": null,
   "id": "508839a7-5fcf-43d4-9a0f-743dfa3aeef3",
   "metadata": {},
   "outputs": [],
   "source": [
    "img1 = myCollection.first().clip(region)"
   ]
  },
  {
   "cell_type": "code",
   "execution_count": null,
   "id": "aebbe9b8-8f5d-40b6-8efe-5c481912d07b",
   "metadata": {},
   "outputs": [],
   "source": [
    "# Some visualization parameters: \n",
    "# - Values to map to 0 and values to map to 255. \n",
    "# - Three bands to be combined as an rgb image\n",
    "\n",
    "# You can try changing these parameters and check the result!\n",
    "\n",
    "vis_params = {\"min\": 0, \n",
    "              \"max\": 1500, \n",
    "              \"bands\": [\"B4\", \"B3\", \"B2\"]}  \n"
   ]
  },
  {
   "cell_type": "code",
   "execution_count": null,
   "id": "1e96f1c1-ceaf-46bb-b8b1-304658734974",
   "metadata": {},
   "outputs": [],
   "source": [
    "Map2 = geemap.Map()\n",
    "Map2.addLayer(img1, vis_params, \"FirstImage\", True) \n",
    "Map2"
   ]
  },
  {
   "cell_type": "markdown",
   "id": "d0c79833-ba34-48e1-9ecf-8d21292d5948",
   "metadata": {},
   "source": [
    "Scroll and zoom to find the image!"
   ]
  },
  {
   "cell_type": "markdown",
   "id": "611ef382-eb0d-4bb3-83dc-54ce47c061ad",
   "metadata": {},
   "source": [
    "We can reduce an image collection by calculating the median of all values at each pixel across the stack of all matching bands."
   ]
  },
  {
   "cell_type": "code",
   "execution_count": null,
   "id": "34e8f3d4-cae0-4f9c-8b6a-6d729df6bf44",
   "metadata": {},
   "outputs": [],
   "source": [
    "img2 = myCollection.median().clip(region)\n",
    "Map2.addLayer(img2, vis_params, \"MedianImage\", True) \n",
    "Map2"
   ]
  },
  {
   "cell_type": "markdown",
   "id": "a83d524f-5238-43d7-9dc6-369ee58229a4",
   "metadata": {},
   "source": [
    "## Exporting the Data\n",
    "\n",
    "For exporting data out of GEE we suggest to use the [geemap python package tools](https://geemap.org/notebooks/11_export_image/#download-an-eeimage)."
   ]
  },
  {
   "cell_type": "code",
   "execution_count": null,
   "id": "ec5021de-13fc-458b-ae35-2b9c72e7c029",
   "metadata": {},
   "outputs": [],
   "source": [
    "# Let's first import some needed libraries\n",
    "import os\n",
    "import rasterio\n",
    "import numpy as np\n",
    "import matplotlib.pyplot as plt"
   ]
  },
  {
   "cell_type": "code",
   "execution_count": null,
   "id": "a78385ee-7afa-456c-a89d-4c2e58913e1f",
   "metadata": {},
   "outputs": [],
   "source": [
    "# let's create a Downloads folder and define a name for the data.\n",
    "\n",
    "out_dir = os.path.join(os.path.expanduser('~'), 'Downloads')\n",
    "filename = os.path.join(out_dir, 'Enschede.tif')"
   ]
  },
  {
   "cell_type": "code",
   "execution_count": null,
   "id": "5f46ba0c-e691-486f-a42d-a506a00ab16e",
   "metadata": {},
   "outputs": [],
   "source": [
    "# Exporting all bands as one single image\n",
    "# By \"file_per_band=True\" you can export each band as one image\n",
    "# With the \"scale\" parameter you can change the spatial resolution of the exported image. \n",
    "# Higher spatial resolution (lower scale) leads to longer downloading time.\n",
    "\n",
    "geemap.ee_export_image(\n",
    "    img2, filename=filename, scale=30, region=region, file_per_band=False\n",
    ")"
   ]
  },
  {
   "cell_type": "markdown",
   "id": "41fb4172-ef48-4ca7-af5c-e11e45825e19",
   "metadata": {},
   "source": [
    "\n",
    "Now let's check if the data has been downloaded. Remember that we can open the image (raster data) using rasterio and visualize it."
   ]
  },
  {
   "cell_type": "code",
   "execution_count": null,
   "id": "1996ac7f-b0df-4e24-9029-8a79e3fcdd37",
   "metadata": {},
   "outputs": [],
   "source": [
    "with rasterio.open(filename, 'r') as ds:\n",
    "    img = ds.read()  # read all raster values\n",
    "\n",
    "img = img[0:12,:,:] # 12 spectral bands\n",
    "img = np.transpose(img, [1, 2, 0]) # numpy array [row, col, bands]\n",
    "print(img.shape)  \n"
   ]
  },
  {
   "cell_type": "code",
   "execution_count": null,
   "id": "2aa7aab7-b341-4e2b-ac19-1a3466109dc1",
   "metadata": {},
   "outputs": [],
   "source": [
    "# B2-->Blue\n",
    "# B3-->Green\n",
    "# B4-->Red\n",
    "\n",
    "# remember the indexes in NumPy arrays start with 0 --> bands begin from 0!\n",
    "\n",
    "img_rgb = img[:,:,[3,2,1]]\n",
    "print(img_rgb.shape)"
   ]
  },
  {
   "cell_type": "code",
   "execution_count": null,
   "id": "4204bba5-de0e-49ed-b499-07e9ea98d17a",
   "metadata": {},
   "outputs": [],
   "source": [
    "# This function normalizes each rgb band and helps you to have a better visualization.\n",
    "\n",
    "def MyNormalize(img_i,sigma):\n",
    "    nr,nc,nb = img_i.shape\n",
    "    img_n = np.zeros(shape=(nr,nc,nb))\n",
    "    for i in range(0,nb):\n",
    "        one_band = img_i[:,:,i]\n",
    "        mi = np.min(one_band)\n",
    "        ma = np.max(one_band)\n",
    "        one_band = (one_band-mi)/(ma-mi+np.finfo(float).eps)\n",
    "        img_n[:,:,i] = sigma*one_band\n",
    "    return img_n\n",
    "\n",
    "plt.imshow(MyNormalize(img_rgb,5))"
   ]
  },
  {
   "cell_type": "markdown",
   "id": "91841dcb-619e-448b-8b8a-6840bbc9ddae",
   "metadata": {},
   "source": [
    "You can also export an image to Google Drive using the following line of code. This could be useful for example for big images. Moreover, you can download an image collection using geemap tools. See [this tutorial](https://geemap.org/notebooks/11_export_image/#exporting-all-bands-as-one-single-image) for more details."
   ]
  },
  {
   "cell_type": "code",
   "execution_count": null,
   "id": "4896bc4d-747b-4ead-b8ec-fd3f5e66790c",
   "metadata": {},
   "outputs": [],
   "source": []
  },
  {
   "cell_type": "code",
   "execution_count": null,
   "id": "d450afe0-dd9d-470e-942f-d3205fae13a8",
   "metadata": {},
   "outputs": [],
   "source": []
  }
 ],
 "metadata": {
  "kernelspec": {
   "display_name": "Python",
   "language": "python",
   "name": "python3"
  },
  "language_info": {
   "codemirror_mode": {
    "name": "ipython",
    "version": 3
   },
   "file_extension": ".py",
   "mimetype": "text/x-python",
   "name": "python",
   "nbconvert_exporter": "python",
   "pygments_lexer": "ipython3",
   "version": "3.8.10"
  }
 },
 "nbformat": 4,
 "nbformat_minor": 5
}
