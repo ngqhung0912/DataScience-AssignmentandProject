{
 "cells": [
  {
   "cell_type": "code",
   "execution_count": 5,
   "outputs": [
    {
     "name": "stdout",
     "output_type": "stream",
     "text": [
      "[[ 1.47403023  0.        ]\n",
      " [-0.48839796  0.        ]\n",
      " [ 0.41476202  0.        ]\n",
      " [-1.54585167  0.        ]]\n",
      "-0.48839795738923225\n",
      "0.11751658852724571\n"
     ]
    }
   ],
   "source": [
    "from sklearn.cluster import KMeans\n",
    "import numpy as np\n",
    "\n",
    "# 0=mean, 1= variance, 100000=number of sampling points\n",
    "data=np.random.normal(0,1,100000)\n",
    "\n",
    "# expand the points into two dimensions, the second demension is 0.\n",
    "# only two dimensional data are accepted in lloyds algorithm.\n",
    "a=[]\n",
    "for d in data:\n",
    "    a.append([d,0])\n",
    "\n",
    "kmeans = KMeans(n_clusters=4, n_init=1).fit(a) #set 4 centroid points\n",
    "centroid = kmeans.cluster_centers_ # centroid points\n",
    "\n",
    "labels = kmeans.labels_\n",
    "\n",
    "print(centroid)\n",
    "print(centroid[1][0])\n",
    "\n",
    "# calculate the resulting expected distortion\n",
    "SE = 0.0\n",
    "for i in range(len(data)): #for each data point\n",
    "    x = data[i]   #get the value of point\n",
    "    label = labels[i]   # get the label of the point\n",
    "    category = centroid[label][0]  # get the centroid of that category\n",
    "    SE = SE + ((x-category)**2)  # calculte the squared error\n",
    "\n",
    "print(SE/len(data))"
   ],
   "metadata": {
    "collapsed": false
   }
  },
  {
   "cell_type": "markdown",
   "source": [],
   "metadata": {
    "collapsed": false
   }
  },
  {
   "cell_type": "code",
   "execution_count": 21,
   "outputs": [
    {
     "name": "stdout",
     "output_type": "stream",
     "text": [
      "Optimal quantization points: [ 0.41732924 -0.48747799  1.48070438 -1.55012916]\n",
      "Expected distortion: 0.1173633795743014\n"
     ]
    }
   ],
   "source": [
    "import numpy as np\n",
    "from sklearn.cluster import KMeans\n",
    "\n",
    "# Set the variance of X\n",
    "sigma = 1.0\n",
    "\n",
    "# Generate a sample of X\n",
    "X = np.random.normal(loc=0.0, scale=sigma, size=100000).reshape(-1, 1)\n",
    "\n",
    "# Set the number of quantization points\n",
    "num_points = 4\n",
    "\n",
    "# Use KMeans to find the optimal quantization points\n",
    "kmeans = KMeans(n_clusters=num_points, n_init=10, max_iter=10000, random_state=100)\n",
    "kmeans.fit(X)\n",
    "\n",
    "# Get the optimal quantization points\n",
    "quantization_points = kmeans.cluster_centers_.flatten()\n",
    "\n",
    "# Calculate the expected distortion\n",
    "distortion = np.mean(np.min(np.square(X - quantization_points), axis=1))\n",
    "\n",
    "\n",
    "print(\"Optimal quantization points:\", quantization_points)\n",
    "print(\"Expected distortion:\", distortion * sigma**2)\n",
    "# --------------\n",
    "# Optimal quantization points: [-1.49874201  1.51835201  0.46384294 -0.43741814]\n",
    "# Expected distortion: 0.11822096947455644"
   ],
   "metadata": {
    "collapsed": false
   }
  },
  {
   "cell_type": "code",
   "execution_count": null,
   "outputs": [],
   "source": [],
   "metadata": {
    "collapsed": false
   }
  }
 ],
 "metadata": {
  "kernelspec": {
   "display_name": "Python 3",
   "language": "python",
   "name": "python3"
  },
  "language_info": {
   "codemirror_mode": {
    "name": "ipython",
    "version": 2
   },
   "file_extension": ".py",
   "mimetype": "text/x-python",
   "name": "python",
   "nbconvert_exporter": "python",
   "pygments_lexer": "ipython2",
   "version": "2.7.6"
  }
 },
 "nbformat": 4,
 "nbformat_minor": 0
}
