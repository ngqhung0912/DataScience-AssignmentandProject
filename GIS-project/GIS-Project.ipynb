{
 "cells": [
  {
   "cell_type": "code",
   "execution_count": 1,
   "metadata": {},
   "outputs": [],
   "source": [
    "import ee\n",
    "\n",
    "\n",
    "# ee.Authenticate()"
   ]
  },
  {
   "cell_type": "code",
   "execution_count": 2,
   "metadata": {},
   "outputs": [
    {
     "name": "stdout",
     "output_type": "stream",
     "text": [
      "Google Earth Engine has initialized successfully!\n"
     ]
    }
   ],
   "source": [
    "import sys\n",
    "\n",
    "try:\n",
    "    # Initialize the library.\n",
    "    ee.Initialize()\n",
    "    print('Google Earth Engine has initialized successfully!')\n",
    "except ee.EEException as e:\n",
    "    print(e)\n",
    "    print('Google Earth Engine has failed to initialize!')\n",
    "except:\n",
    "    print(\"Unexpected error:\", sys.exc_info()[0])\n",
    "    raise\n"
   ]
  },
  {
   "cell_type": "code",
   "execution_count": 13,
   "metadata": {},
   "outputs": [
    {
     "data": {
      "application/vnd.jupyter.widget-view+json": {
       "model_id": "2d4ca272670b4737acfb98384537ed69",
       "version_major": 2,
       "version_minor": 0
      },
      "text/plain": [
       "Map(center=[50.424573, 10.822447], controls=(WidgetControl(options=['position', 'transparent_bg'], widget=HBox…"
      ]
     },
     "metadata": {},
     "output_type": "display_data"
    }
   ],
   "source": [
    "import geemap\n",
    "# Map1 = geemap.Map(center=[50.424573, 10.822447], zoom=15)\n",
    "# Map1.addLayer(img2, vis_params, \"MedianImage\", True) \n",
    "# Map1\n"
   ]
  },
  {
   "cell_type": "code",
   "execution_count": 17,
   "metadata": {},
   "outputs": [],
   "source": [
    "# fc = ee.FeatureCollection(Map1.draw_last_feature)\n",
    "# region = fc.geometry()\n",
    "# cords = region.getInfo()['coordinates']\n",
    "# cords"
   ]
  },
  {
   "cell_type": "code",
   "execution_count": 39,
   "metadata": {},
   "outputs": [],
   "source": [
    "region = ee.Geometry.Polygon([[[10.821064, 50.428389],\n",
    "  [10.818103, 50.427378],\n",
    "  [10.817845, 50.424343],\n",
    "  [10.816343, 50.423031],\n",
    "  [10.817545, 50.421964],\n",
    "  [10.817802, 50.419203],\n",
    "  [10.818875, 50.41841],\n",
    "  [10.820635, 50.419285],\n",
    "  [10.819948, 50.419914],\n",
    "  [10.82042, 50.422183],\n",
    "  [10.822094, 50.421964],\n",
    "  [10.823382, 50.421335],\n",
    "  [10.823339, 50.420843],\n",
    "  [10.823768, 50.42046],\n",
    "  [10.828017, 50.424234],\n",
    "  [10.82969, 50.424534],\n",
    "  [10.83072, 50.42437],\n",
    "  [10.831064, 50.425382],\n",
    "  [10.823167, 50.427077],\n",
    "  [10.821064, 50.428389]]])"
   ]
  },
  {
   "cell_type": "code",
   "execution_count": 40,
   "metadata": {},
   "outputs": [
    {
     "name": "stdout",
     "output_type": "stream",
     "text": [
      "Number of images in the collection:  ['20170616T102021_20170616T102331_T32UPA', '20170619T103021_20170619T103021_T32UPA', '20170719T103021_20170719T103023_T32UPA', '20170805T102031_20170805T102535_T32UPA', '20170815T102021_20170815T102513_T32UPA', '20170825T102021_20170825T102114_T32UPA']\n"
     ]
    }
   ],
   "source": [
    "myCollection = ee.ImageCollection('COPERNICUS/S2_SR_HARMONIZED') \\\n",
    "    .filterBounds(region) \\\n",
    "    .filterDate('2017-06-01', '2017-08-30') \\\n",
    "    .filterMetadata('CLOUDY_PIXEL_PERCENTAGE', 'less_than', 50)"
   ]
  },
  {
   "cell_type": "code",
   "execution_count": 41,
   "metadata": {},
   "outputs": [],
   "source": [
    "listOfImages = myCollection.aggregate_array('system:index').getInfo()\n",
    "print('Number of images in the collection: ', listOfImages)"
   ]
  },
  {
   "cell_type": "code",
   "execution_count": 36,
   "metadata": {},
   "outputs": [
    {
     "data": {
      "application/vnd.jupyter.widget-view+json": {
       "model_id": "5f2587dc7a0b42609449df356a71781a",
       "version_major": 2,
       "version_minor": 0
      },
      "text/plain": [
       "Map(center=[50.414346, 10.827031], controls=(WidgetControl(options=['position', 'transparent_bg'], widget=HBox…"
      ]
     },
     "metadata": {},
     "output_type": "display_data"
    }
   ],
   "source": [
    "vis_params = {\"min\": 0, \n",
    "              \"max\": 1500, \n",
    "              \"bands\": [\"B4\", \"B3\", \"B2\"]}\n"
   ]
  },
  {
   "cell_type": "code",
   "execution_count": 23,
   "metadata": {},
   "outputs": [
    {
     "name": "stdout",
     "output_type": "stream",
     "text": [
      "['20170815T102021_20170815T102513_T32UPA', '20170825T102021_20170825T102114_T32UPA']\n"
     ]
    },
    {
     "data": {
      "application/vnd.jupyter.widget-view+json": {
       "model_id": "454920298ef342848117756e1191e283",
       "version_major": 2,
       "version_minor": 0
      },
      "text/plain": [
       "Map(center=[50.414346, 10.827031], controls=(WidgetControl(options=['position', 'transparent_bg'], widget=HBox…"
      ]
     },
     "metadata": {},
     "output_type": "display_data"
    }
   ],
   "source": [
    "Map2 = geemap.Map(center=[50.414346, 10.827031], zoom=15)\n",
    "img2 = myCollection.median().clip(region)\n",
    "Map2.addLayer(img2, vis_params, \"MedianImage\", True) \n",
    "Map2"
   ]
  },
  {
   "cell_type": "code",
   "execution_count": 25,
   "metadata": {},
   "outputs": [
    {
     "name": "stdout",
     "output_type": "stream",
     "text": [
      "['20170825T102021_20170825T102114_T32UPA']\n"
     ]
    },
    {
     "data": {
      "application/vnd.jupyter.widget-view+json": {
       "model_id": "bbd496cb32a945eebbe1b8d6c0033603",
       "version_major": 2,
       "version_minor": 0
      },
      "text/plain": [
       "Map(center=[50.414346, 10.827031], controls=(WidgetControl(options=['position', 'transparent_bg'], widget=HBox…"
      ]
     },
     "metadata": {},
     "output_type": "display_data"
    }
   ],
   "source": [
    "myCollection = ee.ImageCollection('COPERNICUS/S2_SR_HARMONIZED') \\\n",
    "    .filterBounds(region) \\\n",
    "    .filterDate('2017-08-7', '2017-08-30') \\\n",
    "    .filterMetadata('CLOUDY_PIXEL_PERCENTAGE', 'less_than', 50)\n",
    "print(myCollection.aggregate_array('system:index').getInfo())\n",
    "Map3 = geemap.Map(center=[50.414346, 10.827031], zoom=15)\n",
    "img3 = myCollection.first().clip(region)\n",
    "Map3.addLayer(img3, vis_params, \"MedianImage\", True) \n",
    "Map3"
   ]
  },
  {
   "cell_type": "code",
   "execution_count": 42,
   "metadata": {},
   "outputs": [
    {
     "name": "stdout",
     "output_type": "stream",
     "text": [
      "The ee_object must be an ee.Image.\n"
     ]
    }
   ],
   "source": [
    "myCollection = ee.ImageCollection('COPERNICUS/S2_SR_HARMONIZED') \\\n",
    "    .filterBounds(region) \\\n",
    "    .filterDate('2017-08-16', '2017-08-30') \\\n",
    "    .filterMetadata('CLOUDY_PIXEL_PERCENTAGE', 'less_than', 50)\n",
    "print(myCollection.aggregate_array('system:index').getInfo())\n",
    "Map3 = geemap.Map(center=[50.414346, 10.827031], zoom=15)\n",
    "img3 = myCollection.first().clip(region)\n",
    "Map3.addLayer(img3, vis_params, \"MedianImage\", True) \n",
    "Map3"
   ]
  },
  {
   "cell_type": "code",
   "execution_count": 44,
   "metadata": {},
   "outputs": [],
   "source": [
    "import os\n",
    "\n",
    "out_dir = os.path.join(os.path.expanduser('~'), 'KasAndBrot')\n",
    "filename = out_dir + myCollection.aggregate_array('system:index').getInfo()[0] + '.tif'\n",
    "geemap.ee_export_image(\n",
    "    myCollection, filename=filename, scale=30, region=region, file_per_band=False\n",
    ")"
   ]
  },
  {
   "cell_type": "code",
   "execution_count": 50,
   "metadata": {},
   "outputs": [
    {
     "data": {
      "text/plain": [
       "<matplotlib.image.AxesImage at 0x14491b8b0>"
      ]
     },
     "execution_count": 50,
     "metadata": {},
     "output_type": "execute_result"
    },
    {
     "data": {
      "image/png": "[encoded data removed]",
      "text/plain": [
       "<Figure size 640x480 with 1 Axes>"
      ]
     },
     "metadata": {},
     "output_type": "display_data"
    }
   ],
   "source": [
    "import geetools\n",
    "#for band in bands:\n",
    "tasks = geetools.batch.Export.imagecollection.toDrive(\n",
    "    collection=myCollection, \n",
    "    folder='KasAndBrot',\n",
    "    scale= 20000,\n",
    "    #namePattern= name_pattern,\n",
    "    region= region)"
   ]
  },
  {
   "cell_type": "code",
   "execution_count": null,
   "metadata": {},
   "outputs": [],
   "source": [
    "import matplotlib.pyplot as plt\n",
    "import rasterio\n",
    "import numpy as np \n",
    "with rasterio.open(\"KasAndBrot/20170616T102021_20170616T102331_T32UPA.tif\", 'r') as ds:\n",
    "    img = ds.read()  # read all raster values\n",
    "\n",
    "img = img[0:12,:,:] # 12 spectral bands\n",
    "img = np.transpose(img, [1, 2, 0]) # numpy array [row, col, bands]\n",
    "\n",
    "img_rgb = img[:,:,[3,2,1]]\n",
    "\n",
    "def MyNormalize(img_i,sigma):\n",
    "    nr,nc,nb = img_i.shape\n",
    "    img_n = np.zeros(shape=(nr,nc,nb))\n",
    "    for i in range(0,nb):\n",
    "        one_band = img_i[:,:,i]\n",
    "        mi = np.min(one_band)\n",
    "        ma = np.max(one_band)\n",
    "        one_band = (one_band-mi)/(ma-mi+np.finfo(float).eps)\n",
    "        img_n[:,:,i] = sigma*one_band\n",
    "    return img_n\n",
    "\n",
    "plt.imshow(MyNormalize(img_rgb,1))\n",
    "\n"
   ]
  },
  {
   "cell_type": "code",
   "execution_count": null,
   "outputs": [],
   "source": [],
   "metadata": {
    "collapsed": false
   }
  }
 ],
 "metadata": {
  "kernelspec": {
   "display_name": "Python 3 (ipykernel)",
   "language": "python",
   "name": "python3"
  },
  "language_info": {
   "codemirror_mode": {
    "name": "ipython",
    "version": 3
   },
   "file_extension": ".py",
   "mimetype": "text/x-python",
   "name": "python",
   "nbconvert_exporter": "python",
   "pygments_lexer": "ipython3",
   "version": "3.10.9"
  }
 },
 "nbformat": 4,
 "nbformat_minor": 1
}
