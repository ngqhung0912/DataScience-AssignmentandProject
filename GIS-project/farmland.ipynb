{
 "cells": [
  {
   "cell_type": "code",
   "execution_count": 4,
   "metadata": {},
   "outputs": [
    {
     "data": {
      "text/html": [
       "<p>To authorize access needed by Earth Engine, open the following\n",
       "        URL in a web browser and follow the instructions:</p>\n",
       "        <p><a href=https://code.earthengine.google.com/client-auth?scopes=https%3A//www.googleapis.com/auth/earthengine%20https%3A//www.googleapis.com/auth/devstorage.full_control&request_id=1mD01YFgqRPiwTHD5t44cbCMywzbFWHbhfp_IrD2px8&tc=q2dh7o9kpMJ2d3QX6qjO78JAmnEuPd4vQnIJfoWmoUs&cc=DJAl9AUUlI0RifpDR7cXNEkL23qoniSeYqAPCu2tGHU>https://code.earthengine.google.com/client-auth?scopes=https%3A//www.googleapis.com/auth/earthengine%20https%3A//www.googleapis.com/auth/devstorage.full_control&request_id=1mD01YFgqRPiwTHD5t44cbCMywzbFWHbhfp_IrD2px8&tc=q2dh7o9kpMJ2d3QX6qjO78JAmnEuPd4vQnIJfoWmoUs&cc=DJAl9AUUlI0RifpDR7cXNEkL23qoniSeYqAPCu2tGHU</a></p>\n",
       "        <p>The authorization workflow will generate a code, which you should paste in the box below.</p>\n",
       "        "
      ],
      "text/plain": [
       "<IPython.core.display.HTML object>"
      ]
     },
     "metadata": {},
     "output_type": "display_data"
    },
    {
     "name": "stdout",
     "output_type": "stream",
     "text": [
      "\n",
      "Successfully saved authorization token.\n",
      "Google Earth Engine has initialized successfully!\n"
     ]
    }
   ],
   "source": [
    "import sys\n",
    "import os\n",
    "import ee\n",
    "import geemap\n",
    "import rasterio\n",
    "import requests\n",
    "from io import BytesIO\n",
    "import matplotlib.pyplot as plt\n",
    "import numpy as np\n",
    "import matplotlib.colors as colors\n",
    "\n",
    "out_dir = os.path.join(os.path.expanduser('~'), 'Downloads')\n",
    "filename = os.path.join(out_dir, 'Enschede_Farmland.tif')\n",
    "filename_corine = os.path.join(out_dir, 'Enschede_Farmland_Corine.tif')\n",
    "\n",
    "try:\n",
    "    # Initialize the library.\n",
    "    ee.Authenticate()\n",
    "    ee.Initialize()\n",
    "    print('Google Earth Engine has initialized successfully!')\n",
    "except ee.EEException as e:\n",
    "    print('Google Earth Engine has failed to initialize!')\n",
    "except:\n",
    "    print(\"Unexpected error:\", sys.exc_info()[0])\n",
    "    raise\n"
   ]
  },
  {
   "cell_type": "code",
   "execution_count": 10,
   "metadata": {},
   "outputs": [],
   "source": [
    "#define region to look at\n",
    "region = ee.Geometry.Polygon([[[6.75627, 52.133732],\n",
    "  [6.85618, 52.133732],\n",
    "  [6.85618, 52.170806],\n",
    "  [6.75627, 52.170806],\n",
    "  [6.75627, 52.133732]]]\n",
    ")"
   ]
  },
  {
   "cell_type": "code",
   "execution_count": 5,
   "metadata": {},
   "outputs": [],
   "source": [
    "# Some visualization parameters:\n",
    "# - Values to map to 0 and values to map to 255.\n",
    "# - Three bands to be combined as an rgb image\n",
    "\n",
    "# You can try changing these parameters and check the result!\n",
    "\n",
    "vis_params = {\"min\": 0,\n",
    "              \"max\": 1500,\n",
    "              \"bands\": [\"B4\", \"B3\", \"B2\"]}\n",
    "vis_params_corine = {\"min\": 0,\n",
    "              \"max\": 1500}\n"
   ]
  },
  {
   "cell_type": "code",
   "execution_count": 30,
   "metadata": {},
   "outputs": [
    {
     "data": {
      "application/vnd.jupyter.widget-view+json": {
       "model_id": "25b5429088a0437d89244e07c3798f75",
       "version_major": 2,
       "version_minor": 0
      },
      "text/plain": [
       "Map(center=[52.191838, 6.741434], controls=(WidgetControl(options=['position', 'transparent_bg'], widget=HBox(…"
      ]
     },
     "metadata": {},
     "output_type": "display_data"
    },
    {
     "ename": "TraitError",
     "evalue": "The 'east' trait of a Map instance expected a float, not the NoneType None.",
     "output_type": "error",
     "traceback": [
      "\u001B[0;31m---------------------------------------------------------------------------\u001B[0m",
      "\u001B[0;31mTraitError\u001B[0m                                Traceback (most recent call last)",
      "File \u001B[0;32m~/miniforge3/envs/DS-CVassignment/lib/python3.10/site-packages/ipywidgets/widgets/widget.py:756\u001B[0m, in \u001B[0;36mWidget._handle_msg\u001B[0;34m(self, msg)\u001B[0m\n\u001B[1;32m    754\u001B[0m         \u001B[38;5;28;01mif\u001B[39;00m \u001B[38;5;124m'\u001B[39m\u001B[38;5;124mbuffer_paths\u001B[39m\u001B[38;5;124m'\u001B[39m \u001B[38;5;129;01min\u001B[39;00m data:\n\u001B[1;32m    755\u001B[0m             _put_buffers(state, data[\u001B[38;5;124m'\u001B[39m\u001B[38;5;124mbuffer_paths\u001B[39m\u001B[38;5;124m'\u001B[39m], msg[\u001B[38;5;124m'\u001B[39m\u001B[38;5;124mbuffers\u001B[39m\u001B[38;5;124m'\u001B[39m])\n\u001B[0;32m--> 756\u001B[0m         \u001B[38;5;28;43mself\u001B[39;49m\u001B[38;5;241;43m.\u001B[39;49m\u001B[43mset_state\u001B[49m\u001B[43m(\u001B[49m\u001B[43mstate\u001B[49m\u001B[43m)\u001B[49m\n\u001B[1;32m    758\u001B[0m \u001B[38;5;66;03m# Handle a state request.\u001B[39;00m\n\u001B[1;32m    759\u001B[0m \u001B[38;5;28;01melif\u001B[39;00m method \u001B[38;5;241m==\u001B[39m \u001B[38;5;124m'\u001B[39m\u001B[38;5;124mrequest_state\u001B[39m\u001B[38;5;124m'\u001B[39m:\n",
      "File \u001B[0;32m~/miniforge3/envs/DS-CVassignment/lib/python3.10/site-packages/ipywidgets/widgets/widget.py:625\u001B[0m, in \u001B[0;36mWidget.set_state\u001B[0;34m(self, sync_data)\u001B[0m\n\u001B[1;32m    622\u001B[0m \u001B[38;5;28;01mif\u001B[39;00m name \u001B[38;5;129;01min\u001B[39;00m \u001B[38;5;28mself\u001B[39m\u001B[38;5;241m.\u001B[39mkeys:\n\u001B[1;32m    623\u001B[0m     from_json \u001B[38;5;241m=\u001B[39m \u001B[38;5;28mself\u001B[39m\u001B[38;5;241m.\u001B[39mtrait_metadata(name, \u001B[38;5;124m'\u001B[39m\u001B[38;5;124mfrom_json\u001B[39m\u001B[38;5;124m'\u001B[39m,\n\u001B[1;32m    624\u001B[0m                                     \u001B[38;5;28mself\u001B[39m\u001B[38;5;241m.\u001B[39m_trait_from_json)\n\u001B[0;32m--> 625\u001B[0m     \u001B[38;5;28;43mself\u001B[39;49m\u001B[38;5;241;43m.\u001B[39;49m\u001B[43mset_trait\u001B[49m\u001B[43m(\u001B[49m\u001B[43mname\u001B[49m\u001B[43m,\u001B[49m\u001B[43m \u001B[49m\u001B[43mfrom_json\u001B[49m\u001B[43m(\u001B[49m\u001B[43msync_data\u001B[49m\u001B[43m[\u001B[49m\u001B[43mname\u001B[49m\u001B[43m]\u001B[49m\u001B[43m,\u001B[49m\u001B[43m \u001B[49m\u001B[38;5;28;43mself\u001B[39;49m\u001B[43m)\u001B[49m\u001B[43m)\u001B[49m\n",
      "File \u001B[0;32m~/miniforge3/envs/DS-CVassignment/lib/python3.10/site-packages/traitlets/traitlets.py:1738\u001B[0m, in \u001B[0;36mHasTraits.set_trait\u001B[0;34m(self, name, value)\u001B[0m\n\u001B[1;32m   1736\u001B[0m     \u001B[38;5;28;01mraise\u001B[39;00m TraitError(\u001B[38;5;124mf\u001B[39m\u001B[38;5;124m\"\u001B[39m\u001B[38;5;124mClass \u001B[39m\u001B[38;5;132;01m{\u001B[39;00m\u001B[38;5;28mcls\u001B[39m\u001B[38;5;241m.\u001B[39m\u001B[38;5;18m__name__\u001B[39m\u001B[38;5;132;01m}\u001B[39;00m\u001B[38;5;124m does not have a trait named \u001B[39m\u001B[38;5;132;01m{\u001B[39;00mname\u001B[38;5;132;01m}\u001B[39;00m\u001B[38;5;124m\"\u001B[39m)\n\u001B[1;32m   1737\u001B[0m \u001B[38;5;28;01melse\u001B[39;00m:\n\u001B[0;32m-> 1738\u001B[0m     \u001B[38;5;28;43mgetattr\u001B[39;49m\u001B[43m(\u001B[49m\u001B[38;5;28;43mcls\u001B[39;49m\u001B[43m,\u001B[49m\u001B[43m \u001B[49m\u001B[43mname\u001B[49m\u001B[43m)\u001B[49m\u001B[38;5;241;43m.\u001B[39;49m\u001B[43mset\u001B[49m\u001B[43m(\u001B[49m\u001B[38;5;28;43mself\u001B[39;49m\u001B[43m,\u001B[49m\u001B[43m \u001B[49m\u001B[43mvalue\u001B[49m\u001B[43m)\u001B[49m\n",
      "File \u001B[0;32m~/miniforge3/envs/DS-CVassignment/lib/python3.10/site-packages/traitlets/traitlets.py:703\u001B[0m, in \u001B[0;36mTraitType.set\u001B[0;34m(self, obj, value)\u001B[0m\n\u001B[1;32m    702\u001B[0m \u001B[38;5;28;01mdef\u001B[39;00m \u001B[38;5;21mset\u001B[39m(\u001B[38;5;28mself\u001B[39m, obj, value):\n\u001B[0;32m--> 703\u001B[0m     new_value \u001B[38;5;241m=\u001B[39m \u001B[38;5;28;43mself\u001B[39;49m\u001B[38;5;241;43m.\u001B[39;49m\u001B[43m_validate\u001B[49m\u001B[43m(\u001B[49m\u001B[43mobj\u001B[49m\u001B[43m,\u001B[49m\u001B[43m \u001B[49m\u001B[43mvalue\u001B[49m\u001B[43m)\u001B[49m\n\u001B[1;32m    704\u001B[0m     \u001B[38;5;28;01mtry\u001B[39;00m:\n\u001B[1;32m    705\u001B[0m         old_value \u001B[38;5;241m=\u001B[39m obj\u001B[38;5;241m.\u001B[39m_trait_values[\u001B[38;5;28mself\u001B[39m\u001B[38;5;241m.\u001B[39mname]\n",
      "File \u001B[0;32m~/miniforge3/envs/DS-CVassignment/lib/python3.10/site-packages/traitlets/traitlets.py:735\u001B[0m, in \u001B[0;36mTraitType._validate\u001B[0;34m(self, obj, value)\u001B[0m\n\u001B[1;32m    733\u001B[0m     \u001B[38;5;28;01mreturn\u001B[39;00m value\n\u001B[1;32m    734\u001B[0m \u001B[38;5;28;01mif\u001B[39;00m \u001B[38;5;28mhasattr\u001B[39m(\u001B[38;5;28mself\u001B[39m, \u001B[38;5;124m\"\u001B[39m\u001B[38;5;124mvalidate\u001B[39m\u001B[38;5;124m\"\u001B[39m):\n\u001B[0;32m--> 735\u001B[0m     value \u001B[38;5;241m=\u001B[39m \u001B[38;5;28;43mself\u001B[39;49m\u001B[38;5;241;43m.\u001B[39;49m\u001B[43mvalidate\u001B[49m\u001B[43m(\u001B[49m\u001B[43mobj\u001B[49m\u001B[43m,\u001B[49m\u001B[43m \u001B[49m\u001B[43mvalue\u001B[49m\u001B[43m)\u001B[49m\n\u001B[1;32m    736\u001B[0m \u001B[38;5;28;01mif\u001B[39;00m obj\u001B[38;5;241m.\u001B[39m_cross_validation_lock \u001B[38;5;129;01mis\u001B[39;00m \u001B[38;5;28;01mFalse\u001B[39;00m:\n\u001B[1;32m    737\u001B[0m     value \u001B[38;5;241m=\u001B[39m \u001B[38;5;28mself\u001B[39m\u001B[38;5;241m.\u001B[39m_cross_validate(obj, value)\n",
      "File \u001B[0;32m~/miniforge3/envs/DS-CVassignment/lib/python3.10/site-packages/traitlets/traitlets.py:2417\u001B[0m, in \u001B[0;36mFloat.validate\u001B[0;34m(self, obj, value)\u001B[0m\n\u001B[1;32m   2415\u001B[0m     value \u001B[38;5;241m=\u001B[39m \u001B[38;5;28mfloat\u001B[39m(value)\n\u001B[1;32m   2416\u001B[0m \u001B[38;5;28;01mif\u001B[39;00m \u001B[38;5;129;01mnot\u001B[39;00m \u001B[38;5;28misinstance\u001B[39m(value, \u001B[38;5;28mfloat\u001B[39m):\n\u001B[0;32m-> 2417\u001B[0m     \u001B[38;5;28;43mself\u001B[39;49m\u001B[38;5;241;43m.\u001B[39;49m\u001B[43merror\u001B[49m\u001B[43m(\u001B[49m\u001B[43mobj\u001B[49m\u001B[43m,\u001B[49m\u001B[43m \u001B[49m\u001B[43mvalue\u001B[49m\u001B[43m)\u001B[49m\n\u001B[1;32m   2418\u001B[0m \u001B[38;5;28;01mreturn\u001B[39;00m _validate_bounds(\u001B[38;5;28mself\u001B[39m, obj, value)\n",
      "File \u001B[0;32m~/miniforge3/envs/DS-CVassignment/lib/python3.10/site-packages/traitlets/traitlets.py:841\u001B[0m, in \u001B[0;36mTraitType.error\u001B[0;34m(self, obj, value, error, info)\u001B[0m\n\u001B[1;32m    835\u001B[0m \u001B[38;5;28;01melse\u001B[39;00m:\n\u001B[1;32m    836\u001B[0m     e \u001B[38;5;241m=\u001B[39m \u001B[38;5;124m\"\u001B[39m\u001B[38;5;124mThe \u001B[39m\u001B[38;5;124m'\u001B[39m\u001B[38;5;132;01m{}\u001B[39;00m\u001B[38;5;124m'\u001B[39m\u001B[38;5;124m trait expected \u001B[39m\u001B[38;5;132;01m{}\u001B[39;00m\u001B[38;5;124m, not \u001B[39m\u001B[38;5;132;01m{}\u001B[39;00m\u001B[38;5;124m.\u001B[39m\u001B[38;5;124m\"\u001B[39m\u001B[38;5;241m.\u001B[39mformat(\n\u001B[1;32m    837\u001B[0m         \u001B[38;5;28mself\u001B[39m\u001B[38;5;241m.\u001B[39mname,\n\u001B[1;32m    838\u001B[0m         \u001B[38;5;28mself\u001B[39m\u001B[38;5;241m.\u001B[39minfo(),\n\u001B[1;32m    839\u001B[0m         describe(\u001B[38;5;124m\"\u001B[39m\u001B[38;5;124mthe\u001B[39m\u001B[38;5;124m\"\u001B[39m, value),\n\u001B[1;32m    840\u001B[0m     )\n\u001B[0;32m--> 841\u001B[0m \u001B[38;5;28;01mraise\u001B[39;00m TraitError(e)\n",
      "\u001B[0;31mTraitError\u001B[0m: The 'east' trait of a Map instance expected a float, not the NoneType None."
     ]
    },
    {
     "ename": "TraitError",
     "evalue": "The 'east' trait of a Map instance expected a float, not the NoneType None.",
     "output_type": "error",
     "traceback": [
      "\u001B[0;31m---------------------------------------------------------------------------\u001B[0m",
      "\u001B[0;31mTraitError\u001B[0m                                Traceback (most recent call last)",
      "File \u001B[0;32m~/miniforge3/envs/DS-CVassignment/lib/python3.10/site-packages/ipywidgets/widgets/widget.py:756\u001B[0m, in \u001B[0;36mWidget._handle_msg\u001B[0;34m(self, msg)\u001B[0m\n\u001B[1;32m    754\u001B[0m         \u001B[38;5;28;01mif\u001B[39;00m \u001B[38;5;124m'\u001B[39m\u001B[38;5;124mbuffer_paths\u001B[39m\u001B[38;5;124m'\u001B[39m \u001B[38;5;129;01min\u001B[39;00m data:\n\u001B[1;32m    755\u001B[0m             _put_buffers(state, data[\u001B[38;5;124m'\u001B[39m\u001B[38;5;124mbuffer_paths\u001B[39m\u001B[38;5;124m'\u001B[39m], msg[\u001B[38;5;124m'\u001B[39m\u001B[38;5;124mbuffers\u001B[39m\u001B[38;5;124m'\u001B[39m])\n\u001B[0;32m--> 756\u001B[0m         \u001B[38;5;28;43mself\u001B[39;49m\u001B[38;5;241;43m.\u001B[39;49m\u001B[43mset_state\u001B[49m\u001B[43m(\u001B[49m\u001B[43mstate\u001B[49m\u001B[43m)\u001B[49m\n\u001B[1;32m    758\u001B[0m \u001B[38;5;66;03m# Handle a state request.\u001B[39;00m\n\u001B[1;32m    759\u001B[0m \u001B[38;5;28;01melif\u001B[39;00m method \u001B[38;5;241m==\u001B[39m \u001B[38;5;124m'\u001B[39m\u001B[38;5;124mrequest_state\u001B[39m\u001B[38;5;124m'\u001B[39m:\n",
      "File \u001B[0;32m~/miniforge3/envs/DS-CVassignment/lib/python3.10/site-packages/ipywidgets/widgets/widget.py:625\u001B[0m, in \u001B[0;36mWidget.set_state\u001B[0;34m(self, sync_data)\u001B[0m\n\u001B[1;32m    622\u001B[0m \u001B[38;5;28;01mif\u001B[39;00m name \u001B[38;5;129;01min\u001B[39;00m \u001B[38;5;28mself\u001B[39m\u001B[38;5;241m.\u001B[39mkeys:\n\u001B[1;32m    623\u001B[0m     from_json \u001B[38;5;241m=\u001B[39m \u001B[38;5;28mself\u001B[39m\u001B[38;5;241m.\u001B[39mtrait_metadata(name, \u001B[38;5;124m'\u001B[39m\u001B[38;5;124mfrom_json\u001B[39m\u001B[38;5;124m'\u001B[39m,\n\u001B[1;32m    624\u001B[0m                                     \u001B[38;5;28mself\u001B[39m\u001B[38;5;241m.\u001B[39m_trait_from_json)\n\u001B[0;32m--> 625\u001B[0m     \u001B[38;5;28;43mself\u001B[39;49m\u001B[38;5;241;43m.\u001B[39;49m\u001B[43mset_trait\u001B[49m\u001B[43m(\u001B[49m\u001B[43mname\u001B[49m\u001B[43m,\u001B[49m\u001B[43m \u001B[49m\u001B[43mfrom_json\u001B[49m\u001B[43m(\u001B[49m\u001B[43msync_data\u001B[49m\u001B[43m[\u001B[49m\u001B[43mname\u001B[49m\u001B[43m]\u001B[49m\u001B[43m,\u001B[49m\u001B[43m \u001B[49m\u001B[38;5;28;43mself\u001B[39;49m\u001B[43m)\u001B[49m\u001B[43m)\u001B[49m\n",
      "File \u001B[0;32m~/miniforge3/envs/DS-CVassignment/lib/python3.10/site-packages/traitlets/traitlets.py:1738\u001B[0m, in \u001B[0;36mHasTraits.set_trait\u001B[0;34m(self, name, value)\u001B[0m\n\u001B[1;32m   1736\u001B[0m     \u001B[38;5;28;01mraise\u001B[39;00m TraitError(\u001B[38;5;124mf\u001B[39m\u001B[38;5;124m\"\u001B[39m\u001B[38;5;124mClass \u001B[39m\u001B[38;5;132;01m{\u001B[39;00m\u001B[38;5;28mcls\u001B[39m\u001B[38;5;241m.\u001B[39m\u001B[38;5;18m__name__\u001B[39m\u001B[38;5;132;01m}\u001B[39;00m\u001B[38;5;124m does not have a trait named \u001B[39m\u001B[38;5;132;01m{\u001B[39;00mname\u001B[38;5;132;01m}\u001B[39;00m\u001B[38;5;124m\"\u001B[39m)\n\u001B[1;32m   1737\u001B[0m \u001B[38;5;28;01melse\u001B[39;00m:\n\u001B[0;32m-> 1738\u001B[0m     \u001B[38;5;28;43mgetattr\u001B[39;49m\u001B[43m(\u001B[49m\u001B[38;5;28;43mcls\u001B[39;49m\u001B[43m,\u001B[49m\u001B[43m \u001B[49m\u001B[43mname\u001B[49m\u001B[43m)\u001B[49m\u001B[38;5;241;43m.\u001B[39;49m\u001B[43mset\u001B[49m\u001B[43m(\u001B[49m\u001B[38;5;28;43mself\u001B[39;49m\u001B[43m,\u001B[49m\u001B[43m \u001B[49m\u001B[43mvalue\u001B[49m\u001B[43m)\u001B[49m\n",
      "File \u001B[0;32m~/miniforge3/envs/DS-CVassignment/lib/python3.10/site-packages/traitlets/traitlets.py:703\u001B[0m, in \u001B[0;36mTraitType.set\u001B[0;34m(self, obj, value)\u001B[0m\n\u001B[1;32m    702\u001B[0m \u001B[38;5;28;01mdef\u001B[39;00m \u001B[38;5;21mset\u001B[39m(\u001B[38;5;28mself\u001B[39m, obj, value):\n\u001B[0;32m--> 703\u001B[0m     new_value \u001B[38;5;241m=\u001B[39m \u001B[38;5;28;43mself\u001B[39;49m\u001B[38;5;241;43m.\u001B[39;49m\u001B[43m_validate\u001B[49m\u001B[43m(\u001B[49m\u001B[43mobj\u001B[49m\u001B[43m,\u001B[49m\u001B[43m \u001B[49m\u001B[43mvalue\u001B[49m\u001B[43m)\u001B[49m\n\u001B[1;32m    704\u001B[0m     \u001B[38;5;28;01mtry\u001B[39;00m:\n\u001B[1;32m    705\u001B[0m         old_value \u001B[38;5;241m=\u001B[39m obj\u001B[38;5;241m.\u001B[39m_trait_values[\u001B[38;5;28mself\u001B[39m\u001B[38;5;241m.\u001B[39mname]\n",
      "File \u001B[0;32m~/miniforge3/envs/DS-CVassignment/lib/python3.10/site-packages/traitlets/traitlets.py:735\u001B[0m, in \u001B[0;36mTraitType._validate\u001B[0;34m(self, obj, value)\u001B[0m\n\u001B[1;32m    733\u001B[0m     \u001B[38;5;28;01mreturn\u001B[39;00m value\n\u001B[1;32m    734\u001B[0m \u001B[38;5;28;01mif\u001B[39;00m \u001B[38;5;28mhasattr\u001B[39m(\u001B[38;5;28mself\u001B[39m, \u001B[38;5;124m\"\u001B[39m\u001B[38;5;124mvalidate\u001B[39m\u001B[38;5;124m\"\u001B[39m):\n\u001B[0;32m--> 735\u001B[0m     value \u001B[38;5;241m=\u001B[39m \u001B[38;5;28;43mself\u001B[39;49m\u001B[38;5;241;43m.\u001B[39;49m\u001B[43mvalidate\u001B[49m\u001B[43m(\u001B[49m\u001B[43mobj\u001B[49m\u001B[43m,\u001B[49m\u001B[43m \u001B[49m\u001B[43mvalue\u001B[49m\u001B[43m)\u001B[49m\n\u001B[1;32m    736\u001B[0m \u001B[38;5;28;01mif\u001B[39;00m obj\u001B[38;5;241m.\u001B[39m_cross_validation_lock \u001B[38;5;129;01mis\u001B[39;00m \u001B[38;5;28;01mFalse\u001B[39;00m:\n\u001B[1;32m    737\u001B[0m     value \u001B[38;5;241m=\u001B[39m \u001B[38;5;28mself\u001B[39m\u001B[38;5;241m.\u001B[39m_cross_validate(obj, value)\n",
      "File \u001B[0;32m~/miniforge3/envs/DS-CVassignment/lib/python3.10/site-packages/traitlets/traitlets.py:2417\u001B[0m, in \u001B[0;36mFloat.validate\u001B[0;34m(self, obj, value)\u001B[0m\n\u001B[1;32m   2415\u001B[0m     value \u001B[38;5;241m=\u001B[39m \u001B[38;5;28mfloat\u001B[39m(value)\n\u001B[1;32m   2416\u001B[0m \u001B[38;5;28;01mif\u001B[39;00m \u001B[38;5;129;01mnot\u001B[39;00m \u001B[38;5;28misinstance\u001B[39m(value, \u001B[38;5;28mfloat\u001B[39m):\n\u001B[0;32m-> 2417\u001B[0m     \u001B[38;5;28;43mself\u001B[39;49m\u001B[38;5;241;43m.\u001B[39;49m\u001B[43merror\u001B[49m\u001B[43m(\u001B[49m\u001B[43mobj\u001B[49m\u001B[43m,\u001B[49m\u001B[43m \u001B[49m\u001B[43mvalue\u001B[49m\u001B[43m)\u001B[49m\n\u001B[1;32m   2418\u001B[0m \u001B[38;5;28;01mreturn\u001B[39;00m _validate_bounds(\u001B[38;5;28mself\u001B[39m, obj, value)\n",
      "File \u001B[0;32m~/miniforge3/envs/DS-CVassignment/lib/python3.10/site-packages/traitlets/traitlets.py:841\u001B[0m, in \u001B[0;36mTraitType.error\u001B[0;34m(self, obj, value, error, info)\u001B[0m\n\u001B[1;32m    835\u001B[0m \u001B[38;5;28;01melse\u001B[39;00m:\n\u001B[1;32m    836\u001B[0m     e \u001B[38;5;241m=\u001B[39m \u001B[38;5;124m\"\u001B[39m\u001B[38;5;124mThe \u001B[39m\u001B[38;5;124m'\u001B[39m\u001B[38;5;132;01m{}\u001B[39;00m\u001B[38;5;124m'\u001B[39m\u001B[38;5;124m trait expected \u001B[39m\u001B[38;5;132;01m{}\u001B[39;00m\u001B[38;5;124m, not \u001B[39m\u001B[38;5;132;01m{}\u001B[39;00m\u001B[38;5;124m.\u001B[39m\u001B[38;5;124m\"\u001B[39m\u001B[38;5;241m.\u001B[39mformat(\n\u001B[1;32m    837\u001B[0m         \u001B[38;5;28mself\u001B[39m\u001B[38;5;241m.\u001B[39mname,\n\u001B[1;32m    838\u001B[0m         \u001B[38;5;28mself\u001B[39m\u001B[38;5;241m.\u001B[39minfo(),\n\u001B[1;32m    839\u001B[0m         describe(\u001B[38;5;124m\"\u001B[39m\u001B[38;5;124mthe\u001B[39m\u001B[38;5;124m\"\u001B[39m, value),\n\u001B[1;32m    840\u001B[0m     )\n\u001B[0;32m--> 841\u001B[0m \u001B[38;5;28;01mraise\u001B[39;00m TraitError(e)\n",
      "\u001B[0;31mTraitError\u001B[0m: The 'east' trait of a Map instance expected a float, not the NoneType None."
     ]
    },
    {
     "ename": "TraitError",
     "evalue": "The 'east' trait of a Map instance expected a float, not the NoneType None.",
     "output_type": "error",
     "traceback": [
      "\u001B[0;31m---------------------------------------------------------------------------\u001B[0m",
      "\u001B[0;31mTraitError\u001B[0m                                Traceback (most recent call last)",
      "File \u001B[0;32m~/miniforge3/envs/DS-CVassignment/lib/python3.10/site-packages/ipywidgets/widgets/widget.py:756\u001B[0m, in \u001B[0;36mWidget._handle_msg\u001B[0;34m(self, msg)\u001B[0m\n\u001B[1;32m    754\u001B[0m         \u001B[38;5;28;01mif\u001B[39;00m \u001B[38;5;124m'\u001B[39m\u001B[38;5;124mbuffer_paths\u001B[39m\u001B[38;5;124m'\u001B[39m \u001B[38;5;129;01min\u001B[39;00m data:\n\u001B[1;32m    755\u001B[0m             _put_buffers(state, data[\u001B[38;5;124m'\u001B[39m\u001B[38;5;124mbuffer_paths\u001B[39m\u001B[38;5;124m'\u001B[39m], msg[\u001B[38;5;124m'\u001B[39m\u001B[38;5;124mbuffers\u001B[39m\u001B[38;5;124m'\u001B[39m])\n\u001B[0;32m--> 756\u001B[0m         \u001B[38;5;28;43mself\u001B[39;49m\u001B[38;5;241;43m.\u001B[39;49m\u001B[43mset_state\u001B[49m\u001B[43m(\u001B[49m\u001B[43mstate\u001B[49m\u001B[43m)\u001B[49m\n\u001B[1;32m    758\u001B[0m \u001B[38;5;66;03m# Handle a state request.\u001B[39;00m\n\u001B[1;32m    759\u001B[0m \u001B[38;5;28;01melif\u001B[39;00m method \u001B[38;5;241m==\u001B[39m \u001B[38;5;124m'\u001B[39m\u001B[38;5;124mrequest_state\u001B[39m\u001B[38;5;124m'\u001B[39m:\n",
      "File \u001B[0;32m~/miniforge3/envs/DS-CVassignment/lib/python3.10/site-packages/ipywidgets/widgets/widget.py:625\u001B[0m, in \u001B[0;36mWidget.set_state\u001B[0;34m(self, sync_data)\u001B[0m\n\u001B[1;32m    622\u001B[0m \u001B[38;5;28;01mif\u001B[39;00m name \u001B[38;5;129;01min\u001B[39;00m \u001B[38;5;28mself\u001B[39m\u001B[38;5;241m.\u001B[39mkeys:\n\u001B[1;32m    623\u001B[0m     from_json \u001B[38;5;241m=\u001B[39m \u001B[38;5;28mself\u001B[39m\u001B[38;5;241m.\u001B[39mtrait_metadata(name, \u001B[38;5;124m'\u001B[39m\u001B[38;5;124mfrom_json\u001B[39m\u001B[38;5;124m'\u001B[39m,\n\u001B[1;32m    624\u001B[0m                                     \u001B[38;5;28mself\u001B[39m\u001B[38;5;241m.\u001B[39m_trait_from_json)\n\u001B[0;32m--> 625\u001B[0m     \u001B[38;5;28;43mself\u001B[39;49m\u001B[38;5;241;43m.\u001B[39;49m\u001B[43mset_trait\u001B[49m\u001B[43m(\u001B[49m\u001B[43mname\u001B[49m\u001B[43m,\u001B[49m\u001B[43m \u001B[49m\u001B[43mfrom_json\u001B[49m\u001B[43m(\u001B[49m\u001B[43msync_data\u001B[49m\u001B[43m[\u001B[49m\u001B[43mname\u001B[49m\u001B[43m]\u001B[49m\u001B[43m,\u001B[49m\u001B[43m \u001B[49m\u001B[38;5;28;43mself\u001B[39;49m\u001B[43m)\u001B[49m\u001B[43m)\u001B[49m\n",
      "File \u001B[0;32m~/miniforge3/envs/DS-CVassignment/lib/python3.10/site-packages/traitlets/traitlets.py:1738\u001B[0m, in \u001B[0;36mHasTraits.set_trait\u001B[0;34m(self, name, value)\u001B[0m\n\u001B[1;32m   1736\u001B[0m     \u001B[38;5;28;01mraise\u001B[39;00m TraitError(\u001B[38;5;124mf\u001B[39m\u001B[38;5;124m\"\u001B[39m\u001B[38;5;124mClass \u001B[39m\u001B[38;5;132;01m{\u001B[39;00m\u001B[38;5;28mcls\u001B[39m\u001B[38;5;241m.\u001B[39m\u001B[38;5;18m__name__\u001B[39m\u001B[38;5;132;01m}\u001B[39;00m\u001B[38;5;124m does not have a trait named \u001B[39m\u001B[38;5;132;01m{\u001B[39;00mname\u001B[38;5;132;01m}\u001B[39;00m\u001B[38;5;124m\"\u001B[39m)\n\u001B[1;32m   1737\u001B[0m \u001B[38;5;28;01melse\u001B[39;00m:\n\u001B[0;32m-> 1738\u001B[0m     \u001B[38;5;28;43mgetattr\u001B[39;49m\u001B[43m(\u001B[49m\u001B[38;5;28;43mcls\u001B[39;49m\u001B[43m,\u001B[49m\u001B[43m \u001B[49m\u001B[43mname\u001B[49m\u001B[43m)\u001B[49m\u001B[38;5;241;43m.\u001B[39;49m\u001B[43mset\u001B[49m\u001B[43m(\u001B[49m\u001B[38;5;28;43mself\u001B[39;49m\u001B[43m,\u001B[49m\u001B[43m \u001B[49m\u001B[43mvalue\u001B[49m\u001B[43m)\u001B[49m\n",
      "File \u001B[0;32m~/miniforge3/envs/DS-CVassignment/lib/python3.10/site-packages/traitlets/traitlets.py:703\u001B[0m, in \u001B[0;36mTraitType.set\u001B[0;34m(self, obj, value)\u001B[0m\n\u001B[1;32m    702\u001B[0m \u001B[38;5;28;01mdef\u001B[39;00m \u001B[38;5;21mset\u001B[39m(\u001B[38;5;28mself\u001B[39m, obj, value):\n\u001B[0;32m--> 703\u001B[0m     new_value \u001B[38;5;241m=\u001B[39m \u001B[38;5;28;43mself\u001B[39;49m\u001B[38;5;241;43m.\u001B[39;49m\u001B[43m_validate\u001B[49m\u001B[43m(\u001B[49m\u001B[43mobj\u001B[49m\u001B[43m,\u001B[49m\u001B[43m \u001B[49m\u001B[43mvalue\u001B[49m\u001B[43m)\u001B[49m\n\u001B[1;32m    704\u001B[0m     \u001B[38;5;28;01mtry\u001B[39;00m:\n\u001B[1;32m    705\u001B[0m         old_value \u001B[38;5;241m=\u001B[39m obj\u001B[38;5;241m.\u001B[39m_trait_values[\u001B[38;5;28mself\u001B[39m\u001B[38;5;241m.\u001B[39mname]\n",
      "File \u001B[0;32m~/miniforge3/envs/DS-CVassignment/lib/python3.10/site-packages/traitlets/traitlets.py:735\u001B[0m, in \u001B[0;36mTraitType._validate\u001B[0;34m(self, obj, value)\u001B[0m\n\u001B[1;32m    733\u001B[0m     \u001B[38;5;28;01mreturn\u001B[39;00m value\n\u001B[1;32m    734\u001B[0m \u001B[38;5;28;01mif\u001B[39;00m \u001B[38;5;28mhasattr\u001B[39m(\u001B[38;5;28mself\u001B[39m, \u001B[38;5;124m\"\u001B[39m\u001B[38;5;124mvalidate\u001B[39m\u001B[38;5;124m\"\u001B[39m):\n\u001B[0;32m--> 735\u001B[0m     value \u001B[38;5;241m=\u001B[39m \u001B[38;5;28;43mself\u001B[39;49m\u001B[38;5;241;43m.\u001B[39;49m\u001B[43mvalidate\u001B[49m\u001B[43m(\u001B[49m\u001B[43mobj\u001B[49m\u001B[43m,\u001B[49m\u001B[43m \u001B[49m\u001B[43mvalue\u001B[49m\u001B[43m)\u001B[49m\n\u001B[1;32m    736\u001B[0m \u001B[38;5;28;01mif\u001B[39;00m obj\u001B[38;5;241m.\u001B[39m_cross_validation_lock \u001B[38;5;129;01mis\u001B[39;00m \u001B[38;5;28;01mFalse\u001B[39;00m:\n\u001B[1;32m    737\u001B[0m     value \u001B[38;5;241m=\u001B[39m \u001B[38;5;28mself\u001B[39m\u001B[38;5;241m.\u001B[39m_cross_validate(obj, value)\n",
      "File \u001B[0;32m~/miniforge3/envs/DS-CVassignment/lib/python3.10/site-packages/traitlets/traitlets.py:2417\u001B[0m, in \u001B[0;36mFloat.validate\u001B[0;34m(self, obj, value)\u001B[0m\n\u001B[1;32m   2415\u001B[0m     value \u001B[38;5;241m=\u001B[39m \u001B[38;5;28mfloat\u001B[39m(value)\n\u001B[1;32m   2416\u001B[0m \u001B[38;5;28;01mif\u001B[39;00m \u001B[38;5;129;01mnot\u001B[39;00m \u001B[38;5;28misinstance\u001B[39m(value, \u001B[38;5;28mfloat\u001B[39m):\n\u001B[0;32m-> 2417\u001B[0m     \u001B[38;5;28;43mself\u001B[39;49m\u001B[38;5;241;43m.\u001B[39;49m\u001B[43merror\u001B[49m\u001B[43m(\u001B[49m\u001B[43mobj\u001B[49m\u001B[43m,\u001B[49m\u001B[43m \u001B[49m\u001B[43mvalue\u001B[49m\u001B[43m)\u001B[49m\n\u001B[1;32m   2418\u001B[0m \u001B[38;5;28;01mreturn\u001B[39;00m _validate_bounds(\u001B[38;5;28mself\u001B[39m, obj, value)\n",
      "File \u001B[0;32m~/miniforge3/envs/DS-CVassignment/lib/python3.10/site-packages/traitlets/traitlets.py:841\u001B[0m, in \u001B[0;36mTraitType.error\u001B[0;34m(self, obj, value, error, info)\u001B[0m\n\u001B[1;32m    835\u001B[0m \u001B[38;5;28;01melse\u001B[39;00m:\n\u001B[1;32m    836\u001B[0m     e \u001B[38;5;241m=\u001B[39m \u001B[38;5;124m\"\u001B[39m\u001B[38;5;124mThe \u001B[39m\u001B[38;5;124m'\u001B[39m\u001B[38;5;132;01m{}\u001B[39;00m\u001B[38;5;124m'\u001B[39m\u001B[38;5;124m trait expected \u001B[39m\u001B[38;5;132;01m{}\u001B[39;00m\u001B[38;5;124m, not \u001B[39m\u001B[38;5;132;01m{}\u001B[39;00m\u001B[38;5;124m.\u001B[39m\u001B[38;5;124m\"\u001B[39m\u001B[38;5;241m.\u001B[39mformat(\n\u001B[1;32m    837\u001B[0m         \u001B[38;5;28mself\u001B[39m\u001B[38;5;241m.\u001B[39mname,\n\u001B[1;32m    838\u001B[0m         \u001B[38;5;28mself\u001B[39m\u001B[38;5;241m.\u001B[39minfo(),\n\u001B[1;32m    839\u001B[0m         describe(\u001B[38;5;124m\"\u001B[39m\u001B[38;5;124mthe\u001B[39m\u001B[38;5;124m\"\u001B[39m, value),\n\u001B[1;32m    840\u001B[0m     )\n\u001B[0;32m--> 841\u001B[0m \u001B[38;5;28;01mraise\u001B[39;00m TraitError(e)\n",
      "\u001B[0;31mTraitError\u001B[0m: The 'east' trait of a Map instance expected a float, not the NoneType None."
     ]
    },
    {
     "ename": "TraitError",
     "evalue": "The 'east' trait of a Map instance expected a float, not the NoneType None.",
     "output_type": "error",
     "traceback": [
      "\u001B[0;31m---------------------------------------------------------------------------\u001B[0m",
      "\u001B[0;31mTraitError\u001B[0m                                Traceback (most recent call last)",
      "File \u001B[0;32m~/miniforge3/envs/DS-CVassignment/lib/python3.10/site-packages/ipywidgets/widgets/widget.py:756\u001B[0m, in \u001B[0;36mWidget._handle_msg\u001B[0;34m(self, msg)\u001B[0m\n\u001B[1;32m    754\u001B[0m         \u001B[38;5;28;01mif\u001B[39;00m \u001B[38;5;124m'\u001B[39m\u001B[38;5;124mbuffer_paths\u001B[39m\u001B[38;5;124m'\u001B[39m \u001B[38;5;129;01min\u001B[39;00m data:\n\u001B[1;32m    755\u001B[0m             _put_buffers(state, data[\u001B[38;5;124m'\u001B[39m\u001B[38;5;124mbuffer_paths\u001B[39m\u001B[38;5;124m'\u001B[39m], msg[\u001B[38;5;124m'\u001B[39m\u001B[38;5;124mbuffers\u001B[39m\u001B[38;5;124m'\u001B[39m])\n\u001B[0;32m--> 756\u001B[0m         \u001B[38;5;28;43mself\u001B[39;49m\u001B[38;5;241;43m.\u001B[39;49m\u001B[43mset_state\u001B[49m\u001B[43m(\u001B[49m\u001B[43mstate\u001B[49m\u001B[43m)\u001B[49m\n\u001B[1;32m    758\u001B[0m \u001B[38;5;66;03m# Handle a state request.\u001B[39;00m\n\u001B[1;32m    759\u001B[0m \u001B[38;5;28;01melif\u001B[39;00m method \u001B[38;5;241m==\u001B[39m \u001B[38;5;124m'\u001B[39m\u001B[38;5;124mrequest_state\u001B[39m\u001B[38;5;124m'\u001B[39m:\n",
      "File \u001B[0;32m~/miniforge3/envs/DS-CVassignment/lib/python3.10/site-packages/ipywidgets/widgets/widget.py:625\u001B[0m, in \u001B[0;36mWidget.set_state\u001B[0;34m(self, sync_data)\u001B[0m\n\u001B[1;32m    622\u001B[0m \u001B[38;5;28;01mif\u001B[39;00m name \u001B[38;5;129;01min\u001B[39;00m \u001B[38;5;28mself\u001B[39m\u001B[38;5;241m.\u001B[39mkeys:\n\u001B[1;32m    623\u001B[0m     from_json \u001B[38;5;241m=\u001B[39m \u001B[38;5;28mself\u001B[39m\u001B[38;5;241m.\u001B[39mtrait_metadata(name, \u001B[38;5;124m'\u001B[39m\u001B[38;5;124mfrom_json\u001B[39m\u001B[38;5;124m'\u001B[39m,\n\u001B[1;32m    624\u001B[0m                                     \u001B[38;5;28mself\u001B[39m\u001B[38;5;241m.\u001B[39m_trait_from_json)\n\u001B[0;32m--> 625\u001B[0m     \u001B[38;5;28;43mself\u001B[39;49m\u001B[38;5;241;43m.\u001B[39;49m\u001B[43mset_trait\u001B[49m\u001B[43m(\u001B[49m\u001B[43mname\u001B[49m\u001B[43m,\u001B[49m\u001B[43m \u001B[49m\u001B[43mfrom_json\u001B[49m\u001B[43m(\u001B[49m\u001B[43msync_data\u001B[49m\u001B[43m[\u001B[49m\u001B[43mname\u001B[49m\u001B[43m]\u001B[49m\u001B[43m,\u001B[49m\u001B[43m \u001B[49m\u001B[38;5;28;43mself\u001B[39;49m\u001B[43m)\u001B[49m\u001B[43m)\u001B[49m\n",
      "File \u001B[0;32m~/miniforge3/envs/DS-CVassignment/lib/python3.10/site-packages/traitlets/traitlets.py:1738\u001B[0m, in \u001B[0;36mHasTraits.set_trait\u001B[0;34m(self, name, value)\u001B[0m\n\u001B[1;32m   1736\u001B[0m     \u001B[38;5;28;01mraise\u001B[39;00m TraitError(\u001B[38;5;124mf\u001B[39m\u001B[38;5;124m\"\u001B[39m\u001B[38;5;124mClass \u001B[39m\u001B[38;5;132;01m{\u001B[39;00m\u001B[38;5;28mcls\u001B[39m\u001B[38;5;241m.\u001B[39m\u001B[38;5;18m__name__\u001B[39m\u001B[38;5;132;01m}\u001B[39;00m\u001B[38;5;124m does not have a trait named \u001B[39m\u001B[38;5;132;01m{\u001B[39;00mname\u001B[38;5;132;01m}\u001B[39;00m\u001B[38;5;124m\"\u001B[39m)\n\u001B[1;32m   1737\u001B[0m \u001B[38;5;28;01melse\u001B[39;00m:\n\u001B[0;32m-> 1738\u001B[0m     \u001B[38;5;28;43mgetattr\u001B[39;49m\u001B[43m(\u001B[49m\u001B[38;5;28;43mcls\u001B[39;49m\u001B[43m,\u001B[49m\u001B[43m \u001B[49m\u001B[43mname\u001B[49m\u001B[43m)\u001B[49m\u001B[38;5;241;43m.\u001B[39;49m\u001B[43mset\u001B[49m\u001B[43m(\u001B[49m\u001B[38;5;28;43mself\u001B[39;49m\u001B[43m,\u001B[49m\u001B[43m \u001B[49m\u001B[43mvalue\u001B[49m\u001B[43m)\u001B[49m\n",
      "File \u001B[0;32m~/miniforge3/envs/DS-CVassignment/lib/python3.10/site-packages/traitlets/traitlets.py:703\u001B[0m, in \u001B[0;36mTraitType.set\u001B[0;34m(self, obj, value)\u001B[0m\n\u001B[1;32m    702\u001B[0m \u001B[38;5;28;01mdef\u001B[39;00m \u001B[38;5;21mset\u001B[39m(\u001B[38;5;28mself\u001B[39m, obj, value):\n\u001B[0;32m--> 703\u001B[0m     new_value \u001B[38;5;241m=\u001B[39m \u001B[38;5;28;43mself\u001B[39;49m\u001B[38;5;241;43m.\u001B[39;49m\u001B[43m_validate\u001B[49m\u001B[43m(\u001B[49m\u001B[43mobj\u001B[49m\u001B[43m,\u001B[49m\u001B[43m \u001B[49m\u001B[43mvalue\u001B[49m\u001B[43m)\u001B[49m\n\u001B[1;32m    704\u001B[0m     \u001B[38;5;28;01mtry\u001B[39;00m:\n\u001B[1;32m    705\u001B[0m         old_value \u001B[38;5;241m=\u001B[39m obj\u001B[38;5;241m.\u001B[39m_trait_values[\u001B[38;5;28mself\u001B[39m\u001B[38;5;241m.\u001B[39mname]\n",
      "File \u001B[0;32m~/miniforge3/envs/DS-CVassignment/lib/python3.10/site-packages/traitlets/traitlets.py:735\u001B[0m, in \u001B[0;36mTraitType._validate\u001B[0;34m(self, obj, value)\u001B[0m\n\u001B[1;32m    733\u001B[0m     \u001B[38;5;28;01mreturn\u001B[39;00m value\n\u001B[1;32m    734\u001B[0m \u001B[38;5;28;01mif\u001B[39;00m \u001B[38;5;28mhasattr\u001B[39m(\u001B[38;5;28mself\u001B[39m, \u001B[38;5;124m\"\u001B[39m\u001B[38;5;124mvalidate\u001B[39m\u001B[38;5;124m\"\u001B[39m):\n\u001B[0;32m--> 735\u001B[0m     value \u001B[38;5;241m=\u001B[39m \u001B[38;5;28;43mself\u001B[39;49m\u001B[38;5;241;43m.\u001B[39;49m\u001B[43mvalidate\u001B[49m\u001B[43m(\u001B[49m\u001B[43mobj\u001B[49m\u001B[43m,\u001B[49m\u001B[43m \u001B[49m\u001B[43mvalue\u001B[49m\u001B[43m)\u001B[49m\n\u001B[1;32m    736\u001B[0m \u001B[38;5;28;01mif\u001B[39;00m obj\u001B[38;5;241m.\u001B[39m_cross_validation_lock \u001B[38;5;129;01mis\u001B[39;00m \u001B[38;5;28;01mFalse\u001B[39;00m:\n\u001B[1;32m    737\u001B[0m     value \u001B[38;5;241m=\u001B[39m \u001B[38;5;28mself\u001B[39m\u001B[38;5;241m.\u001B[39m_cross_validate(obj, value)\n",
      "File \u001B[0;32m~/miniforge3/envs/DS-CVassignment/lib/python3.10/site-packages/traitlets/traitlets.py:2417\u001B[0m, in \u001B[0;36mFloat.validate\u001B[0;34m(self, obj, value)\u001B[0m\n\u001B[1;32m   2415\u001B[0m     value \u001B[38;5;241m=\u001B[39m \u001B[38;5;28mfloat\u001B[39m(value)\n\u001B[1;32m   2416\u001B[0m \u001B[38;5;28;01mif\u001B[39;00m \u001B[38;5;129;01mnot\u001B[39;00m \u001B[38;5;28misinstance\u001B[39m(value, \u001B[38;5;28mfloat\u001B[39m):\n\u001B[0;32m-> 2417\u001B[0m     \u001B[38;5;28;43mself\u001B[39;49m\u001B[38;5;241;43m.\u001B[39;49m\u001B[43merror\u001B[49m\u001B[43m(\u001B[49m\u001B[43mobj\u001B[49m\u001B[43m,\u001B[49m\u001B[43m \u001B[49m\u001B[43mvalue\u001B[49m\u001B[43m)\u001B[49m\n\u001B[1;32m   2418\u001B[0m \u001B[38;5;28;01mreturn\u001B[39;00m _validate_bounds(\u001B[38;5;28mself\u001B[39m, obj, value)\n",
      "File \u001B[0;32m~/miniforge3/envs/DS-CVassignment/lib/python3.10/site-packages/traitlets/traitlets.py:841\u001B[0m, in \u001B[0;36mTraitType.error\u001B[0;34m(self, obj, value, error, info)\u001B[0m\n\u001B[1;32m    835\u001B[0m \u001B[38;5;28;01melse\u001B[39;00m:\n\u001B[1;32m    836\u001B[0m     e \u001B[38;5;241m=\u001B[39m \u001B[38;5;124m\"\u001B[39m\u001B[38;5;124mThe \u001B[39m\u001B[38;5;124m'\u001B[39m\u001B[38;5;132;01m{}\u001B[39;00m\u001B[38;5;124m'\u001B[39m\u001B[38;5;124m trait expected \u001B[39m\u001B[38;5;132;01m{}\u001B[39;00m\u001B[38;5;124m, not \u001B[39m\u001B[38;5;132;01m{}\u001B[39;00m\u001B[38;5;124m.\u001B[39m\u001B[38;5;124m\"\u001B[39m\u001B[38;5;241m.\u001B[39mformat(\n\u001B[1;32m    837\u001B[0m         \u001B[38;5;28mself\u001B[39m\u001B[38;5;241m.\u001B[39mname,\n\u001B[1;32m    838\u001B[0m         \u001B[38;5;28mself\u001B[39m\u001B[38;5;241m.\u001B[39minfo(),\n\u001B[1;32m    839\u001B[0m         describe(\u001B[38;5;124m\"\u001B[39m\u001B[38;5;124mthe\u001B[39m\u001B[38;5;124m\"\u001B[39m, value),\n\u001B[1;32m    840\u001B[0m     )\n\u001B[0;32m--> 841\u001B[0m \u001B[38;5;28;01mraise\u001B[39;00m TraitError(e)\n",
      "\u001B[0;31mTraitError\u001B[0m: The 'east' trait of a Map instance expected a float, not the NoneType None."
     ]
    },
    {
     "ename": "TraitError",
     "evalue": "The 'east' trait of a Map instance expected a float, not the NoneType None.",
     "output_type": "error",
     "traceback": [
      "\u001B[0;31m---------------------------------------------------------------------------\u001B[0m",
      "\u001B[0;31mTraitError\u001B[0m                                Traceback (most recent call last)",
      "File \u001B[0;32m~/miniforge3/envs/DS-CVassignment/lib/python3.10/site-packages/ipywidgets/widgets/widget.py:756\u001B[0m, in \u001B[0;36mWidget._handle_msg\u001B[0;34m(self, msg)\u001B[0m\n\u001B[1;32m    754\u001B[0m         \u001B[38;5;28;01mif\u001B[39;00m \u001B[38;5;124m'\u001B[39m\u001B[38;5;124mbuffer_paths\u001B[39m\u001B[38;5;124m'\u001B[39m \u001B[38;5;129;01min\u001B[39;00m data:\n\u001B[1;32m    755\u001B[0m             _put_buffers(state, data[\u001B[38;5;124m'\u001B[39m\u001B[38;5;124mbuffer_paths\u001B[39m\u001B[38;5;124m'\u001B[39m], msg[\u001B[38;5;124m'\u001B[39m\u001B[38;5;124mbuffers\u001B[39m\u001B[38;5;124m'\u001B[39m])\n\u001B[0;32m--> 756\u001B[0m         \u001B[38;5;28;43mself\u001B[39;49m\u001B[38;5;241;43m.\u001B[39;49m\u001B[43mset_state\u001B[49m\u001B[43m(\u001B[49m\u001B[43mstate\u001B[49m\u001B[43m)\u001B[49m\n\u001B[1;32m    758\u001B[0m \u001B[38;5;66;03m# Handle a state request.\u001B[39;00m\n\u001B[1;32m    759\u001B[0m \u001B[38;5;28;01melif\u001B[39;00m method \u001B[38;5;241m==\u001B[39m \u001B[38;5;124m'\u001B[39m\u001B[38;5;124mrequest_state\u001B[39m\u001B[38;5;124m'\u001B[39m:\n",
      "File \u001B[0;32m~/miniforge3/envs/DS-CVassignment/lib/python3.10/site-packages/ipywidgets/widgets/widget.py:625\u001B[0m, in \u001B[0;36mWidget.set_state\u001B[0;34m(self, sync_data)\u001B[0m\n\u001B[1;32m    622\u001B[0m \u001B[38;5;28;01mif\u001B[39;00m name \u001B[38;5;129;01min\u001B[39;00m \u001B[38;5;28mself\u001B[39m\u001B[38;5;241m.\u001B[39mkeys:\n\u001B[1;32m    623\u001B[0m     from_json \u001B[38;5;241m=\u001B[39m \u001B[38;5;28mself\u001B[39m\u001B[38;5;241m.\u001B[39mtrait_metadata(name, \u001B[38;5;124m'\u001B[39m\u001B[38;5;124mfrom_json\u001B[39m\u001B[38;5;124m'\u001B[39m,\n\u001B[1;32m    624\u001B[0m                                     \u001B[38;5;28mself\u001B[39m\u001B[38;5;241m.\u001B[39m_trait_from_json)\n\u001B[0;32m--> 625\u001B[0m     \u001B[38;5;28;43mself\u001B[39;49m\u001B[38;5;241;43m.\u001B[39;49m\u001B[43mset_trait\u001B[49m\u001B[43m(\u001B[49m\u001B[43mname\u001B[49m\u001B[43m,\u001B[49m\u001B[43m \u001B[49m\u001B[43mfrom_json\u001B[49m\u001B[43m(\u001B[49m\u001B[43msync_data\u001B[49m\u001B[43m[\u001B[49m\u001B[43mname\u001B[49m\u001B[43m]\u001B[49m\u001B[43m,\u001B[49m\u001B[43m \u001B[49m\u001B[38;5;28;43mself\u001B[39;49m\u001B[43m)\u001B[49m\u001B[43m)\u001B[49m\n",
      "File \u001B[0;32m~/miniforge3/envs/DS-CVassignment/lib/python3.10/site-packages/traitlets/traitlets.py:1738\u001B[0m, in \u001B[0;36mHasTraits.set_trait\u001B[0;34m(self, name, value)\u001B[0m\n\u001B[1;32m   1736\u001B[0m     \u001B[38;5;28;01mraise\u001B[39;00m TraitError(\u001B[38;5;124mf\u001B[39m\u001B[38;5;124m\"\u001B[39m\u001B[38;5;124mClass \u001B[39m\u001B[38;5;132;01m{\u001B[39;00m\u001B[38;5;28mcls\u001B[39m\u001B[38;5;241m.\u001B[39m\u001B[38;5;18m__name__\u001B[39m\u001B[38;5;132;01m}\u001B[39;00m\u001B[38;5;124m does not have a trait named \u001B[39m\u001B[38;5;132;01m{\u001B[39;00mname\u001B[38;5;132;01m}\u001B[39;00m\u001B[38;5;124m\"\u001B[39m)\n\u001B[1;32m   1737\u001B[0m \u001B[38;5;28;01melse\u001B[39;00m:\n\u001B[0;32m-> 1738\u001B[0m     \u001B[38;5;28;43mgetattr\u001B[39;49m\u001B[43m(\u001B[49m\u001B[38;5;28;43mcls\u001B[39;49m\u001B[43m,\u001B[49m\u001B[43m \u001B[49m\u001B[43mname\u001B[49m\u001B[43m)\u001B[49m\u001B[38;5;241;43m.\u001B[39;49m\u001B[43mset\u001B[49m\u001B[43m(\u001B[49m\u001B[38;5;28;43mself\u001B[39;49m\u001B[43m,\u001B[49m\u001B[43m \u001B[49m\u001B[43mvalue\u001B[49m\u001B[43m)\u001B[49m\n",
      "File \u001B[0;32m~/miniforge3/envs/DS-CVassignment/lib/python3.10/site-packages/traitlets/traitlets.py:703\u001B[0m, in \u001B[0;36mTraitType.set\u001B[0;34m(self, obj, value)\u001B[0m\n\u001B[1;32m    702\u001B[0m \u001B[38;5;28;01mdef\u001B[39;00m \u001B[38;5;21mset\u001B[39m(\u001B[38;5;28mself\u001B[39m, obj, value):\n\u001B[0;32m--> 703\u001B[0m     new_value \u001B[38;5;241m=\u001B[39m \u001B[38;5;28;43mself\u001B[39;49m\u001B[38;5;241;43m.\u001B[39;49m\u001B[43m_validate\u001B[49m\u001B[43m(\u001B[49m\u001B[43mobj\u001B[49m\u001B[43m,\u001B[49m\u001B[43m \u001B[49m\u001B[43mvalue\u001B[49m\u001B[43m)\u001B[49m\n\u001B[1;32m    704\u001B[0m     \u001B[38;5;28;01mtry\u001B[39;00m:\n\u001B[1;32m    705\u001B[0m         old_value \u001B[38;5;241m=\u001B[39m obj\u001B[38;5;241m.\u001B[39m_trait_values[\u001B[38;5;28mself\u001B[39m\u001B[38;5;241m.\u001B[39mname]\n",
      "File \u001B[0;32m~/miniforge3/envs/DS-CVassignment/lib/python3.10/site-packages/traitlets/traitlets.py:735\u001B[0m, in \u001B[0;36mTraitType._validate\u001B[0;34m(self, obj, value)\u001B[0m\n\u001B[1;32m    733\u001B[0m     \u001B[38;5;28;01mreturn\u001B[39;00m value\n\u001B[1;32m    734\u001B[0m \u001B[38;5;28;01mif\u001B[39;00m \u001B[38;5;28mhasattr\u001B[39m(\u001B[38;5;28mself\u001B[39m, \u001B[38;5;124m\"\u001B[39m\u001B[38;5;124mvalidate\u001B[39m\u001B[38;5;124m\"\u001B[39m):\n\u001B[0;32m--> 735\u001B[0m     value \u001B[38;5;241m=\u001B[39m \u001B[38;5;28;43mself\u001B[39;49m\u001B[38;5;241;43m.\u001B[39;49m\u001B[43mvalidate\u001B[49m\u001B[43m(\u001B[49m\u001B[43mobj\u001B[49m\u001B[43m,\u001B[49m\u001B[43m \u001B[49m\u001B[43mvalue\u001B[49m\u001B[43m)\u001B[49m\n\u001B[1;32m    736\u001B[0m \u001B[38;5;28;01mif\u001B[39;00m obj\u001B[38;5;241m.\u001B[39m_cross_validation_lock \u001B[38;5;129;01mis\u001B[39;00m \u001B[38;5;28;01mFalse\u001B[39;00m:\n\u001B[1;32m    737\u001B[0m     value \u001B[38;5;241m=\u001B[39m \u001B[38;5;28mself\u001B[39m\u001B[38;5;241m.\u001B[39m_cross_validate(obj, value)\n",
      "File \u001B[0;32m~/miniforge3/envs/DS-CVassignment/lib/python3.10/site-packages/traitlets/traitlets.py:2417\u001B[0m, in \u001B[0;36mFloat.validate\u001B[0;34m(self, obj, value)\u001B[0m\n\u001B[1;32m   2415\u001B[0m     value \u001B[38;5;241m=\u001B[39m \u001B[38;5;28mfloat\u001B[39m(value)\n\u001B[1;32m   2416\u001B[0m \u001B[38;5;28;01mif\u001B[39;00m \u001B[38;5;129;01mnot\u001B[39;00m \u001B[38;5;28misinstance\u001B[39m(value, \u001B[38;5;28mfloat\u001B[39m):\n\u001B[0;32m-> 2417\u001B[0m     \u001B[38;5;28;43mself\u001B[39;49m\u001B[38;5;241;43m.\u001B[39;49m\u001B[43merror\u001B[49m\u001B[43m(\u001B[49m\u001B[43mobj\u001B[49m\u001B[43m,\u001B[49m\u001B[43m \u001B[49m\u001B[43mvalue\u001B[49m\u001B[43m)\u001B[49m\n\u001B[1;32m   2418\u001B[0m \u001B[38;5;28;01mreturn\u001B[39;00m _validate_bounds(\u001B[38;5;28mself\u001B[39m, obj, value)\n",
      "File \u001B[0;32m~/miniforge3/envs/DS-CVassignment/lib/python3.10/site-packages/traitlets/traitlets.py:841\u001B[0m, in \u001B[0;36mTraitType.error\u001B[0;34m(self, obj, value, error, info)\u001B[0m\n\u001B[1;32m    835\u001B[0m \u001B[38;5;28;01melse\u001B[39;00m:\n\u001B[1;32m    836\u001B[0m     e \u001B[38;5;241m=\u001B[39m \u001B[38;5;124m\"\u001B[39m\u001B[38;5;124mThe \u001B[39m\u001B[38;5;124m'\u001B[39m\u001B[38;5;132;01m{}\u001B[39;00m\u001B[38;5;124m'\u001B[39m\u001B[38;5;124m trait expected \u001B[39m\u001B[38;5;132;01m{}\u001B[39;00m\u001B[38;5;124m, not \u001B[39m\u001B[38;5;132;01m{}\u001B[39;00m\u001B[38;5;124m.\u001B[39m\u001B[38;5;124m\"\u001B[39m\u001B[38;5;241m.\u001B[39mformat(\n\u001B[1;32m    837\u001B[0m         \u001B[38;5;28mself\u001B[39m\u001B[38;5;241m.\u001B[39mname,\n\u001B[1;32m    838\u001B[0m         \u001B[38;5;28mself\u001B[39m\u001B[38;5;241m.\u001B[39minfo(),\n\u001B[1;32m    839\u001B[0m         describe(\u001B[38;5;124m\"\u001B[39m\u001B[38;5;124mthe\u001B[39m\u001B[38;5;124m\"\u001B[39m, value),\n\u001B[1;32m    840\u001B[0m     )\n\u001B[0;32m--> 841\u001B[0m \u001B[38;5;28;01mraise\u001B[39;00m TraitError(e)\n",
      "\u001B[0;31mTraitError\u001B[0m: The 'east' trait of a Map instance expected a float, not the NoneType None."
     ]
    }
   ],
   "source": [
    "img1corine = ee.Image('COPERNICUS/CORINE/V20/100m/2018') \\\n",
    "                  .select('landcover')\n",
    "#                   .clip(region) \\\n",
    "region = ee.Geometry.Polygon([[[6.703071, 52.183918],\n",
    "  [6.943405, 52.183918],\n",
    "  [6.943405, 52.32557],\n",
    "  [6.703071, 52.32557],\n",
    "  [6.703071, 52.183918]]])\n",
    "\n",
    "# Select only the pixels that belong to the farmland classes (211 and 242)\n",
    "farmlandMask = img1corine.eq(211) \\\n",
    "                .Or(img1corine.eq(212)) \\\n",
    "                .Or(img1corine.eq(213)) \\\n",
    "                .Or(img1corine.eq(221)) \\\n",
    "                .Or(img1corine.eq(222)) \\\n",
    "                .Or(img1corine.eq(223)) \\\n",
    "                .Or(img1corine.eq(231)) \\\n",
    "                .Or(img1corine.eq(241)) \\\n",
    "                .Or(img1corine.eq(242)) \\\n",
    "                .Or(img1corine.eq(243)) \\\n",
    "                .Or(img1corine.eq(244))\\\n",
    "                .clip(region) \n",
    "\n",
    "\n",
    "\n",
    "Map2 = geemap.Map(location=[52.191838, 6.741434], zoom=13)\n",
    "Map2.addLayer(farmlandMask, {}, \"FirstImage\", True)\n",
    "Map2"
   ]
  },
  {
   "cell_type": "code",
   "execution_count": 85,
   "metadata": {},
   "outputs": [
    {
     "ename": "AttributeError",
     "evalue": "'FeatureCollection' object has no attribute 'clip'",
     "output_type": "error",
     "traceback": [
      "\u001B[0;31m---------------------------------------------------------------------------\u001B[0m",
      "\u001B[0;31mAttributeError\u001B[0m                            Traceback (most recent call last)",
      "Cell \u001B[0;32mIn[85], line 9\u001B[0m\n\u001B[1;32m      3\u001B[0m training \u001B[38;5;241m=\u001B[39m farmlandMask\u001B[38;5;241m.\u001B[39msample(\u001B[38;5;241m*\u001B[39m\u001B[38;5;241m*\u001B[39m{\n\u001B[1;32m      4\u001B[0m   \u001B[38;5;124m\"\u001B[39m\u001B[38;5;124mscale\u001B[39m\u001B[38;5;124m\"\u001B[39m: \u001B[38;5;241m30\u001B[39m,\n\u001B[1;32m      5\u001B[0m   \u001B[38;5;124m\"\u001B[39m\u001B[38;5;124mnumPixels\u001B[39m\u001B[38;5;124m\"\u001B[39m: \u001B[38;5;241m5000\u001B[39m\n\u001B[1;32m      6\u001B[0m })\n\u001B[1;32m      8\u001B[0m clusterer \u001B[38;5;241m=\u001B[39m ee\u001B[38;5;241m.\u001B[39mClusterer\u001B[38;5;241m.\u001B[39mwekaKMeans(n_clusters)\u001B[38;5;241m.\u001B[39mtrain(training)\n\u001B[0;32m----> 9\u001B[0m clusteredFc \u001B[38;5;241m=\u001B[39m \u001B[43mtraining\u001B[49m\u001B[38;5;241;43m.\u001B[39;49m\u001B[43mcluster\u001B[49m\u001B[43m(\u001B[49m\u001B[43mclusterer\u001B[49m\u001B[43m)\u001B[49m\u001B[38;5;241;43m.\u001B[39;49m\u001B[43mclip\u001B[49m(region)\n\u001B[1;32m     10\u001B[0m palette \u001B[38;5;241m=\u001B[39m ee\u001B[38;5;241m.\u001B[39mList([\u001B[38;5;124m'\u001B[39m\u001B[38;5;124m8dd3c7\u001B[39m\u001B[38;5;124m'\u001B[39m, \u001B[38;5;124m'\u001B[39m\u001B[38;5;124mffffb3\u001B[39m\u001B[38;5;124m'\u001B[39m, \u001B[38;5;124m'\u001B[39m\u001B[38;5;124mbebada\u001B[39m\u001B[38;5;124m'\u001B[39m, \u001B[38;5;124m'\u001B[39m\u001B[38;5;124mfb8072\u001B[39m\u001B[38;5;124m'\u001B[39m, \u001B[38;5;124m'\u001B[39m\u001B[38;5;124m80b1d3\u001B[39m\u001B[38;5;124m'\u001B[39m]);\n\u001B[1;32m     12\u001B[0m \u001B[38;5;28mprint\u001B[39m(clustererFc\u001B[38;5;241m.\u001B[39mgetInfo())\n",
      "\u001B[0;31mAttributeError\u001B[0m: 'FeatureCollection' object has no attribute 'clip'"
     ]
    }
   ],
   "source": [
    "n_clusters = 2\n",
    "\n",
    "training = farmlandMask.sample(**{\n",
    "  \"scale\": 30,\n",
    "  \"numPixels\": 5000\n",
    "})\n",
    "\n",
    "clusterer = ee.Clusterer.wekaKMeans(n_clusters).train(training)\n",
    "clusteredFc = training.cluster(clusterer).clip(region)\n",
    "\n",
    "print(clustererFc.getInfo())"
   ]
  },
  {
   "cell_type": "code",
   "execution_count": 75,
   "metadata": {},
   "outputs": [
    {
     "data": {
      "application/vnd.jupyter.widget-view+json": {
       "model_id": "5fa7bb9967194db0a10f278bd5db1f72",
       "version_major": 2,
       "version_minor": 0
      },
      "text/plain": [
       "Map(center=[52.191838, 6.741434], controls=(WidgetControl(options=['position', 'transparent_bg'], widget=HBox(…"
      ]
     },
     "metadata": {},
     "output_type": "display_data"
    }
   ],
   "source": [
    "result = farmlandMask.cluster(clusterer)\n",
    "\n",
    "# # Display the clusters with random colors.\n",
    "Map = geemap.Map(location=[52.191838, 6.741434], zoom=13)\n",
    "Map.addLayer(result.randomVisualizer(), {'min': 10, 'max' :100}, 'clusters')\n",
    "Map\n",
    "\n",
    "# print('Note added \"spectral_cluster\" property for an example feature',\n",
    "#       clusteredFc.first().toDictionary());\n"
   ]
  },
  {
   "cell_type": "code",
   "execution_count": null,
   "metadata": {},
   "outputs": [],
   "source": []
  }
 ],
 "metadata": {
  "kernelspec": {
   "display_name": "Python 3 (ipykernel)",
   "language": "python",
   "name": "python3"
  },
  "language_info": {
   "codemirror_mode": {
    "name": "ipython",
    "version": 3
   },
   "file_extension": ".py",
   "mimetype": "text/x-python",
   "name": "python",
   "nbconvert_exporter": "python",
   "pygments_lexer": "ipython3",
   "version": "3.10.9"
  }
 },
 "nbformat": 4,
 "nbformat_minor": 1
}
