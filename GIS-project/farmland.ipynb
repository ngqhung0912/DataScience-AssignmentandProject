{
 "cells": [
  {
   "cell_type": "code",
   "execution_count": 4,
   "metadata": {},
   "outputs": [
    {
     "data": {
      "text/html": [
       "<p>To authorize access needed by Earth Engine, open the following\n",
       "        URL in a web browser and follow the instructions:</p>\n",
       "        <p><a href=https://code.earthengine.google.com/client-auth?scopes=https%3A//www.googleapis.com/auth/earthengine%20https%3A//www.googleapis.com/auth/devstorage.full_control&request_id=1mD01YFgqRPiwTHD5t44cbCMywzbFWHbhfp_IrD2px8&tc=q2dh7o9kpMJ2d3QX6qjO78JAmnEuPd4vQnIJfoWmoUs&cc=DJAl9AUUlI0RifpDR7cXNEkL23qoniSeYqAPCu2tGHU>https://code.earthengine.google.com/client-auth?scopes=https%3A//www.googleapis.com/auth/earthengine%20https%3A//www.googleapis.com/auth/devstorage.full_control&request_id=1mD01YFgqRPiwTHD5t44cbCMywzbFWHbhfp_IrD2px8&tc=q2dh7o9kpMJ2d3QX6qjO78JAmnEuPd4vQnIJfoWmoUs&cc=DJAl9AUUlI0RifpDR7cXNEkL23qoniSeYqAPCu2tGHU</a></p>\n",
       "        <p>The authorization workflow will generate a code, which you should paste in the box below.</p>\n",
       "        "
      ],
      "text/plain": [
       "<IPython.core.display.HTML object>"
      ]
     },
     "metadata": {},
     "output_type": "display_data"
    },
    {
     "name": "stdout",
     "output_type": "stream",
     "text": [
      "\n",
      "Successfully saved authorization token.\n",
      "Google Earth Engine has initialized successfully!\n"
     ]
    }
   ],
   "source": [
    "import sys\n",
    "import os\n",
    "import ee\n",
    "import geemap\n",
    "import rasterio\n",
    "import requests\n",
    "from io import BytesIO\n",
    "import matplotlib.pyplot as plt\n",
    "import numpy as np\n",
    "import matplotlib.colors as colors\n",
    "\n",
    "out_dir = os.path.join(os.path.expanduser('~'), 'Downloads')\n",
    "filename = os.path.join(out_dir, 'Enschede_Farmland.tif')\n",
    "filename_corine = os.path.join(out_dir, 'Enschede_Farmland_Corine.tif')\n",
    "\n",
    "try:\n",
    "    # Initialize the library.\n",
    "    ee.Authenticate()\n",
    "    ee.Initialize()\n",
    "    print('Google Earth Engine has initialized successfully!')\n",
    "except ee.EEException as e:\n",
    "    print('Google Earth Engine has failed to initialize!')\n",
    "except:\n",
    "    print(\"Unexpected error:\", sys.exc_info()[0])\n",
    "    raise\n"
   ]
  },
  {
   "cell_type": "code",
   "execution_count": 10,
   "metadata": {},
   "outputs": [],
   "source": [
    "#define region to look at\n",
    "region = ee.Geometry.Polygon([[[6.75627, 52.133732],\n",
    "  [6.85618, 52.133732],\n",
    "  [6.85618, 52.170806],\n",
    "  [6.75627, 52.170806],\n",
    "  [6.75627, 52.133732]]]\n",
    ")"
   ]
  },
  {
   "cell_type": "code",
   "execution_count": 5,
   "metadata": {},
   "outputs": [],
   "source": [
    "# Some visualization parameters:\n",
    "# - Values to map to 0 and values to map to 255.\n",
    "# - Three bands to be combined as an rgb image\n",
    "\n",
    "# You can try changing these parameters and check the result!\n",
    "\n",
    "vis_params = {\"min\": 0,\n",
    "              \"max\": 1500,\n",
    "              \"bands\": [\"B4\", \"B3\", \"B2\"]}\n",
    "vis_params_corine = {\"min\": 0,\n",
    "              \"max\": 1500}\n"
   ]
  },
  {
   "cell_type": "code",
   "execution_count": 30,
   "metadata": {},
   "outputs": [
    {
     "data": {
      "application/vnd.jupyter.widget-view+json": {
       "model_id": "25b5429088a0437d89244e07c3798f75",
       "version_major": 2,
       "version_minor": 0
      },
      "text/plain": [
       "Map(center=[52.191838, 6.741434], controls=(WidgetControl(options=['position', 'transparent_bg'], widget=HBox(…"
      ]
     },
     "metadata": {},
     "output_type": "display_data"
    }
   ],
   "source": [
    "img1corine = ee.Image('COPERNICUS/CORINE/V20/100m/2018') \\\n",
    "                  .select('landcover')\n",
    "#                   .clip(region) \\\n",
    "region = ee.Geometry.Polygon([[[6.703071, 52.183918],\n",
    "  [6.943405, 52.183918],\n",
    "  [6.943405, 52.32557],\n",
    "  [6.703071, 52.32557],\n",
    "  [6.703071, 52.183918]]])\n",
    "\n",
    "# Select only the pixels that belong to the farmland classes (211 and 242)\n",
    "farmlandMask = img1corine.eq(211) \\\n",
    "                .Or(img1corine.eq(212)) \\\n",
    "                .Or(img1corine.eq(213)) \\\n",
    "                .Or(img1corine.eq(221)) \\\n",
    "                .Or(img1corine.eq(222)) \\\n",
    "                .Or(img1corine.eq(223)) \\\n",
    "                .Or(img1corine.eq(231)) \\\n",
    "                .Or(img1corine.eq(241)) \\\n",
    "                .Or(img1corine.eq(242)) \\\n",
    "                .Or(img1corine.eq(243)) \\\n",
    "                .Or(img1corine.eq(244))\\\n",
    "                .clip(region) \n",
    "\n",
    "\n",
    "\n",
    "Map2 = geemap.Map(location=[52.191838, 6.741434], zoom=13)\n",
    "Map2.addLayer(farmlandMask, {}, \"FirstImage\", True)\n",
    "Map2"
   ]
  },
  {
   "cell_type": "code",
   "execution_count": 43,
   "metadata": {},
   "outputs": [
    {
     "ename": "TypeError",
     "evalue": "'Image' object is not callable",
     "output_type": "error",
     "traceback": [
      "\u001B[0;31m---------------------------------------------------------------------------\u001B[0m",
      "\u001B[0;31mTypeError\u001B[0m                                 Traceback (most recent call last)",
      "Cell \u001B[0;32mIn[43], line 15\u001B[0m\n\u001B[1;32m     12\u001B[0m \u001B[38;5;28;01mdef\u001B[39;00m \u001B[38;5;21mfeature_map\u001B[39m(feature): \n\u001B[1;32m     13\u001B[0m     \u001B[38;5;28;01mreturn\u001B[39;00m feature\u001B[38;5;241m.\u001B[39mset(\u001B[38;5;124m'\u001B[39m\u001B[38;5;124mstyle\u001B[39m\u001B[38;5;124m'\u001B[39m, {\u001B[38;5;124m\"\u001B[39m\u001B[38;5;124mcolor\u001B[39m\u001B[38;5;124m\"\u001B[39m: palette\u001B[38;5;241m.\u001B[39mget(feature\u001B[38;5;241m.\u001B[39mget(\u001B[38;5;124m'\u001B[39m\u001B[38;5;124mspectral_cluster\u001B[39m\u001B[38;5;124m'\u001B[39m))});\n\u001B[0;32m---> 15\u001B[0m vclusterVis \u001B[38;5;241m=\u001B[39m \u001B[43mclusteredFc\u001B[49m\u001B[38;5;241;43m.\u001B[39;49m\u001B[43mmap\u001B[49m\u001B[43m(\u001B[49m\u001B[43mfeature_map\u001B[49m\u001B[43m(\u001B[49m\u001B[43mclusteredFc\u001B[49m\u001B[43m)\u001B[49m\u001B[38;5;241;43m.\u001B[39;49m\u001B[43mstyle\u001B[49m\u001B[43m(\u001B[49m\u001B[43m{\u001B[49m\u001B[38;5;124;43m'\u001B[39;49m\u001B[38;5;124;43mstyleProperty\u001B[39;49m\u001B[38;5;124;43m'\u001B[39;49m\u001B[43m:\u001B[49m\u001B[43m \u001B[49m\u001B[38;5;124;43m'\u001B[39;49m\u001B[38;5;124;43mstyle\u001B[39;49m\u001B[38;5;124;43m'\u001B[39;49m\u001B[43m}\u001B[49m\u001B[43m)\u001B[49m\u001B[43m)\u001B[49m\n",
      "File \u001B[0;32m~/miniforge3/envs/DS-CVassignment/lib/python3.10/site-packages/ee/collection.py:204\u001B[0m, in \u001B[0;36mCollection.map\u001B[0;34m(self, algorithm, opt_dropNulls)\u001B[0m\n\u001B[1;32m    202\u001B[0m element_type \u001B[38;5;241m=\u001B[39m \u001B[38;5;28mself\u001B[39m\u001B[38;5;241m.\u001B[39melementType()\n\u001B[1;32m    203\u001B[0m with_cast \u001B[38;5;241m=\u001B[39m \u001B[38;5;28;01mlambda\u001B[39;00m e: algorithm(element_type(e))\n\u001B[0;32m--> 204\u001B[0m \u001B[38;5;28;01mreturn\u001B[39;00m \u001B[38;5;28mself\u001B[39m\u001B[38;5;241m.\u001B[39m_cast(\u001B[43mapifunction\u001B[49m\u001B[38;5;241;43m.\u001B[39;49m\u001B[43mApiFunction\u001B[49m\u001B[38;5;241;43m.\u001B[39;49m\u001B[43mcall_\u001B[49m\u001B[43m(\u001B[49m\n\u001B[1;32m    205\u001B[0m \u001B[43m    \u001B[49m\u001B[38;5;124;43m'\u001B[39;49m\u001B[38;5;124;43mCollection.map\u001B[39;49m\u001B[38;5;124;43m'\u001B[39;49m\u001B[43m,\u001B[49m\u001B[43m \u001B[49m\u001B[38;5;28;43mself\u001B[39;49m\u001B[43m,\u001B[49m\u001B[43m \u001B[49m\u001B[43mwith_cast\u001B[49m\u001B[43m,\u001B[49m\u001B[43m \u001B[49m\u001B[43mopt_dropNulls\u001B[49m\u001B[43m)\u001B[49m)\n",
      "File \u001B[0;32m~/miniforge3/envs/DS-CVassignment/lib/python3.10/site-packages/ee/apifunction.py:81\u001B[0m, in \u001B[0;36mApiFunction.call_\u001B[0;34m(cls, name, *args, **kwargs)\u001B[0m\n\u001B[1;32m     68\u001B[0m \u001B[38;5;129m@classmethod\u001B[39m\n\u001B[1;32m     69\u001B[0m \u001B[38;5;28;01mdef\u001B[39;00m \u001B[38;5;21mcall_\u001B[39m(\u001B[38;5;28mcls\u001B[39m, name, \u001B[38;5;241m*\u001B[39margs, \u001B[38;5;241m*\u001B[39m\u001B[38;5;241m*\u001B[39mkwargs):\n\u001B[1;32m     70\u001B[0m   \u001B[38;5;124;03m\"\"\"Call a named API function with positional and keyword arguments.\u001B[39;00m\n\u001B[1;32m     71\u001B[0m \n\u001B[1;32m     72\u001B[0m \u001B[38;5;124;03m  Args:\u001B[39;00m\n\u001B[0;32m   (...)\u001B[0m\n\u001B[1;32m     79\u001B[0m \u001B[38;5;124;03m    a recognized return type, the returned value will be cast to that type.\u001B[39;00m\n\u001B[1;32m     80\u001B[0m \u001B[38;5;124;03m  \"\"\"\u001B[39;00m\n\u001B[0;32m---> 81\u001B[0m   \u001B[38;5;28;01mreturn\u001B[39;00m \u001B[38;5;28;43mcls\u001B[39;49m\u001B[38;5;241;43m.\u001B[39;49m\u001B[43mlookup\u001B[49m\u001B[43m(\u001B[49m\u001B[43mname\u001B[49m\u001B[43m)\u001B[49m\u001B[38;5;241;43m.\u001B[39;49m\u001B[43mcall\u001B[49m\u001B[43m(\u001B[49m\u001B[38;5;241;43m*\u001B[39;49m\u001B[43margs\u001B[49m\u001B[43m,\u001B[49m\u001B[43m \u001B[49m\u001B[38;5;241;43m*\u001B[39;49m\u001B[38;5;241;43m*\u001B[39;49m\u001B[43mkwargs\u001B[49m\u001B[43m)\u001B[49m\n",
      "File \u001B[0;32m~/miniforge3/envs/DS-CVassignment/lib/python3.10/site-packages/ee/function.py:67\u001B[0m, in \u001B[0;36mFunction.call\u001B[0;34m(self, *args, **kwargs)\u001B[0m\n\u001B[1;32m     55\u001B[0m \u001B[38;5;28;01mdef\u001B[39;00m \u001B[38;5;21mcall\u001B[39m(\u001B[38;5;28mself\u001B[39m, \u001B[38;5;241m*\u001B[39margs, \u001B[38;5;241m*\u001B[39m\u001B[38;5;241m*\u001B[39mkwargs):\n\u001B[1;32m     56\u001B[0m   \u001B[38;5;124;03m\"\"\"Calls the function with the given positional and keyword arguments.\u001B[39;00m\n\u001B[1;32m     57\u001B[0m \n\u001B[1;32m     58\u001B[0m \u001B[38;5;124;03m  Args:\u001B[39;00m\n\u001B[0;32m   (...)\u001B[0m\n\u001B[1;32m     65\u001B[0m \u001B[38;5;124;03m    to that type.\u001B[39;00m\n\u001B[1;32m     66\u001B[0m \u001B[38;5;124;03m  \"\"\"\u001B[39;00m\n\u001B[0;32m---> 67\u001B[0m   \u001B[38;5;28;01mreturn\u001B[39;00m \u001B[38;5;28;43mself\u001B[39;49m\u001B[38;5;241;43m.\u001B[39;49m\u001B[43mapply\u001B[49m\u001B[43m(\u001B[49m\u001B[38;5;28;43mself\u001B[39;49m\u001B[38;5;241;43m.\u001B[39;49m\u001B[43mnameArgs\u001B[49m\u001B[43m(\u001B[49m\u001B[43margs\u001B[49m\u001B[43m,\u001B[49m\u001B[43m \u001B[49m\u001B[43mkwargs\u001B[49m\u001B[43m)\u001B[49m\u001B[43m)\u001B[49m\n",
      "File \u001B[0;32m~/miniforge3/envs/DS-CVassignment/lib/python3.10/site-packages/ee/function.py:80\u001B[0m, in \u001B[0;36mFunction.apply\u001B[0;34m(self, named_args)\u001B[0m\n\u001B[1;32m     69\u001B[0m \u001B[38;5;28;01mdef\u001B[39;00m \u001B[38;5;21mapply\u001B[39m(\u001B[38;5;28mself\u001B[39m, named_args):\n\u001B[1;32m     70\u001B[0m   \u001B[38;5;124;03m\"\"\"Calls the function with a dictionary of named arguments.\u001B[39;00m\n\u001B[1;32m     71\u001B[0m \n\u001B[1;32m     72\u001B[0m \u001B[38;5;124;03m  Args:\u001B[39;00m\n\u001B[0;32m   (...)\u001B[0m\n\u001B[1;32m     78\u001B[0m \u001B[38;5;124;03m    to that type.\u001B[39;00m\n\u001B[1;32m     79\u001B[0m \u001B[38;5;124;03m  \"\"\"\u001B[39;00m\n\u001B[0;32m---> 80\u001B[0m   result \u001B[38;5;241m=\u001B[39m computedobject\u001B[38;5;241m.\u001B[39mComputedObject(\u001B[38;5;28mself\u001B[39m, \u001B[38;5;28;43mself\u001B[39;49m\u001B[38;5;241;43m.\u001B[39;49m\u001B[43mpromoteArgs\u001B[49m\u001B[43m(\u001B[49m\u001B[43mnamed_args\u001B[49m\u001B[43m)\u001B[49m)\n\u001B[1;32m     81\u001B[0m   \u001B[38;5;28;01mreturn\u001B[39;00m Function\u001B[38;5;241m.\u001B[39m_promoter(result, \u001B[38;5;28mself\u001B[39m\u001B[38;5;241m.\u001B[39mgetReturnType())\n",
      "File \u001B[0;32m~/miniforge3/envs/DS-CVassignment/lib/python3.10/site-packages/ee/function.py:107\u001B[0m, in \u001B[0;36mFunction.promoteArgs\u001B[0;34m(self, args)\u001B[0m\n\u001B[1;32m    105\u001B[0m name \u001B[38;5;241m=\u001B[39m spec[\u001B[38;5;124m'\u001B[39m\u001B[38;5;124mname\u001B[39m\u001B[38;5;124m'\u001B[39m]\n\u001B[1;32m    106\u001B[0m \u001B[38;5;28;01mif\u001B[39;00m name \u001B[38;5;129;01min\u001B[39;00m args:\n\u001B[0;32m--> 107\u001B[0m   promoted_args[name] \u001B[38;5;241m=\u001B[39m \u001B[43mFunction\u001B[49m\u001B[38;5;241;43m.\u001B[39;49m\u001B[43m_promoter\u001B[49m\u001B[43m(\u001B[49m\u001B[43margs\u001B[49m\u001B[43m[\u001B[49m\u001B[43mname\u001B[49m\u001B[43m]\u001B[49m\u001B[43m,\u001B[49m\u001B[43m \u001B[49m\u001B[43mspec\u001B[49m\u001B[43m[\u001B[49m\u001B[38;5;124;43m'\u001B[39;49m\u001B[38;5;124;43mtype\u001B[39;49m\u001B[38;5;124;43m'\u001B[39;49m\u001B[43m]\u001B[49m\u001B[43m)\u001B[49m\n\u001B[1;32m    108\u001B[0m \u001B[38;5;28;01melif\u001B[39;00m \u001B[38;5;129;01mnot\u001B[39;00m spec\u001B[38;5;241m.\u001B[39mget(\u001B[38;5;124m'\u001B[39m\u001B[38;5;124moptional\u001B[39m\u001B[38;5;124m'\u001B[39m):\n\u001B[1;32m    109\u001B[0m   \u001B[38;5;28;01mraise\u001B[39;00m ee_exception\u001B[38;5;241m.\u001B[39mEEException(\n\u001B[1;32m    110\u001B[0m       \u001B[38;5;124m'\u001B[39m\u001B[38;5;124mRequired argument (\u001B[39m\u001B[38;5;132;01m%s\u001B[39;00m\u001B[38;5;124m) missing to function: \u001B[39m\u001B[38;5;132;01m%s\u001B[39;00m\u001B[38;5;124m'\u001B[39m\n\u001B[1;32m    111\u001B[0m       \u001B[38;5;241m%\u001B[39m (name, \u001B[38;5;28mself\u001B[39m\u001B[38;5;241m.\u001B[39mname))\n",
      "File \u001B[0;32m~/miniforge3/envs/DS-CVassignment/lib/python3.10/site-packages/ee/__init__.py:257\u001B[0m, in \u001B[0;36m_Promote\u001B[0;34m(arg, klass)\u001B[0m\n\u001B[1;32m    254\u001B[0m \u001B[38;5;28;01melif\u001B[39;00m callable(arg):\n\u001B[1;32m    255\u001B[0m   \u001B[38;5;66;03m# A native function that needs to be wrapped.\u001B[39;00m\n\u001B[1;32m    256\u001B[0m   args_count \u001B[38;5;241m=\u001B[39m \u001B[38;5;28mlen\u001B[39m(inspect\u001B[38;5;241m.\u001B[39mgetfullargspec(arg)\u001B[38;5;241m.\u001B[39margs)\n\u001B[0;32m--> 257\u001B[0m   \u001B[38;5;28;01mreturn\u001B[39;00m \u001B[43mCustomFunction\u001B[49m\u001B[38;5;241;43m.\u001B[39;49m\u001B[43mcreate\u001B[49m\u001B[43m(\u001B[49m\u001B[43marg\u001B[49m\u001B[43m,\u001B[49m\u001B[43m \u001B[49m\u001B[38;5;124;43m'\u001B[39;49m\u001B[38;5;124;43mObject\u001B[39;49m\u001B[38;5;124;43m'\u001B[39;49m\u001B[43m,\u001B[49m\u001B[43m \u001B[49m\u001B[43m[\u001B[49m\u001B[38;5;124;43m'\u001B[39;49m\u001B[38;5;124;43mObject\u001B[39;49m\u001B[38;5;124;43m'\u001B[39;49m\u001B[43m]\u001B[49m\u001B[43m \u001B[49m\u001B[38;5;241;43m*\u001B[39;49m\u001B[43m \u001B[49m\u001B[43margs_count\u001B[49m\u001B[43m)\u001B[49m\n\u001B[1;32m    258\u001B[0m \u001B[38;5;28;01melif\u001B[39;00m \u001B[38;5;28misinstance\u001B[39m(arg, Encodable):\n\u001B[1;32m    259\u001B[0m   \u001B[38;5;66;03m# An ee.Function or a computed function like the return value of\u001B[39;00m\n\u001B[1;32m    260\u001B[0m   \u001B[38;5;66;03m# Image.parseExpression().\u001B[39;00m\n\u001B[1;32m    261\u001B[0m   \u001B[38;5;28;01mreturn\u001B[39;00m arg\n",
      "File \u001B[0;32m~/miniforge3/envs/DS-CVassignment/lib/python3.10/site-packages/ee/customfunction.py:124\u001B[0m, in \u001B[0;36mCustomFunction.create\u001B[0;34m(func, return_type, arg_types)\u001B[0m\n\u001B[1;32m    118\u001B[0m args \u001B[38;5;241m=\u001B[39m [{\u001B[38;5;124m'\u001B[39m\u001B[38;5;124mname\u001B[39m\u001B[38;5;124m'\u001B[39m: \u001B[38;5;28;01mNone\u001B[39;00m, \u001B[38;5;124m'\u001B[39m\u001B[38;5;124mtype\u001B[39m\u001B[38;5;124m'\u001B[39m: StringifyType(i)} \u001B[38;5;28;01mfor\u001B[39;00m i \u001B[38;5;129;01min\u001B[39;00m arg_types]\n\u001B[1;32m    119\u001B[0m signature \u001B[38;5;241m=\u001B[39m {\n\u001B[1;32m    120\u001B[0m     \u001B[38;5;124m'\u001B[39m\u001B[38;5;124mname\u001B[39m\u001B[38;5;124m'\u001B[39m: \u001B[38;5;124m'\u001B[39m\u001B[38;5;124m'\u001B[39m,\n\u001B[1;32m    121\u001B[0m     \u001B[38;5;124m'\u001B[39m\u001B[38;5;124mreturns\u001B[39m\u001B[38;5;124m'\u001B[39m: StringifyType(return_type),\n\u001B[1;32m    122\u001B[0m     \u001B[38;5;124m'\u001B[39m\u001B[38;5;124margs\u001B[39m\u001B[38;5;124m'\u001B[39m: args\n\u001B[1;32m    123\u001B[0m }\n\u001B[0;32m--> 124\u001B[0m \u001B[38;5;28;01mreturn\u001B[39;00m \u001B[43mCustomFunction\u001B[49m\u001B[43m(\u001B[49m\u001B[43msignature\u001B[49m\u001B[43m,\u001B[49m\u001B[43m \u001B[49m\u001B[43mfunc\u001B[49m\u001B[43m)\u001B[49m\n",
      "File \u001B[0;32m~/miniforge3/envs/DS-CVassignment/lib/python3.10/site-packages/ee/customfunction.py:42\u001B[0m, in \u001B[0;36mCustomFunction.__init__\u001B[0;34m(self, signature, body)\u001B[0m\n\u001B[1;32m     28\u001B[0m \u001B[38;5;124;03m\"\"\"Creates a function defined by a given expression with unbound variables.\u001B[39;00m\n\u001B[1;32m     29\u001B[0m \n\u001B[1;32m     30\u001B[0m \u001B[38;5;124;03mThe expression is created by evaluating the given function\u001B[39;00m\n\u001B[0;32m   (...)\u001B[0m\n\u001B[1;32m     37\u001B[0m \u001B[38;5;124;03m  body: The Python function to evaluate.\u001B[39;00m\n\u001B[1;32m     38\u001B[0m \u001B[38;5;124;03m\"\"\"\u001B[39;00m\n\u001B[1;32m     39\u001B[0m variables \u001B[38;5;241m=\u001B[39m [CustomFunction\u001B[38;5;241m.\u001B[39mvariable(arg[\u001B[38;5;124m'\u001B[39m\u001B[38;5;124mtype\u001B[39m\u001B[38;5;124m'\u001B[39m], arg[\u001B[38;5;124m'\u001B[39m\u001B[38;5;124mname\u001B[39m\u001B[38;5;124m'\u001B[39m])\n\u001B[1;32m     40\u001B[0m              \u001B[38;5;28;01mfor\u001B[39;00m arg \u001B[38;5;129;01min\u001B[39;00m signature[\u001B[38;5;124m'\u001B[39m\u001B[38;5;124margs\u001B[39m\u001B[38;5;124m'\u001B[39m]]\n\u001B[0;32m---> 42\u001B[0m \u001B[38;5;28;01mif\u001B[39;00m \u001B[43mbody\u001B[49m\u001B[43m(\u001B[49m\u001B[38;5;241;43m*\u001B[39;49m\u001B[43mvariables\u001B[49m\u001B[43m)\u001B[49m \u001B[38;5;129;01mis\u001B[39;00m \u001B[38;5;28;01mNone\u001B[39;00m:\n\u001B[1;32m     43\u001B[0m   \u001B[38;5;28;01mraise\u001B[39;00m ee_exception\u001B[38;5;241m.\u001B[39mEEException(\u001B[38;5;124m'\u001B[39m\u001B[38;5;124mUser-defined methods must return a value\u001B[39m\u001B[38;5;124m'\u001B[39m)\n\u001B[1;32m     45\u001B[0m \u001B[38;5;66;03m# The signature of the function.\u001B[39;00m\n",
      "File \u001B[0;32m~/miniforge3/envs/DS-CVassignment/lib/python3.10/site-packages/ee/collection.py:203\u001B[0m, in \u001B[0;36mCollection.map.<locals>.<lambda>\u001B[0;34m(e)\u001B[0m\n\u001B[1;32m    185\u001B[0m \u001B[38;5;124;03m\"\"\"Maps an algorithm over a collection.\u001B[39;00m\n\u001B[1;32m    186\u001B[0m \n\u001B[1;32m    187\u001B[0m \u001B[38;5;124;03mArgs:\u001B[39;00m\n\u001B[0;32m   (...)\u001B[0m\n\u001B[1;32m    200\u001B[0m \u001B[38;5;124;03m  ee_exception.EEException: if algorithm is not a function.\u001B[39;00m\n\u001B[1;32m    201\u001B[0m \u001B[38;5;124;03m\"\"\"\u001B[39;00m\n\u001B[1;32m    202\u001B[0m element_type \u001B[38;5;241m=\u001B[39m \u001B[38;5;28mself\u001B[39m\u001B[38;5;241m.\u001B[39melementType()\n\u001B[0;32m--> 203\u001B[0m with_cast \u001B[38;5;241m=\u001B[39m \u001B[38;5;28;01mlambda\u001B[39;00m e: \u001B[43malgorithm\u001B[49m\u001B[43m(\u001B[49m\u001B[43melement_type\u001B[49m\u001B[43m(\u001B[49m\u001B[43me\u001B[49m\u001B[43m)\u001B[49m\u001B[43m)\u001B[49m\n\u001B[1;32m    204\u001B[0m \u001B[38;5;28;01mreturn\u001B[39;00m \u001B[38;5;28mself\u001B[39m\u001B[38;5;241m.\u001B[39m_cast(apifunction\u001B[38;5;241m.\u001B[39mApiFunction\u001B[38;5;241m.\u001B[39mcall_(\n\u001B[1;32m    205\u001B[0m     \u001B[38;5;124m'\u001B[39m\u001B[38;5;124mCollection.map\u001B[39m\u001B[38;5;124m'\u001B[39m, \u001B[38;5;28mself\u001B[39m, with_cast, opt_dropNulls))\n",
      "\u001B[0;31mTypeError\u001B[0m: 'Image' object is not callable"
     ]
    }
   ],
   "source": [
    "n_clusters = 2\n",
    "\n",
    "training = farmlandMask.sample(**{\n",
    "  \"scale\": 30,\n",
    "  \"numPixels\": 5000\n",
    "})\n",
    "\n",
    "clusterer = ee.Clusterer.wekaKMeans(n_clusters).train(training)\n",
    "clusteredFc = training.cluster(clusterer, 'spectral_cluster');\n",
    "palette = ee.List(['8dd3c7', 'ffffb3', 'bebada', 'fb8072', '80b1d3']);\n",
    "\n"
   ]
  },
  {
   "cell_type": "code",
   "execution_count": 49,
   "metadata": {},
   "outputs": [
    {
     "data": {
      "application/vnd.jupyter.widget-view+json": {
       "model_id": "74508e7ebffc4921b81bc25b6cf9f178",
       "version_major": 2,
       "version_minor": 0
      },
      "text/plain": [
       "Map(center=[52.191838, 6.741434], controls=(WidgetControl(options=['position', 'transparent_bg'], widget=HBox(…"
      ]
     },
     "metadata": {},
     "output_type": "display_data"
    }
   ],
   "source": [
    "result = farmlandMask.cluster(clusterer)\n",
    "\n",
    "# # Display the clusters with random colors.\n",
    "Map = geemap.Map(location=[52.191838, 6.741434], zoom=13)\n",
    "Map.addLayer(result.randomVisualizer(), {'min': 0, 'max' : 10}, 'clusters')\n",
    "Map\n"
   ]
  },
  {
   "cell_type": "code",
   "execution_count": null,
   "metadata": {},
   "outputs": [],
   "source": []
  }
 ],
 "metadata": {
  "kernelspec": {
   "display_name": "Python 3 (ipykernel)",
   "language": "python",
   "name": "python3"
  },
  "language_info": {
   "codemirror_mode": {
    "name": "ipython",
    "version": 3
   },
   "file_extension": ".py",
   "mimetype": "text/x-python",
   "name": "python",
   "nbconvert_exporter": "python",
   "pygments_lexer": "ipython3",
   "version": "3.10.9"
  }
 },
 "nbformat": 4,
 "nbformat_minor": 1
}
