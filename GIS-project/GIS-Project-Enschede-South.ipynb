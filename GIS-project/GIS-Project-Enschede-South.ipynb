{
 "cells": [
  {
   "cell_type": "code",
   "execution_count": 2,
   "metadata": {},
   "outputs": [
    {
     "name": "stdout",
     "output_type": "stream",
     "text": [
      "Google Earth Engine has initialized successfully!\n"
     ]
    }
   ],
   "source": [
    "import sys\n",
    "import os\n",
    "import ee\n",
    "import geemap\n",
    "import rasterio\n",
    "import requests\n",
    "from io import BytesIO\n",
    "import matplotlib.pyplot as plt\n",
    "import numpy as np\n",
    "import matplotlib.colors as colors\n",
    "\n",
    "\n",
    "try:\n",
    "    # Initialize the library.\n",
    "#     ee.Authenticate()\n",
    "    ee.Initialize()\n",
    "    print('Google Earth Engine has initialized successfully!')\n",
    "except ee.EEException as e:\n",
    "    print('Google Earth Engine has failed to initialize!')\n",
    "except:\n",
    "    print(\"Unexpected error:\", sys.exc_info()[0])\n",
    "    raise\n",
    "    \n",
    "    \n"
   ]
  },
  {
   "cell_type": "code",
   "execution_count": 15,
   "metadata": {},
   "outputs": [],
   "source": [
    "def add_metrics(image):\n",
    "    ndvi = image.normalizedDifference(['B7', 'B4']).rename('NDVI')\n",
    "    gndvi = image.normalizedDifference(['B7', 'B3']).rename('GNDVI')   \n",
    "    savi = ee.Image().expression('((NIR-Red)/(NIR+Red+0.5))*1.5', {\n",
    "        'NIR': image.select('B8').multiply(0.0001),\n",
    "        'Red': image.select('B4').multiply(0.0001)\n",
    "      }).rename('SAVI')\n",
    "    return image.addBands([ndvi, gndvi, savi])\n",
    "\n",
    "def create_gif_from_collection(image_collection,\n",
    "                               clipRegion,\n",
    "                               bands,\n",
    "                               min_val,\n",
    "                               max_val, \n",
    "                               palette: ['#640000', '#ff0000', '#ffff00', '#00c800', '#006400']):\n",
    "    filmArgs = {\n",
    "    \"dimensions\": 128,\n",
    "    \"region\": clipRegion,\n",
    "    \"crs\": 'EPSG:3857',\n",
    "    \"min\": min_val, \n",
    "    \"max\" : max_val,\n",
    "    \"palette\":  palette,\n",
    "#     \"palette\":  ['#006400', '#00c800', '#ffff00', '#ff0000', '#640000'],\n",
    "#     \"palette\": ['white', 'green'],\n",
    "#     \"bands\": ['B4', 'B3', 'B2'],\n",
    "    \"bands\": bands,\n",
    "    \"framesPerSecond\": 1, \n",
    "}\n",
    "    return image_collection.map(add_metrics).filterDate('2019-02-01', '2019-06-30').filterMetadata('CLOUDY_PIXEL_PERCENTAGE', 'less_than', 25).getVideoThumbURL(filmArgs)\n",
    "\n",
    "def listOfImages_printer(imagesList):\n",
    "    print(len(imagesList))\n",
    "    for i in range(len(imagesList)):\n",
    "        if i < 10:\n",
    "            print(i,\"    \",imagesList[i])\n",
    "        else: \n",
    "            print(i,\"   \",imagesList[i])\n",
    "\n",
    "        if (i+1) % 3 == 0:  \n",
    "            print(\" \")\n",
    "            \n",
    "def get_image_date(image): \n",
    "    return ee.Date(ee.Image(image).get('system:time_start')).format(\"yyyy-MM-dd\").getInfo()\n",
    "\n",
    "def show_image(Map, ImagesCollection, index, clipRegion, params):\n",
    "    Images = ImagesCollection.toList(ImagesCollection.size())\n",
    "    Image = ee.Image(Images.get(index)).clip(clipRegion)\n",
    "    Image_metrics = add_metrics(Image).clip(clipRegion)\n",
    "    print(get_image_date(Image_metrics))\n",
    "    Map.addLayer(Image_metrics, params, \"\", True) \n",
    "    return Map\n",
    "\n",
    "def show_image_diff(Map, ImagesCollection, index_1, index_2, clipRegion, params):\n",
    "    Images = ImagesCollection.toList(ImagesCollection.size())\n",
    "    Image_1 = ee.Image(Images.get(index_1)).clip(clipRegion)\n",
    "    Image_1_metrics = add_metrics(Image_1)\n",
    "\n",
    "    Image_2 = ee.Image(Images.get(index_2)).clip(clipRegion)\n",
    "    Image_2_metrics = add_metrics(Image_2)\n",
    "    print(get_image_date(Image_2), get_image_date(Image_1))\n",
    "    Image_diff = (Image_1_metrics.subtract(Image_2_metrics)).abs()\n",
    "    Map.addLayer(Image_diff, params, \"\", True) \n",
    "    return Map\n",
    "\n",
    "def get_image(ImagesCollection, index, clipRegion):\n",
    "    Images = ImagesCollection.toList(ImagesCollection.size())\n",
    "    Image = ee.Image(Images.get(index)).clip(clipRegion)\n",
    "    return ee.Image(add_metrics(Image).clip(clipRegion))\n",
    "    \n",
    "\n"
   ]
  },
  {
   "cell_type": "code",
   "execution_count": 4,
   "metadata": {},
   "outputs": [
    {
     "data": {
      "application/vnd.jupyter.widget-view+json": {
       "model_id": "96c5a0fd694b4a29a34f0a8fbe44d63d",
       "version_major": 2,
       "version_minor": 0
      },
      "text/plain": [
       "Map(center=[52.191838, 6.741434], controls=(WidgetControl(options=['position', 'transparent_bg'], widget=HBox(…"
      ]
     },
     "metadata": {},
     "output_type": "display_data"
    }
   ],
   "source": [
    "Map1 = geemap.Map(location=[52.191838, 6.741434], zoom=13)\n",
    "# Map1.add_basemap('SATELLITE')\n",
    "Map1\n"
   ]
  },
  {
   "cell_type": "code",
   "execution_count": 5,
   "metadata": {},
   "outputs": [
    {
     "ename": "EEException",
     "evalue": "Unrecognized argument type to convert to a FeatureCollection: None",
     "output_type": "error",
     "traceback": [
      "\u001B[1;31m---------------------------------------------------------------------------\u001B[0m",
      "\u001B[1;31mEEException\u001B[0m                               Traceback (most recent call last)",
      "\u001B[1;32m~\\AppData\\Local\\Temp\\ipykernel_20208\\3568364625.py\u001B[0m in \u001B[0;36m<module>\u001B[1;34m\u001B[0m\n\u001B[1;32m----> 1\u001B[1;33m \u001B[0mfc\u001B[0m \u001B[1;33m=\u001B[0m \u001B[0mee\u001B[0m\u001B[1;33m.\u001B[0m\u001B[0mFeatureCollection\u001B[0m\u001B[1;33m(\u001B[0m\u001B[0mMap1\u001B[0m\u001B[1;33m.\u001B[0m\u001B[0mdraw_last_feature\u001B[0m\u001B[1;33m)\u001B[0m\u001B[1;33m\u001B[0m\u001B[1;33m\u001B[0m\u001B[0m\n\u001B[0m\u001B[0;32m      2\u001B[0m \u001B[0mregion\u001B[0m \u001B[1;33m=\u001B[0m \u001B[0mfc\u001B[0m\u001B[1;33m.\u001B[0m\u001B[0mgeometry\u001B[0m\u001B[1;33m(\u001B[0m\u001B[1;33m)\u001B[0m\u001B[1;33m\u001B[0m\u001B[1;33m\u001B[0m\u001B[0m\n\u001B[0;32m      3\u001B[0m \u001B[0mcords\u001B[0m \u001B[1;33m=\u001B[0m \u001B[0mregion\u001B[0m\u001B[1;33m.\u001B[0m\u001B[0mgetInfo\u001B[0m\u001B[1;33m(\u001B[0m\u001B[1;33m)\u001B[0m\u001B[1;33m[\u001B[0m\u001B[1;34m'coordinates'\u001B[0m\u001B[1;33m]\u001B[0m\u001B[1;33m\u001B[0m\u001B[1;33m\u001B[0m\u001B[0m\n\u001B[0;32m      4\u001B[0m \u001B[0mcords\u001B[0m\u001B[1;33m\u001B[0m\u001B[1;33m\u001B[0m\u001B[0m\n",
      "\u001B[1;32mc:\\users\\ruben\\appdata\\local\\programs\\python\\python37\\lib\\site-packages\\ee\\computedobject.py\u001B[0m in \u001B[0;36m__call__\u001B[1;34m(cls, *args, **kwargs)\u001B[0m\n\u001B[0;32m     29\u001B[0m       \u001B[1;32mreturn\u001B[0m \u001B[0margs\u001B[0m\u001B[1;33m[\u001B[0m\u001B[1;36m0\u001B[0m\u001B[1;33m]\u001B[0m\u001B[1;33m\u001B[0m\u001B[1;33m\u001B[0m\u001B[0m\n\u001B[0;32m     30\u001B[0m     \u001B[1;32melse\u001B[0m\u001B[1;33m:\u001B[0m\u001B[1;33m\u001B[0m\u001B[1;33m\u001B[0m\u001B[0m\n\u001B[1;32m---> 31\u001B[1;33m       \u001B[1;32mreturn\u001B[0m \u001B[0mtype\u001B[0m\u001B[1;33m.\u001B[0m\u001B[0m__call__\u001B[0m\u001B[1;33m(\u001B[0m\u001B[0mcls\u001B[0m\u001B[1;33m,\u001B[0m \u001B[1;33m*\u001B[0m\u001B[0margs\u001B[0m\u001B[1;33m,\u001B[0m \u001B[1;33m**\u001B[0m\u001B[0mkwargs\u001B[0m\u001B[1;33m)\u001B[0m\u001B[1;33m\u001B[0m\u001B[1;33m\u001B[0m\u001B[0m\n\u001B[0m\u001B[0;32m     32\u001B[0m \u001B[1;33m\u001B[0m\u001B[0m\n\u001B[0;32m     33\u001B[0m \u001B[1;33m\u001B[0m\u001B[0m\n",
      "\u001B[1;32mc:\\users\\ruben\\appdata\\local\\programs\\python\\python37\\lib\\site-packages\\ee\\featurecollection.py\u001B[0m in \u001B[0;36m__init__\u001B[1;34m(self, args, opt_column)\u001B[0m\n\u001B[0;32m     86\u001B[0m       raise ee_exception.EEException(\n\u001B[0;32m     87\u001B[0m           \u001B[1;34m'Unrecognized argument type to convert to a FeatureCollection: %s'\u001B[0m \u001B[1;33m%\u001B[0m\u001B[1;33m\u001B[0m\u001B[1;33m\u001B[0m\u001B[0m\n\u001B[1;32m---> 88\u001B[1;33m           args)\n\u001B[0m\u001B[0;32m     89\u001B[0m \u001B[1;33m\u001B[0m\u001B[0m\n\u001B[0;32m     90\u001B[0m   \u001B[1;33m@\u001B[0m\u001B[0mclassmethod\u001B[0m\u001B[1;33m\u001B[0m\u001B[1;33m\u001B[0m\u001B[0m\n",
      "\u001B[1;31mEEException\u001B[0m: Unrecognized argument type to convert to a FeatureCollection: None"
     ]
    }
   ],
   "source": [
    "fc = ee.FeatureCollection(Map1.draw_last_feature)\n",
    "region = fc.geometry()\n",
    "cords = region.getInfo()['coordinates']\n",
    "cords"
   ]
  },
  {
   "cell_type": "code",
   "execution_count": 201,
   "metadata": {},
   "outputs": [],
   "source": []
  },
  {
   "cell_type": "code",
   "execution_count": 6,
   "metadata": {},
   "outputs": [],
   "source": [
    "region = ee.Geometry.Polygon([[[6.91195, 52.188441],\n",
    "  [6.898218, 52.185283],\n",
    "  [6.891522, 52.187388],\n",
    "  [6.887917, 52.182336],\n",
    "  [6.879504, 52.180968],\n",
    "  [6.864739, 52.182021],\n",
    "  [6.867315, 52.186757],\n",
    "  [6.857185, 52.186231],\n",
    "  [6.847743, 52.189177],\n",
    "  [6.843794, 52.177705],\n",
    "  [6.839502, 52.172231],\n",
    "  [6.831261, 52.171915],\n",
    "  [6.828342, 52.167598],\n",
    "  [6.831776, 52.160017],\n",
    "  [6.828858, 52.152539],\n",
    "  [6.846369, 52.150328],\n",
    "  [6.864053, 52.15096],\n",
    "  [6.859074, 52.156015],\n",
    "  [6.854782, 52.165071],\n",
    "  [6.859074, 52.169178],\n",
    "  [6.865255, 52.162228],\n",
    "  [6.873152, 52.161596],\n",
    "  [6.877444, 52.157911],\n",
    "  [6.903537, 52.169809],\n",
    "  [6.904739, 52.175284],\n",
    "  [6.910748, 52.178231],\n",
    "  [6.91607, 52.176863],\n",
    "  [6.917444, 52.180547],\n",
    "  [6.926886, 52.181284],\n",
    "  [6.927916, 52.179179],\n",
    "  [6.940793, 52.180337],\n",
    "  [6.940964, 52.184336],\n",
    "  [6.943883, 52.189388],\n",
    "  [6.954871, 52.193492],\n",
    "  [6.960536, 52.193176],\n",
    "  [6.969292, 52.202646],\n",
    "  [6.963111, 52.203067],\n",
    "  [6.961738, 52.207169],\n",
    "  [6.951094, 52.206538],\n",
    "  [6.939419, 52.212534],\n",
    "  [6.939076, 52.216846],\n",
    "  [6.931865, 52.216531],\n",
    "  [6.93238, 52.212008],\n",
    "  [6.924826, 52.213901],\n",
    "  [6.917272, 52.214638],\n",
    "  [6.918645, 52.206538],\n",
    "  [6.911606, 52.206328],\n",
    "  [6.912808, 52.194018],\n",
    "  [6.91195, 52.188441]]]\n",
    ")"
   ]
  },
  {
   "cell_type": "code",
   "execution_count": 7,
   "metadata": {},
   "outputs": [
    {
     "name": "stdout",
     "output_type": "stream",
     "text": [
      "Number of images in the collection:  27\n"
     ]
    }
   ],
   "source": [
    "myCollection = ee.ImageCollection('COPERNICUS/S2_SR_HARMONIZED') \\\n",
    "    .filterBounds(region) \\\n",
    "    .filterDate('2019-02-01', '2019-06-30') \\\n",
    "    .filterMetadata('CLOUDY_PIXEL_PERCENTAGE', 'less_than', 25)\n",
    "listOfImages = myCollection.aggregate_array('system:index').getInfo()\n",
    "print('Number of images in the collection: ', len(listOfImages))\n",
    "\n",
    "Images = myCollection.toList(myCollection.size())\n",
    "\n"
   ]
  },
  {
   "cell_type": "code",
   "execution_count": 8,
   "metadata": {},
   "outputs": [
    {
     "ename": "TypeError",
     "evalue": "create_gif_from_collection() missing 5 required positional arguments: 'clipRegion', 'bands', 'min_val', 'max_val', and 'palette'",
     "output_type": "error",
     "traceback": [
      "\u001B[1;31m---------------------------------------------------------------------------\u001B[0m",
      "\u001B[1;31mTypeError\u001B[0m                                 Traceback (most recent call last)",
      "\u001B[1;32m~\\AppData\\Local\\Temp\\ipykernel_12204\\1929145032.py\u001B[0m in \u001B[0;36m<module>\u001B[1;34m\u001B[0m\n\u001B[1;32m----> 1\u001B[1;33m \u001B[0mprint\u001B[0m\u001B[1;33m(\u001B[0m\u001B[0mcreate_gif_from_collection\u001B[0m\u001B[1;33m(\u001B[0m\u001B[0mmyCollection\u001B[0m\u001B[1;33m)\u001B[0m\u001B[1;33m)\u001B[0m\u001B[1;33m\u001B[0m\u001B[1;33m\u001B[0m\u001B[0m\n\u001B[0m",
      "\u001B[1;31mTypeError\u001B[0m: create_gif_from_collection() missing 5 required positional arguments: 'clipRegion', 'bands', 'min_val', 'max_val', and 'palette'"
     ]
    }
   ],
   "source": [
    "\n",
    "print(create_gif_from_collection(myCollection))"
   ]
  },
  {
   "cell_type": "code",
   "execution_count": 8,
   "metadata": {},
   "outputs": [],
   "source": [
    "visParams = {\"min\": 0, \n",
    "              \"max\": 1500, \n",
    "              \"bands\": [\"B4\", \"B3\", \"B2\"]}\n",
    "\n",
    "ndviParams_diff = {min: 0, max: 1, \"palette\":  ['00cd00', 'ffff00', 'ffa500', 'cd0000', '8b0000'], \"bands\": ['NDVI']};\n",
    "\n",
    "\n",
    "\n",
    "gndviParams_diff = {min: 0, max: 1, \"palette\":  ['00cd00', 'ffff00', 'ffa500', 'cd0000', '8b0000'], \"bands\": ['GNDVI']};\n",
    "\n",
    "saviParams_diff = {min: 0, max: 1, \"palette\":  ['00cd00', 'ffff00', 'ffa500', 'cd0000', '8b0000'], \"bands\": ['SAVI']};\n",
    "\n",
    "ndviParams = {min: -1, max: 1,     \"palette\":  ['#640000', '#ff0000', '#ffff00', '#00c800', '#006400'], \"bands\": ['NDVI']};\n",
    "\n",
    "\n"
   ]
  },
  {
   "cell_type": "code",
   "execution_count": 9,
   "metadata": {},
   "outputs": [
    {
     "name": "stdout",
     "output_type": "stream",
     "text": [
      "20190418T104029_20190418T104115_T31UGT\n"
     ]
    },
    {
     "data": {
      "application/vnd.jupyter.widget-view+json": {
       "model_id": "4332eedc0b9a4b1c889bad430dea4884",
       "version_major": 2,
       "version_minor": 0
      },
      "text/plain": [
       "Map(center=[52.180988, 6.88958], controls=(WidgetControl(options=['position', 'transparent_bg'], widget=HBox(c…"
      ]
     },
     "metadata": {},
     "output_type": "display_data"
    }
   ],
   "source": [
    "index = 12\n",
    "\n",
    "Image_1 = ee.Image(Images.get(index)).clip(region)\n",
    "Image_1_metrics = add_metrics(Image_1)\n",
    "print(listOfImages[index])\n",
    "Map3 = geemap.Map(location=[52.180988, 6.88958], zoom=13)\n",
    "Map3.addLayer(Image_1_metrics, ndviParams, \"MedianImage\", True) \n",
    "Map3\n"
   ]
  },
  {
   "cell_type": "code",
   "execution_count": 234,
   "metadata": {},
   "outputs": [
    {
     "name": "stdout",
     "output_type": "stream",
     "text": [
      "20190617T104029_20190617T104030_T31UGT 20190607T104029_20190607T104533_T31UGT\n"
     ]
    },
    {
     "data": {
      "application/vnd.jupyter.widget-view+json": {
       "model_id": "fb5c3ecff6894aa893665c6b65d4c353",
       "version_major": 2,
       "version_minor": 0
      },
      "text/plain": [
       "Map(center=[52.199988, 6.838958], controls=(WidgetControl(options=['position', 'transparent_bg'], widget=HBox(…"
      ]
     },
     "metadata": {},
     "output_type": "display_data"
    }
   ],
   "source": [
    "\n"
   ]
  },
  {
   "cell_type": "code",
   "execution_count": 10,
   "metadata": {},
   "outputs": [
    {
     "name": "stdout",
     "output_type": "stream",
     "text": [
      "20190319T104019_20190319T104101_T31UGT 20190329T104029_20190329T104024_T31UGT\n"
     ]
    },
    {
     "data": {
      "application/vnd.jupyter.widget-view+json": {
       "model_id": "84deb12bcbfc46c4aded2b20e46aa973",
       "version_major": 2,
       "version_minor": 0
      },
      "text/plain": [
       "Map(center=[52.180988, 6.88958], controls=(WidgetControl(options=['position', 'transparent_bg'], widget=HBox(c…"
      ]
     },
     "metadata": {},
     "output_type": "display_data"
    }
   ],
   "source": [
    "Image_1 = ee.Image(Images.get(15)).clip(region)\n",
    "Image_1_metrics = add_metrics(Image_1)\n",
    "\n",
    "Image_2 = ee.Image(Images.get(9)).clip(region)\n",
    "Image_2_metrics = add_metrics(Image_2)\n",
    "\n",
    "Image_diff = (Image_1_metrics.subtract(Image_2_metrics)).abs().select(['NDVI', 'SAVI', 'GNDVI'])\n",
    "print(listOfImages[3],listOfImages[6])\n",
    "\n",
    "\n",
    "Map4 = geemap.Map(location=[52.180988, 6.88958], zoom=13)\n",
    "Map4.addLayer(Image_diff, ndviParams_diff, \"MedianImage\", True) \n",
    "Map4\n",
    "\n"
   ]
  },
  {
   "cell_type": "code",
   "execution_count": 39,
   "metadata": {},
   "outputs": [
    {
     "name": "stdout",
     "output_type": "stream",
     "text": [
      "2019-04-18 2019-05-13\n"
     ]
    },
    {
     "data": {
      "application/vnd.jupyter.widget-view+json": {
       "model_id": "84deb12bcbfc46c4aded2b20e46aa973",
       "version_major": 2,
       "version_minor": 0
      },
      "text/plain": [
       "Map(bottom=691727.0, center=[52.18098450283606, 6.889629364013673], controls=(WidgetControl(options=['position…"
      ]
     },
     "metadata": {},
     "output_type": "display_data"
    }
   ],
   "source": [
    "show_image_diff(Map4, myCollection, 15, 12, region, ndviParams_diff)"
   ]
  },
  {
   "cell_type": "code",
   "execution_count": 40,
   "metadata": {},
   "outputs": [
    {
     "data": {
      "text/plain": [
       "[[[6.835697, 52.156778],\n",
       "  [6.834602, 52.155765],\n",
       "  [6.836791, 52.154304],\n",
       "  [6.837456, 52.155594],\n",
       "  [6.839516, 52.154856],\n",
       "  [6.839902, 52.155344],\n",
       "  [6.835697, 52.156778]]]"
      ]
     },
     "execution_count": 40,
     "metadata": {},
     "output_type": "execute_result"
    }
   ],
   "source": [
    "fc = ee.FeatureCollection(Map4.draw_last_feature)\n",
    "cords = fc.geometry().getInfo()['coordinates']\n",
    "cords"
   ]
  },
  {
   "cell_type": "code",
   "execution_count": 46,
   "metadata": {},
   "outputs": [],
   "source": [
    "region_enschede_kersdijk_084_184_2019 = ee.Geometry.Polygon([[[6.95595, 52.204923],\n",
    "  [6.952894, 52.205837],\n",
    "  [6.9524, 52.205147],\n",
    "  [6.954159, 52.20445],\n",
    "  [6.954395, 52.203509],\n",
    "  [6.954813, 52.203503],\n",
    "  [6.95595, 52.204923]]])\n",
    "\n",
    "region_enschede_berktepaalweg_184_135_2019 = ee.Geometry.Polygon([[[6.835697, 52.156778],\n",
    "  [6.834602, 52.155765],\n",
    "  [6.836791, 52.154304],\n",
    "  [6.837456, 52.155594],\n",
    "  [6.839516, 52.154856],\n",
    "  [6.839902, 52.155344],\n",
    "  [6.835697, 52.156778]]])\n",
    "\n",
    "\n",
    "# Most site, also over to 135!!!\n",
    "\n",
    "\n"
   ]
  },
  {
   "cell_type": "code",
   "execution_count": 47,
   "metadata": {},
   "outputs": [
    {
     "name": "stdout",
     "output_type": "stream",
     "text": [
      "16\n",
      "0      20190319T104019_20190319T104101_T31UGT\n",
      "1      20190319T104019_20190319T104101_T32ULC\n",
      "2      20190329T104029_20190329T104024_T31UGT\n",
      " \n",
      "3      20190329T104029_20190329T104024_T32ULC\n",
      "4      20190408T104029_20190408T104058_T31UGT\n",
      "5      20190408T104029_20190408T104058_T32ULC\n",
      " \n",
      "6      20190418T104029_20190418T104115_T31UGT\n",
      "7      20190418T104029_20190418T104115_T32ULC\n",
      "8      20190513T104031_20190513T104026_T31UGT\n",
      " \n",
      "9      20190513T104031_20190513T104026_T32ULC\n",
      "10     20190607T104029_20190607T104533_T31UGT\n",
      "11     20190607T104029_20190607T104533_T32ULC\n",
      " \n",
      "12     20190617T104029_20190617T104030_T31UGT\n",
      "13     20190617T104029_20190617T104030_T32ULC\n",
      "14     20190627T104029_20190627T104030_T31UGT\n",
      " \n",
      "15     20190627T104029_20190627T104030_T32ULC\n"
     ]
    }
   ],
   "source": [
    "collection = ee.ImageCollection('COPERNICUS/S2_SR_HARMONIZED') \\\n",
    "    .filterBounds(region_enschede_berktepaalweg_184_135_2019) \\\n",
    "    .filterDate('2019-03-01', '2019-06-30') \\\n",
    "    .filterMetadata('CLOUDY_PIXEL_PERCENTAGE', 'less_than', 25)\n",
    "listOfImages = collection.aggregate_array('system:index').getInfo()\n",
    "listOfImages_printer(listOfImages)\n"
   ]
  },
  {
   "cell_type": "code",
   "execution_count": 48,
   "metadata": {},
   "outputs": [
    {
     "name": "stdout",
     "output_type": "stream",
     "text": [
      "2019-04-18\n"
     ]
    },
    {
     "data": {
      "application/vnd.jupyter.widget-view+json": {
       "model_id": "d167349140e447bbb6f492f08a594a73",
       "version_major": 2,
       "version_minor": 0
      },
      "text/plain": [
       "Map(center=[52.205837, 6.952894], controls=(WidgetControl(options=['position', 'transparent_bg'], widget=HBox(…"
      ]
     },
     "metadata": {},
     "output_type": "display_data"
    }
   ],
   "source": [
    "Map = geemap.Map(location=[52.205837, 6.952894], zoom=15)\n",
    "show_image(Map, collection, 6, region_enschede_berktepaalweg_184_135_2019, ndviParams)\n",
    "# show_image_diff(Map, collection, 18, 21, region_usselo_234_135_2019_glyph, ndviParams_diff)"
   ]
  },
  {
   "cell_type": "code",
   "execution_count": 36,
   "metadata": {},
   "outputs": [
    {
     "name": "stdout",
     "output_type": "stream",
     "text": [
      "Generating URL ...\n",
      "Downloading data from https://earthengine.googleapis.com/v1alpha/projects/earthengine-legacy/thumbnails/83a90cef7a3727d40d0c5a44de74f056-af22be2f961c4ec0ca656364f4143661:getPixels\n",
      "Please wait ...\n",
      "Data downloaded to D:\\Uni\\Mod_14_Data_Science\\assignmentsDS_Git\\ComputerVisionAssignment\\ComputerVisionAssignment\\GIS-project\\Enschede-South\\Kersdijk\\2019-06-17.tif\n"
     ]
    }
   ],
   "source": [
    "img_list = [3,4,5]\n",
    "\n",
    "for i in img_list:\n",
    "    image = get_image(collection, i, region_enschede_berktepaalweg_184_135_2019)\n",
    "    field = \"Berktepaalweg/\"\n",
    "    filename = \"Enschede-South/\" + field + get_image_date(image) + \".tif\"\n",
    "    geemap.ee_export_image(\n",
    "        image,\n",
    "        filename=filename, \n",
    "        scale=30, \n",
    "        region=region_enschede_berktepaalweg_184_135_2019, \n",
    "        file_per_band=False\n",
    ")"
   ]
  },
  {
   "cell_type": "markdown",
   "metadata": {},
   "source": [
    "##### \n"
   ]
  }
 ],
 "metadata": {
  "kernelspec": {
   "display_name": "Python 3 (ipykernel)",
   "language": "python",
   "name": "python3"
  },
  "language_info": {
   "codemirror_mode": {
    "name": "ipython",
    "version": 3
   },
   "file_extension": ".py",
   "mimetype": "text/x-python",
   "name": "python",
   "nbconvert_exporter": "python",
   "pygments_lexer": "ipython3",
   "version": "3.7.5"
  }
 },
 "nbformat": 4,
 "nbformat_minor": 1
}
