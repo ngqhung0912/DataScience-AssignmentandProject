{
 "cells": [
  {
   "cell_type": "code",
   "execution_count": null,
   "metadata": {
    "pycharm": {
     "is_executing": true
    }
   },
   "outputs": [],
   "source": [
    "import ee\n",
    "import geemap\n",
    "import sys\n",
    "\n",
    "try:\n",
    "    # Initialize the library.\n",
    "    ee.Initialize()\n",
    "    print('Google Earth Engine has initialized successfully!')\n",
    "except ee.EEException as e:\n",
    "    print(e)\n",
    "    print('Google Earth Engine has failed to initialize!')\n",
    "except:\n",
    "    print(\"Unexpected error:\", sys.exc_info()[0])\n",
    "    raise\n",
    "    \n",
    "def add_metrics(image):\n",
    "    ndvi = image.normalizedDifference(['B7', 'B4']).rename('NDVI')\n",
    "    gndvi = image.normalizedDifference(['B7', 'B3']).rename('GNDVI')   \n",
    "    savi = ee.Image().expression('((NIR-Red)/(NIR+Red+0.5))*1.5', {\n",
    "        'NIR': image.select('B8').multiply(0.0001),\n",
    "        'Red': image.select('B4').multiply(0.0001)\n",
    "      }).rename('SAVI')\n",
    "#     cvi = ee.Image().expression('(NIR/Green)*(Red/Green)', {\n",
    "#         'NIR': input.select('B8').multiply(0.0001),\n",
    "#         'Red': input.select('B4').multiply(0.0001),\n",
    "#         'Green': input.select('B3').multiply(0.0001)\n",
    "#       }).rename('SAVI')\n",
    "#     evi = image.expression(\n",
    "#       '2.5 * ((NIR - RED) / (NIR + 6 * RED - 7.5 * BLUE + 1))', {\n",
    "#       'NIR' : image.select('B8').divide(10000),\n",
    "#       'RED' : image.select('B4').divide(10000),\n",
    "#       'BLUE': image.select('B2').divide(10000)}).rename('EVI')\n",
    "    return image.addBands([ndvi, gndvi, savi])\n",
    "\n",
    "\n"
   ]
  },
  {
   "cell_type": "code",
   "execution_count": 13,
   "metadata": {},
   "outputs": [
    {
     "data": {
      "application/vnd.jupyter.widget-view+json": {
       "model_id": "1a9c2abf6af544d18d69483f48e2ecd6",
       "version_major": 2,
       "version_minor": 0
      },
      "text/plain": [
       "Map(center=[52.244439, 6.84324], controls=(WidgetControl(options=['position', 'transparent_bg'], widget=HBox(c…"
      ]
     },
     "metadata": {},
     "output_type": "display_data"
    }
   ],
   "source": [
    "Map1 = geemap.Map(location=[52.244439, 6.843240], zoom=15)\n",
    "Map1.add_basemap('SATELLITE')\n",
    "Map1\n"
   ]
  },
  {
   "cell_type": "code",
   "execution_count": 248,
   "metadata": {},
   "outputs": [
    {
     "data": {
      "text/plain": [
       "[[[6.75627, 52.133732],\n",
       "  [6.85618, 52.133732],\n",
       "  [6.85618, 52.170806],\n",
       "  [6.75627, 52.170806],\n",
       "  [6.75627, 52.133732]]]"
      ]
     },
     "execution_count": 248,
     "metadata": {},
     "output_type": "execute_result"
    }
   ],
   "source": [
    "fc = ee.FeatureCollection(Map1.draw_last_feature)\n",
    "region = fc.geometry()\n",
    "cords = region.getInfo()['coordinates']\n",
    "cords"
   ]
  },
  {
   "cell_type": "code",
   "execution_count": 14,
   "metadata": {},
   "outputs": [],
   "source": [
    "region = ee.Geometry.Polygon([[[6.889473, 52.183777],\n",
    "  [6.888958, 52.179988],\n",
    "  [6.869388, 52.179251],\n",
    "  [6.860805, 52.184619],\n",
    "  [6.848445, 52.185882],\n",
    "  [6.841235, 52.173145],\n",
    "  [6.834025, 52.170724],\n",
    "  [6.830935, 52.166618],\n",
    "  [6.834368, 52.157983],\n",
    "  [6.826313, 52.147085],\n",
    "  [6.798503, 52.144136],\n",
    "  [6.789919, 52.13929],\n",
    "  [6.819789, 52.121586],\n",
    "  [6.837299, 52.127277],\n",
    "  [6.837299, 52.147296],\n",
    "  [6.841763, 52.155301],\n",
    "  [6.856183, 52.171938],\n",
    "  [6.880903, 52.160145],\n",
    "  [6.898756, 52.169622],\n",
    "  [6.922446, 52.184991],\n",
    "  [6.945793, 52.194462],\n",
    "  [6.962273, 52.196356],\n",
    "  [6.965363, 52.202669],\n",
    "  [6.935493, 52.209191],\n",
    "  [6.921073, 52.202458],\n",
    "  [6.913519, 52.186675],\n",
    "  [6.889473, 52.183777]]])"
   ]
  },
  {
   "cell_type": "code",
   "execution_count": 28,
   "metadata": {},
   "outputs": [
    {
     "name": "stdout",
     "output_type": "stream",
     "text": [
      "Number of images in the collection:  ['20190319T104019_20190319T104101_T31UGT', '20190319T104019_20190319T104101_T32ULC', '20190329T104029_20190329T104024_T31UGT', '20190329T104029_20190329T104024_T31UGU', '20190329T104029_20190329T104024_T32ULC', '20190408T104029_20190408T104058_T31UGT', '20190408T104029_20190408T104058_T31UGU', '20190408T104029_20190408T104058_T32ULC', '20190418T104029_20190418T104115_T31UGT', '20190423T104031_20190423T104025_T31UGU', '20190513T104031_20190513T104026_T31UGT', '20190513T104031_20190513T104026_T31UGU', '20190513T104031_20190513T104026_T32ULC', '20190617T104029_20190617T104030_T31UGU', '20190627T104029_20190627T104030_T31UGT', '20190627T104029_20190627T104030_T32ULC']\n"
     ]
    }
   ],
   "source": [
    "myCollection = ee.ImageCollection('COPERNICUS/S2_SR_HARMONIZED') \\\n",
    "    .filterBounds(region) \\\n",
    "    .filterDate('2019-03-01', '2019-06-30') \\\n",
    "    .filterMetadata('CLOUDY_PIXEL_PERCENTAGE', 'less_than', 15)\n",
    "listOfImages = myCollection.aggregate_array('system:index').getInfo()\n",
    "print('Number of images in the collection: ', listOfImages)\n"
   ]
  },
  {
   "cell_type": "code",
   "execution_count": null,
   "metadata": {},
   "outputs": [],
   "source": []
  },
  {
   "cell_type": "code",
   "execution_count": 29,
   "metadata": {},
   "outputs": [],
   "source": [
    "visParams = {\"min\": 0, \n",
    "              \"max\": 1500, \n",
    "              \"bands\": [\"B4\", \"B3\", \"B2\"]}\n",
    "Images = myCollection.toList(myCollection.size())\n",
    "\n",
    "ndviParams_diff = {min: 0, max: 1, \"palette\":  ['00cd00', 'ffff00', 'ffa500', 'cd0000', '8b0000'], \"bands\": ['NDVI']};\n",
    "\n",
    "gndviParams_diff = {min: 0, max: 1, \"palette\":  ['00cd00', 'ffff00', 'ffa500', 'cd0000', '8b0000'], \"bands\": ['GNDVI']};\n",
    "\n",
    "saviParams_diff = {min: 0, max: 1, \"palette\":  ['00cd00', 'ffff00', 'ffa500', 'cd0000', '8b0000'], \"bands\": ['SAVI']};\n",
    "\n",
    "ndviParams = {min: -1, max: 1, \"palette\":  ['white', 'green'], \"bands\": ['NDVI']};\n",
    "\n"
   ]
  },
  {
   "cell_type": "code",
   "execution_count": 43,
   "metadata": {},
   "outputs": [
    {
     "name": "stdout",
     "output_type": "stream",
     "text": [
      "Number of images in the collection:  ['20190319T104019_20190319T104101_T31UGT', '20190319T104019_20190319T104101_T32ULC', '20190329T104029_20190329T104024_T31UGT', '20190329T104029_20190329T104024_T31UGU', '20190329T104029_20190329T104024_T32ULC', '20190408T104029_20190408T104058_T31UGT', '20190408T104029_20190408T104058_T31UGU', '20190408T104029_20190408T104058_T32ULC', '20190418T104029_20190418T104115_T31UGT', '20190423T104031_20190423T104025_T31UGU', '20190513T104031_20190513T104026_T31UGT', '20190513T104031_20190513T104026_T31UGU', '20190513T104031_20190513T104026_T32ULC', '20190617T104029_20190617T104030_T31UGU', '20190627T104029_20190627T104030_T31UGT', '20190627T104029_20190627T104030_T32ULC']\n",
      "20190319T104019_20190319T104101_T31UGT 20190329T104029_20190329T104024_T31UGT\n"
     ]
    },
    {
     "data": {
      "application/vnd.jupyter.widget-view+json": {
       "model_id": "5987b676aeaa4b53900ef956500157c9",
       "version_major": 2,
       "version_minor": 0
      },
      "text/plain": [
       "Map(center=[52.179988, 6.888958], controls=(WidgetControl(options=['position', 'transparent_bg'], widget=HBox(…"
      ]
     },
     "metadata": {},
     "output_type": "display_data"
    }
   ],
   "source": [
    "print('Number of images in the collection: ', listOfImages)\n",
    "\n",
    "I1 = 0\n",
    "I2 = 2\n",
    "\n",
    "Image_1 = ee.Image(Images.get(I1)).clip(region)\n",
    "Image_1_metrics = add_metrics(Image_1)\n",
    "\n",
    "Image_2 = ee.Image(Images.get(I2)).clip(region)\n",
    "Image_2_metrics = add_metrics(Image_2)\n",
    "\n",
    "Image_diff = (Image_1_metrics.subtract(Image_2_metrics)).abs().select(['NDVI', 'SAVI', 'GNDVI'])\n",
    "print(listOfImages[I1], listOfImages[I2])\n",
    "\n",
    "\n",
    "Map3 = geemap.Map(location=[52.179988, 6.888958], zoom=12)\n",
    "# Map3.add_basemap('SATELLITE')\n",
    "\n",
    "\n",
    "Map3.addLayer(Image_diff, ndviParams_diff, \"MedianImage\", True)\n",
    "\n",
    "Map3\n",
    "\n",
    "# geemap.ee_export_image(\n",
    "#     Image_diff, filename='Enschede-surroundings/enschede-diff-20180702-20180806.tif', scale=30, region=region, file_per_band=False\n",
    "# )\n"
   ]
  },
  {
   "cell_type": "code",
   "execution_count": 30,
   "metadata": {},
   "outputs": [
    {
     "data": {
      "application/vnd.jupyter.widget-view+json": {
       "model_id": "df8a7746f4c84013ae9fa8108b7dce83",
       "version_major": 2,
       "version_minor": 0
      },
      "text/plain": [
       "Map(center=[52.1952, 6.773208], controls=(WidgetControl(options=['position', 'transparent_bg'], widget=HBox(ch…"
      ]
     },
     "metadata": {},
     "output_type": "display_data"
    }
   ],
   "source": [
    "Map2 = geemap.Map(location=[ 52.1952, 6.773208], zoom=15)\n",
    "# Map1.add_basemap('SATELLITE')\n",
    "Map2\n",
    "Map2.addLayer(Image_diff, saviParams_diff, \"MedianImage\", True) \n",
    "Map2\n",
    "\n"
   ]
  },
  {
   "cell_type": "code",
   "execution_count": 19,
   "metadata": {},
   "outputs": [
    {
     "name": "stdout",
     "output_type": "stream",
     "text": [
      "https://earthengine.googleapis.com/v1alpha/projects/earthengine-legacy/videoThumbnails/352e139411c3215c6d8e60ade97bf3ae-19745f9f766bcf98edbf8cdd26fd07f0:getPixels\n"
     ]
    }
   ],
   "source": [
    "filmArgs = {\n",
    "    \"dimensions\": 128,\n",
    "    \"region\": region,\n",
    "    \"crs\": 'EPSG:3857',\n",
    "    \"min\": 0.2, \n",
    "    \"max\" : 1,\n",
    "    \"palette\":  ['#640000', '#ff0000', '#ffff00', '#00c800', '#006400'],\n",
    "#     \"palette\":  ['#006400', '#00c800', '#ffff00', '#ff0000', '#640000'],\n",
    "#     \"palette\": ['white', 'green'],\n",
    "    \"bands\": ['NDVI'],\n",
    "    \"framesPerSecond\": 1\n",
    "}\n",
    "\n",
    "print(myCollection.map(add_metrics).filterMetadata('CLOUDY_PIXEL_PERCENTAGE', 'less_than', 1).getVideoThumbURL(filmArgs));\n",
    "\n",
    "\n",
    "\n"
   ]
  },
  {
   "cell_type": "code",
   "execution_count": 20,
   "metadata": {},
   "outputs": [
    {
     "data": {
      "application/vnd.jupyter.widget-view+json": {
       "model_id": "6c285f6596b64eef8c9a30431ab1b4a4",
       "version_major": 2,
       "version_minor": 0
      },
      "text/plain": [
       "Map(center=[52.1952, 6.773208], controls=(WidgetControl(options=['position', 'transparent_bg'], widget=HBox(ch…"
      ]
     },
     "metadata": {},
     "output_type": "display_data"
    }
   ],
   "source": [
    "Map4 = geemap.Map(location=[ 52.1952, 6.773208], zoom=15)\n",
    "# Map1.add_basemap('SATELLITE')\n",
    "Map4\n",
    "Map4.addLayer(Image_1_metrics, ndviParams, \"MedianImage\", True) \n",
    "Map4\n",
    "\n"
   ]
  },
  {
   "cell_type": "code",
   "execution_count": 21,
   "metadata": {},
   "outputs": [
    {
     "data": {
      "application/vnd.jupyter.widget-view+json": {
       "model_id": "c1ad8781ddfc473383e851f61c5b8b4a",
       "version_major": 2,
       "version_minor": 0
      },
      "text/plain": [
       "Map(center=[52.1952, 6.773208], controls=(WidgetControl(options=['position', 'transparent_bg'], widget=HBox(ch…"
      ]
     },
     "metadata": {},
     "output_type": "display_data"
    }
   ],
   "source": [
    "Map5 = geemap.Map(location=[ 52.1952, 6.773208], zoom=15)\n",
    "# Map1.add_basemap('SATELLITE')\n",
    "Map5\n",
    "Map5.addLayer(Image_2_metrics, ndviParams, \"MedianImage\", True) \n",
    "Map5\n",
    "\n",
    "\n"
   ]
  },
  {
   "cell_type": "code",
   "execution_count": null,
   "metadata": {},
   "outputs": [],
   "source": []
  }
 ],
 "metadata": {
  "kernelspec": {
   "display_name": "Python 3 (ipykernel)",
   "language": "python",
   "name": "python3"
  },
  "language_info": {
   "codemirror_mode": {
    "name": "ipython",
    "version": 3
   },
   "file_extension": ".py",
   "mimetype": "text/x-python",
   "name": "python",
   "nbconvert_exporter": "python",
   "pygments_lexer": "ipython3",
   "version": "3.10.9"
  }
 },
 "nbformat": 4,
 "nbformat_minor": 1
}
