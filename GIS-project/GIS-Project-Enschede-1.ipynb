{
 "cells": [
  {
   "cell_type": "code",
   "execution_count": 197,
   "metadata": {
    "pycharm": {
     "is_executing": true
    }
   },
   "outputs": [
    {
     "name": "stdout",
     "output_type": "stream",
     "text": [
      "Google Earth Engine has initialized successfully!\n"
     ]
    }
   ],
   "source": [
    "import ee\n",
    "import geemap\n",
    "import sys\n",
    "\n",
    "try:\n",
    "    # Initialize the library.\n",
    "    ee.Initialize()\n",
    "    print('Google Earth Engine has initialized successfully!')\n",
    "except ee.EEException as e:\n",
    "    print(e)\n",
    "    print('Google Earth Engine has failed to initialize!')\n",
    "except:\n",
    "    print(\"Unexpected error:\", sys.exc_info()[0])\n",
    "    raise\n",
    "    \n",
    "def add_metrics(image):\n",
    "    ndvi = image.normalizedDifference(['B7', 'B4']).rename('NDVI')\n",
    "    gndvi = image.normalizedDifference(['B7', 'B3']).rename('GNDVI')   \n",
    "    savi = ee.Image().expression('((NIR-Red)/(NIR+Red+0.5))*1.5', {\n",
    "        'NIR': image.select('B8').multiply(0.0001),\n",
    "        'Red': image.select('B4').multiply(0.0001)\n",
    "      }).rename('SAVI')\n",
    "#     cvi = ee.Image().expression('(NIR/Green)*(Red/Green)', {\n",
    "#         'NIR': input.select('B8').multiply(0.0001),\n",
    "#         'Red': input.select('B4').multiply(0.0001),\n",
    "#         'Green': input.select('B3').multiply(0.0001)\n",
    "#       }).rename('SAVI')\n",
    "#     evi = image.expression(\n",
    "#       '2.5 * ((NIR - RED) / (NIR + 6 * RED - 7.5 * BLUE + 1))', {\n",
    "#       'NIR' : image.select('B8').divide(10000),\n",
    "#       'RED' : image.select('B4').divide(10000),\n",
    "#       'BLUE': image.select('B2').divide(10000)}).rename('EVI')\n",
    "    return image.addBands([ndvi, gndvi, savi])\n",
    "\n",
    "\n"
   ]
  },
  {
   "cell_type": "code",
   "execution_count": 246,
   "metadata": {},
   "outputs": [
    {
     "data": {
      "application/vnd.jupyter.widget-view+json": {
       "model_id": "631aea5dac334aa58a9065f760d8a6b7",
       "version_major": 2,
       "version_minor": 0
      },
      "text/plain": [
       "Map(center=[52.244439, 6.84324], controls=(WidgetControl(options=['position', 'transparent_bg'], widget=HBox(c…"
      ]
     },
     "metadata": {},
     "output_type": "display_data"
    }
   ],
   "source": [
    "Map1 = geemap.Map(location=[52.244439, 6.843240], zoom=15)\n",
    "Map1.add_basemap('SATELLITE')\n",
    "Map1\n"
   ]
  },
  {
   "cell_type": "code",
   "execution_count": 248,
   "metadata": {},
   "outputs": [
    {
     "data": {
      "text/plain": [
       "[[[6.75627, 52.133732],\n",
       "  [6.85618, 52.133732],\n",
       "  [6.85618, 52.170806],\n",
       "  [6.75627, 52.170806],\n",
       "  [6.75627, 52.133732]]]"
      ]
     },
     "execution_count": 248,
     "metadata": {},
     "output_type": "execute_result"
    }
   ],
   "source": [
    "fc = ee.FeatureCollection(Map1.draw_last_feature)\n",
    "region = fc.geometry()\n",
    "cords = region.getInfo()['coordinates']\n",
    "cords"
   ]
  },
  {
   "cell_type": "code",
   "execution_count": 249,
   "metadata": {},
   "outputs": [],
   "source": [
    "region = ee.Geometry.Polygon([[[6.889473, 52.183777],\n",
    "  [6.888958, 52.179988],\n",
    "  [6.869388, 52.179251],\n",
    "  [6.860805, 52.184619],\n",
    "  [6.848445, 52.185882],\n",
    "  [6.841235, 52.173145],\n",
    "  [6.834025, 52.170724],\n",
    "  [6.830935, 52.166618],\n",
    "  [6.834368, 52.157983],\n",
    "  [6.826313, 52.147085],\n",
    "  [6.798503, 52.144136],\n",
    "  [6.789919, 52.13929],\n",
    "  [6.819789, 52.121586],\n",
    "  [6.837299, 52.127277],\n",
    "  [6.837299, 52.147296],\n",
    "  [6.841763, 52.155301],\n",
    "  [6.856183, 52.171938],\n",
    "  [6.880903, 52.160145],\n",
    "  [6.898756, 52.169622],\n",
    "  [6.922446, 52.184991],\n",
    "  [6.945793, 52.194462],\n",
    "  [6.962273, 52.196356],\n",
    "  [6.965363, 52.202669],\n",
    "  [6.935493, 52.209191],\n",
    "  [6.921073, 52.202458],\n",
    "  [6.913519, 52.186675],\n",
    "  [6.889473, 52.183777]]])"
   ]
  },
  {
   "cell_type": "code",
   "execution_count": 281,
   "metadata": {},
   "outputs": [
    {
     "name": "stdout",
     "output_type": "stream",
     "text": [
      "Number of images in the collection:  ['20190627T104029_20190627T104030_T31UGT', '20190627T104029_20190627T104030_T32ULC', '20190826T104029_20190826T104232_T31UGT', '20190826T104029_20190826T104232_T31UGU', '20190826T104029_20190826T104232_T32ULC']\n"
     ]
    }
   ],
   "source": [
    "myCollection = ee.ImageCollection('COPERNICUS/S2_SR_HARMONIZED') \\\n",
    "    .filterBounds(region) \\\n",
    "    .filterDate('2019-06-01', '2019-08-31') \\\n",
    "    .filterMetadata('CLOUDY_PIXEL_PERCENTAGE', 'less_than', 1)\n",
    "listOfImages = myCollection.aggregate_array('system:index').getInfo()\n",
    "print('Number of images in the collection: ', listOfImages)\n"
   ]
  },
  {
   "cell_type": "code",
   "execution_count": 262,
   "metadata": {},
   "outputs": [],
   "source": []
  },
  {
   "cell_type": "code",
   "execution_count": 285,
   "metadata": {},
   "outputs": [
    {
     "data": {
      "application/vnd.jupyter.widget-view+json": {
       "model_id": "b463dc2c5c714bb388220e95cfa81dc3",
       "version_major": 2,
       "version_minor": 0
      },
      "text/plain": [
       "Map(center=[52.179988, 6.888958], controls=(WidgetControl(options=['position', 'transparent_bg'], widget=HBox(…"
      ]
     },
     "metadata": {},
     "output_type": "display_data"
    }
   ],
   "source": [
    "visParams = {\"min\": 0, \n",
    "              \"max\": 1500, \n",
    "              \"bands\": [\"B4\", \"B3\", \"B2\"]}\n",
    "Images = myCollection.toList(myCollection.size())\n",
    "\n",
    "ndviParams_diff = {min: 0, max: 1, \"palette\":  ['00cd00', 'ffff00', 'ffa500', 'cd0000', '8b0000'], \"bands\": ['NDVI']};\n",
    "\n",
    "gndviParams_diff = {min: 0, max: 1, \"palette\":  ['00cd00', 'ffff00', 'ffa500', 'cd0000', '8b0000'], \"bands\": ['GNDVI']};\n",
    "\n",
    "saviParams_diff = {min: 0, max: 1, \"palette\":  ['00cd00', 'ffff00', 'ffa500', 'cd0000', '8b0000'], \"bands\": ['SAVI']};\n",
    "\n",
    "ndviParams = {min: -1, max: 1, \"palette\":  ['white', 'green'], \"bands\": ['NDVI']};\n",
    "\n"
   ]
  },
  {
   "cell_type": "code",
   "execution_count": 254,
   "metadata": {},
   "outputs": [
    {
     "data": {
      "application/vnd.jupyter.widget-view+json": {
       "model_id": "213dd0fc09754359be363a334750430f",
       "version_major": 2,
       "version_minor": 0
      },
      "text/plain": [
       "Map(center=[52.1952, 6.773208], controls=(WidgetControl(options=['position', 'transparent_bg'], widget=HBox(ch…"
      ]
     },
     "metadata": {},
     "output_type": "display_data"
    }
   ],
   "source": [
    "Image_1 = ee.Image(Images.get(0)).clip(region)\n",
    "Image_1_metrics = add_metrics(Image_1)\n",
    "\n",
    "Image_2 = ee.Image(Images.get(3)).clip(region)\n",
    "Image_2_metrics = add_metrics(Image_2)\n",
    "\n",
    "Image_diff = (Image_1_metrics.subtract(Image_2_metrics)).abs().select(['NDVI', 'SAVI', 'GNDVI'])\n",
    "\n",
    "Map3 = geemap.Map(location=[52.179988, 6.888958], zoom=12)\n",
    "Map3.addLayer(Image_diff, ndviParams_diff, \"MedianImage\", True) \n",
    "Map3\n",
    "\n",
    "# geemap.ee_export_image(\n",
    "#     Image_diff, filename='Enschede-surroundings/enschede-diff-20180702-20180806.tif', scale=30, region=region, file_per_band=False\n",
    "# )\n"
   ]
  },
  {
   "cell_type": "code",
   "execution_count": 282,
   "metadata": {},
   "outputs": [
    {
     "name": "stdout",
     "output_type": "stream",
     "text": [
      "https://earthengine.googleapis.com/v1alpha/projects/earthengine-legacy/videoThumbnails/6f7ccd87b5e4e788fbb6020a566a64b1-2aedafdb4a4fcd4bee4b3e0ece181e10:getPixels\n"
     ]
    }
   ],
   "source": [
    "Map2 = geemap.Map(location=[ 52.1952, 6.773208], zoom=15)\n",
    "# Map1.add_basemap('SATELLITE')\n",
    "Map2\n",
    "Map2.addLayer(Image_diff, saviParams, \"MedianImage\", True) \n",
    "Map2\n",
    "\n"
   ]
  },
  {
   "cell_type": "code",
   "execution_count": 263,
   "metadata": {},
   "outputs": [
    {
     "data": {
      "application/vnd.jupyter.widget-view+json": {
       "model_id": "ab0006c0e8494231bfda11500d1a8200",
       "version_major": 2,
       "version_minor": 0
      },
      "text/plain": [
       "Map(center=[52.1952, 6.773208], controls=(WidgetControl(options=['position', 'transparent_bg'], widget=HBox(ch…"
      ]
     },
     "metadata": {},
     "output_type": "display_data"
    }
   ],
   "source": [
    "filmArgs = {\n",
    "    \"dimensions\": 128,\n",
    "    \"region\": region,\n",
    "    \"crs\": 'EPSG:3857',\n",
    "    \"min\": 0.2, \n",
    "    \"max\" : 1,\n",
    "    \"palette\":  ['#640000', '#ff0000', '#ffff00', '#00c800', '#006400'],\n",
    "#     \"palette\":  ['#006400', '#00c800', '#ffff00', '#ff0000', '#640000'],\n",
    "#     \"palette\": ['white', 'green'],\n",
    "    \"bands\": ['NDVI'],\n",
    "    \"framesPerSecond\": 1\n",
    "}\n",
    "\n",
    "print(myCollection.map(add_metrics).filterMetadata('CLOUDY_PIXEL_PERCENTAGE', 'less_than', 1).getVideoThumbURL(filmArgs));\n",
    "\n",
    "\n",
    "\n"
   ]
  },
  {
   "cell_type": "code",
   "execution_count": 264,
   "metadata": {},
   "outputs": [
    {
     "data": {
      "application/vnd.jupyter.widget-view+json": {
       "model_id": "9f2f45a1dc4245daaf8f03bd8e97413a",
       "version_major": 2,
       "version_minor": 0
      },
      "text/plain": [
       "Map(center=[52.1952, 6.773208], controls=(WidgetControl(options=['position', 'transparent_bg'], widget=HBox(ch…"
      ]
     },
     "metadata": {},
     "output_type": "display_data"
    }
   ],
   "source": [
    "Map4 = geemap.Map(location=[ 52.1952, 6.773208], zoom=15)\n",
    "# Map1.add_basemap('SATELLITE')\n",
    "Map4\n",
    "Map4.addLayer(Image_1_metrics, ndviParams, \"MedianImage\", True) \n",
    "Map4\n",
    "\n"
   ]
  },
  {
   "cell_type": "code",
   "execution_count": null,
   "metadata": {},
   "outputs": [],
   "source": [
    "Map5 = geemap.Map(location=[ 52.1952, 6.773208], zoom=15)\n",
    "# Map1.add_basemap('SATELLITE')\n",
    "Map5\n",
    "Map5.addLayer(Image_2_metrics, ndviParams, \"MedianImage\", True) \n",
    "Map5\n",
    "\n",
    "\n"
   ]
  },
  {
   "cell_type": "code",
   "execution_count": null,
   "outputs": [],
   "source": [],
   "metadata": {
    "collapsed": false
   }
  }
 ],
 "metadata": {
  "kernelspec": {
   "display_name": "Python 3 (ipykernel)",
   "language": "python",
   "name": "python3"
  },
  "language_info": {
   "codemirror_mode": {
    "name": "ipython",
    "version": 3
   },
   "file_extension": ".py",
   "mimetype": "text/x-python",
   "name": "python",
   "nbconvert_exporter": "python",
   "pygments_lexer": "ipython3",
   "version": "3.10.9"
  }
 },
 "nbformat": 4,
 "nbformat_minor": 1
}
