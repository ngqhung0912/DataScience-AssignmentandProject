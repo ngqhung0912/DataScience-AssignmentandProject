{
 "cells": [
  {
   "cell_type": "code",
   "execution_count": null,
   "metadata": {
    "pycharm": {
     "is_executing": true
    }
   },
   "outputs": [],
   "source": [
    "import sys\n",
    "import os\n",
    "import ee\n",
    "import geemap\n",
    "import rasterio\n",
    "import requests\n",
    "from io import BytesIO\n",
    "import matplotlib.pyplot as plt\n",
    "import numpy as np\n",
    "import matplotlib.colors as colors\n",
    "\n",
    "\n",
    "try:\n",
    "    # Initialize the library.\n",
    "#     ee.Authenticate()\n",
    "    ee.Initialize()\n",
    "    print('Google Earth Engine has initialized successfully!')\n",
    "except ee.EEException as e:\n",
    "    print('Google Earth Engine has failed to initialize!')\n",
    "except:\n",
    "    print(\"Unexpected error:\", sys.exc_info()[0])\n",
    "    raise\n",
    "    \n",
    "    \n"
   ]
  },
  {
   "cell_type": "code",
   "execution_count": 2,
   "metadata": {},
   "outputs": [],
   "source": [
    "def add_metrics(image):\n",
    "    ndvi = image.normalizedDifference(['B7', 'B4']).rename('NDVI')\n",
    "    gndvi = image.normalizedDifference(['B7', 'B3']).rename('GNDVI')   \n",
    "    savi = ee.Image().expression('((NIR-Red)/(NIR+Red+0.5))*1.5', {\n",
    "        'NIR': image.select('B8').multiply(0.0001),\n",
    "        'Red': image.select('B4').multiply(0.0001)\n",
    "      }).rename('SAVI')\n",
    "    return image.addBands([ndvi, gndvi, savi])\n",
    "\n",
    "def create_gif_from_collection(image_collection,\n",
    "                               clipRegion,\n",
    "                               bands,\n",
    "                               min_val,\n",
    "                               max_val, \n",
    "                               palette: ['#640000', '#ff0000', '#ffff00', '#00c800', '#006400']):\n",
    "    filmArgs = {\n",
    "    \"dimensions\": 128,\n",
    "    \"region\": clipRegion,\n",
    "    \"crs\": 'EPSG:3857',\n",
    "    \"min\": min_val, \n",
    "    \"max\" : max_val,\n",
    "    \"palette\":  palette,\n",
    "#     \"palette\":  ['#006400', '#00c800', '#ffff00', '#ff0000', '#640000'],\n",
    "#     \"palette\": ['white', 'green'],\n",
    "#     \"bands\": ['B4', 'B3', 'B2'],\n",
    "    \"bands\": bands,\n",
    "    \"framesPerSecond\": 1, \n",
    "}\n",
    "    return image_collection.map(add_metrics).filterDate('2019-02-01', '2019-06-30').filterMetadata('CLOUDY_PIXEL_PERCENTAGE', 'less_than', 25).getVideoThumbURL(filmArgs)\n",
    "\n",
    "def listOfImages_printer(imagesList):\n",
    "    print(len(imagesList))\n",
    "    for i in range(len(imagesList)):\n",
    "        if i < 10:\n",
    "            print(i,\"    \",imagesList[i])\n",
    "        else: \n",
    "            print(i,\"   \",imagesList[i])\n",
    "\n",
    "        if (i+1) % 3 == 0:  \n",
    "            print(\" \")\n",
    "            \n",
    "def get_image_date(image): \n",
    "    return ee.Date(ee.Image(image).get('system:time_start')).format(\"yyyy-MM-dd\").getInfo()\n",
    "\n",
    "def show_image(Map, ImagesCollection, index, clipRegion, params):\n",
    "    Images = ImagesCollection.toList(ImagesCollection.size())\n",
    "    Image = ee.Image(Images.get(index)).clip(clipRegion)\n",
    "    Image_metrics = add_metrics(Image).clip(clipRegion)\n",
    "    print(get_image_date(Image_metrics))\n",
    "    Map.addLayer(Image_metrics, params, \"\", True) \n",
    "    return Map\n",
    "\n",
    "def show_image_diff(Map, ImagesCollection, index_1, index_2, clipRegion, params):\n",
    "    Images = ImagesCollection.toList(ImagesCollection.size())\n",
    "    Image_1 = ee.Image(Images.get(index_1)).clip(clipRegion)\n",
    "    Image_1_metrics = add_metrics(Image_1)\n",
    "\n",
    "    Image_2 = ee.Image(Images.get(index_2)).clip(clipRegion)\n",
    "    Image_2_metrics = add_metrics(Image_2)\n",
    "    print(get_image_date(Image_2), get_image_date(Image_1))\n",
    "    Image_diff = (Image_1_metrics.subtract(Image_2_metrics)).abs().select(['NDVI', 'SAVI', 'GNDVI'])\n",
    "    Map.addLayer(Image_diff, params, \"\", True) \n",
    "    return Map\n",
    "\n",
    "def get_image(ImagesCollection, index, clipRegion):\n",
    "    Images = ImagesCollection.toList(ImagesCollection.size())\n",
    "    Image = ee.Image(Images.get(index)).clip(clipRegion)\n",
    "    return ee.Image(add_metrics(Image).clip(clipRegion))\n",
    "    \n",
    "\n"
   ]
  },
  {
   "cell_type": "code",
   "execution_count": 3,
   "metadata": {},
   "outputs": [
    {
     "data": {
      "application/vnd.jupyter.widget-view+json": {
       "model_id": "f462385a5e5c4e389d1617588f6ee8cd",
       "version_major": 2,
       "version_minor": 0
      },
      "text/plain": [
       "Map(center=[52.191838, 6.741434], controls=(WidgetControl(options=['position', 'transparent_bg'], widget=HBox(…"
      ]
     },
     "metadata": {},
     "output_type": "display_data"
    }
   ],
   "source": [
    "Map1 = geemap.Map(location=[52.191838, 6.741434], zoom=13)\n",
    "# Map1.add_basemap('SATELLITE')\n",
    "Map1\n"
   ]
  },
  {
   "cell_type": "code",
   "execution_count": 192,
   "metadata": {},
   "outputs": [
    {
     "data": {
      "text/plain": [
       "[[[6.838521, 52.214874],\n",
       "  [6.834358, 52.214137],\n",
       "  [6.829466, 52.211902],\n",
       "  [6.824831, 52.208247],\n",
       "  [6.828564, 52.206169],\n",
       "  [6.835688, 52.204591],\n",
       "  [6.859421, 52.20204],\n",
       "  [6.855172, 52.204565],\n",
       "  [6.849379, 52.208615],\n",
       "  [6.845001, 52.212244],\n",
       "  [6.841396, 52.213296],\n",
       "  [6.838521, 52.214874]]]"
      ]
     },
     "execution_count": 192,
     "metadata": {},
     "output_type": "execute_result"
    }
   ],
   "source": [
    "fc = ee.FeatureCollection(Map1.draw_last_feature)\n",
    "region = fc.geometry()\n",
    "cords = region.getInfo()['coordinates']\n",
    "cords"
   ]
  },
  {
   "cell_type": "code",
   "execution_count": 201,
   "metadata": {},
   "outputs": [],
   "source": []
  },
  {
   "cell_type": "code",
   "execution_count": 5,
   "metadata": {},
   "outputs": [],
   "source": [
    "region = ee.Geometry.Polygon([[[6.838521, 52.214874],\n",
    "  [6.834358, 52.214137],\n",
    "  [6.829466, 52.211902],\n",
    "  [6.824831, 52.208247],\n",
    "  [6.828564, 52.206169],\n",
    "  [6.835688, 52.204591],\n",
    "  [6.859421, 52.20204],\n",
    "  [6.855172, 52.204565],\n",
    "  [6.849379, 52.208615],\n",
    "  [6.845001, 52.212244],\n",
    "  [6.841396, 52.213296],\n",
    "  [6.838521, 52.214874]]]\n",
    ")"
   ]
  },
  {
   "cell_type": "code",
   "execution_count": 6,
   "metadata": {},
   "outputs": [
    {
     "name": "stdout",
     "output_type": "stream",
     "text": [
      "Number of images in the collection:  27\n"
     ]
    }
   ],
   "source": [
    "myCollection = ee.ImageCollection('COPERNICUS/S2_SR_HARMONIZED') \\\n",
    "    .filterBounds(region) \\\n",
    "    .filterDate('2019-02-01', '2019-06-30') \\\n",
    "    .filterMetadata('CLOUDY_PIXEL_PERCENTAGE', 'less_than', 25)\n",
    "listOfImages = myCollection.aggregate_array('system:index').getInfo()\n",
    "print('Number of images in the collection: ', len(listOfImages))\n",
    "\n",
    "Images = myCollection.toList(myCollection.size())\n",
    "\n"
   ]
  },
  {
   "cell_type": "code",
   "execution_count": 195,
   "metadata": {},
   "outputs": [
    {
     "name": "stdout",
     "output_type": "stream",
     "text": [
      "0      20190227T104019_20190227T104021_T31UGT\n",
      "1      20190227T104019_20190227T104021_T31UGU\n",
      "2      20190227T104019_20190227T104021_T32ULC\n",
      " \n",
      "3      20190319T104019_20190319T104101_T31UGT\n",
      "4      20190319T104019_20190319T104101_T31UGU\n",
      "5      20190319T104019_20190319T104101_T32ULC\n",
      " \n",
      "6      20190329T104029_20190329T104024_T31UGT\n",
      "7      20190329T104029_20190329T104024_T31UGU\n",
      "8      20190329T104029_20190329T104024_T32ULC\n",
      " \n",
      "9      20190408T104029_20190408T104058_T31UGT\n",
      "10     20190408T104029_20190408T104058_T31UGU\n",
      "11     20190408T104029_20190408T104058_T32ULC\n",
      " \n",
      "12     20190418T104029_20190418T104115_T31UGT\n",
      "13     20190418T104029_20190418T104115_T32ULC\n",
      "14     20190423T104031_20190423T104025_T31UGU\n",
      " \n",
      "15     20190513T104031_20190513T104026_T31UGT\n",
      "16     20190513T104031_20190513T104026_T31UGU\n",
      "17     20190513T104031_20190513T104026_T32ULC\n",
      " \n",
      "18     20190607T104029_20190607T104533_T31UGT\n",
      "19     20190607T104029_20190607T104533_T31UGU\n",
      "20     20190607T104029_20190607T104533_T32ULC\n",
      " \n",
      "21     20190617T104029_20190617T104030_T31UGT\n",
      "22     20190617T104029_20190617T104030_T31UGU\n",
      "23     20190617T104029_20190617T104030_T32ULC\n",
      " \n",
      "24     20190622T104031_20190622T104026_T31UGU\n",
      "25     20190627T104029_20190627T104030_T31UGT\n",
      "26     20190627T104029_20190627T104030_T32ULC\n",
      " \n"
     ]
    }
   ],
   "source": [
    "\n",
    "print(create_gif_from_collection(myCollection))"
   ]
  },
  {
   "cell_type": "code",
   "execution_count": 8,
   "metadata": {},
   "outputs": [],
   "source": [
    "visParams = {\"min\": 0, \n",
    "              \"max\": 1500, \n",
    "              \"bands\": [\"B4\", \"B3\", \"B2\"]}\n",
    "\n",
    "ndviParams_diff = {min: 0, max: 1, \"palette\":  ['00cd00', 'ffff00', 'ffa500', 'cd0000', '8b0000'], \"bands\": ['NDVI']};\n",
    "\n",
    "\n",
    "\n",
    "gndviParams_diff = {min: 0, max: 1, \"palette\":  ['00cd00', 'ffff00', 'ffa500', 'cd0000', '8b0000'], \"bands\": ['GNDVI']};\n",
    "\n",
    "saviParams_diff = {min: 0, max: 1, \"palette\":  ['00cd00', 'ffff00', 'ffa500', 'cd0000', '8b0000'], \"bands\": ['SAVI']};\n",
    "\n",
    "ndviParams = {min: -1, max: 1,     \"palette\":  ['#640000', '#ff0000', '#ffff00', '#00c800', '#006400'], \"bands\": ['NDVI']};\n",
    "\n",
    "\n"
   ]
  },
  {
   "cell_type": "code",
   "execution_count": 10,
   "metadata": {},
   "outputs": [
    {
     "name": "stdout",
     "output_type": "stream",
     "text": [
      "20190329T104029_20190329T104024_T31UGT\n"
     ]
    },
    {
     "data": {
      "application/vnd.jupyter.widget-view+json": {
       "model_id": "0ff7667eb62f4911a2432266a8e01673",
       "version_major": 2,
       "version_minor": 0
      },
      "text/plain": [
       "Map(center=[52.179988, 6.888958], controls=(WidgetControl(options=['position', 'transparent_bg'], widget=HBox(…"
      ]
     },
     "metadata": {},
     "output_type": "display_data"
    }
   ],
   "source": [
    "index = 6\n",
    "\n",
    "Image_1 = ee.Image(Images.get(index)).clip(region)\n",
    "Image_1_metrics = add_metrics(Image_1)\n",
    "print(listOfImages[index])\n",
    "Map3 = geemap.Map(location=[52.179988, 6.888958], zoom=15)\n",
    "Map3.addLayer(Image_1_metrics, ndviParams, \"MedianImage\", True) \n",
    "Map3\n"
   ]
  },
  {
   "cell_type": "code",
   "execution_count": 234,
   "metadata": {},
   "outputs": [
    {
     "name": "stdout",
     "output_type": "stream",
     "text": [
      "20190617T104029_20190617T104030_T31UGT 20190607T104029_20190607T104533_T31UGT\n"
     ]
    },
    {
     "data": {
      "application/vnd.jupyter.widget-view+json": {
       "model_id": "fb5c3ecff6894aa893665c6b65d4c353",
       "version_major": 2,
       "version_minor": 0
      },
      "text/plain": [
       "Map(center=[52.199988, 6.838958], controls=(WidgetControl(options=['position', 'transparent_bg'], widget=HBox(…"
      ]
     },
     "metadata": {},
     "output_type": "display_data"
    }
   ],
   "source": [
    "\n"
   ]
  },
  {
   "cell_type": "code",
   "execution_count": 13,
   "metadata": {},
   "outputs": [
    {
     "name": "stdout",
     "output_type": "stream",
     "text": [
      "20190319T104019_20190319T104101_T31UGT 20190329T104029_20190329T104024_T31UGT\n"
     ]
    },
    {
     "data": {
      "application/vnd.jupyter.widget-view+json": {
       "model_id": "3fd72fb63e7f4c19a794a16c607dd2fa",
       "version_major": 2,
       "version_minor": 0
      },
      "text/plain": [
       "Map(center=[52.199988, 6.838958], controls=(WidgetControl(options=['position', 'transparent_bg'], widget=HBox(…"
      ]
     },
     "metadata": {},
     "output_type": "display_data"
    }
   ],
   "source": [
    "Image_1 = ee.Image(Images.get(9)).clip(region)\n",
    "Image_1_metrics = add_metrics(Image_1)\n",
    "\n",
    "Image_2 = ee.Image(Images.get(6)).clip(region)\n",
    "Image_2_metrics = add_metrics(Image_2)\n",
    "\n",
    "Image_diff = (Image_1_metrics.subtract(Image_2_metrics)).abs().select(['NDVI', 'SAVI', 'GNDVI'])\n",
    "print(listOfImages[3],listOfImages[6])\n",
    "\n",
    "\n",
    "Map4 = geemap.Map(location=[52.199988, 6.838958], zoom=14)\n",
    "Map4.addLayer(Image_diff, ndviParams_diff, \"MedianImage\", True) \n",
    "Map4\n",
    "\n"
   ]
  },
  {
   "cell_type": "code",
   "execution_count": 309,
   "metadata": {},
   "outputs": [],
   "source": [
    "fc = ee.FeatureCollection(Map4.draw_last_feature)\n",
    "cords = fc.geometry().getInfo()['coordinates']\n",
    "cords"
   ]
  },
  {
   "cell_type": "code",
   "execution_count": 15,
   "metadata": {},
   "outputs": [],
   "source": [
    "region_usselo_2_234_135_2019_glyph_corn = ee.Geometry.Polygon([[[6.844, 52.209074],\n",
    "  [6.843228, 52.20818],\n",
    "  [6.845138, 52.20724],\n",
    "  [6.846114, 52.208002],\n",
    "  [6.844387, 52.209192],\n",
    "  [6.844, 52.209074]]])\n",
    "\n",
    "region_usselo_1_293_084_2019_glyph = ee.Geometry.Polygon([[[6.848914, 52.206803],\n",
    "  [6.849451, 52.20604],\n",
    "  [6.849697, 52.205863],\n",
    "  [6.849944, 52.205836],\n",
    "  [6.849955, 52.205646],\n",
    "  [6.850245, 52.205613],\n",
    "  [6.850234, 52.205323],\n",
    "  [6.8515, 52.205258],\n",
    "  [6.851468, 52.205777],\n",
    "  [6.851189, 52.206441],\n",
    "  [6.851189, 52.206901],\n",
    "  [6.85106, 52.20727],\n",
    "  [6.848914, 52.206803]]])\n",
    "\n",
    "region_usselo_Usseleresweg_293_084_2019_glyph = ee.Geometry.Polygon([[[6.833486, 52.207986],\n",
    "  [6.829935, 52.20721],\n",
    "  [6.833443, 52.207099],\n",
    "  [6.833347, 52.206882],\n",
    "  [6.8331, 52.206408],\n",
    "  [6.835364, 52.206329],\n",
    "  [6.835503, 52.207158],\n",
    "  [6.833712, 52.207296],\n",
    "  [6.833486, 52.207986]]])\n",
    "\n",
    "\n",
    "region_usselo_Usselerscholweg_293_084_2019_glyph = ee.Geometry.Polygon([[[6.850706, 52.207381],\n",
    "  [6.849032, 52.206698],\n",
    "  [6.850234, 52.205475],\n",
    "  [6.851403, 52.205455],\n",
    "  [6.850706, 52.207381]]]) #06-17 to 06-22 too!\n",
    "\n",
    "\n",
    "region_usselo_Ruilverkavelingsweg_293_084_2019_glyph = ee.Geometry.Polygon([[[6.840021, 52.206288],\n",
    "  [6.836459, 52.207379],\n",
    "  [6.836566, 52.206959],\n",
    "  [6.837961, 52.206709],\n",
    "  [6.838025, 52.205525],\n",
    "  [6.839957, 52.205486],\n",
    "  [6.840021, 52.206288]]])\n",
    "\n",
    "region_usselo_Haaksbergerstraat_293_084_2019_glyph = ee.Geometry.Polygon([[[6.837188, 52.204605],\n",
    "  [6.849098, 52.203145],\n",
    "  [6.849269, 52.204907],\n",
    "  [6.84796, 52.20496],\n",
    "  [6.847789, 52.203434],\n",
    "  [6.844763, 52.203763],\n",
    "  [6.844935, 52.204868],\n",
    "  [6.839399, 52.205039],\n",
    "  [6.837188, 52.204605]]])\n",
    "\n",
    "region_usselo_Ruilverkavelingsweg2_184_084_2019_glyph = ee.Geometry.Polygon([[[6.843497, 52.210995],\n",
    "  [6.842961, 52.210233],\n",
    "  [6.845171, 52.209233],\n",
    "  [6.845815, 52.209996],\n",
    "  [6.843497, 52.210995]]]\n",
    ") \n",
    "\n",
    "# Most site, also over to 135!!!\n",
    "\n",
    "\n"
   ]
  },
  {
   "cell_type": "code",
   "execution_count": 16,
   "metadata": {},
   "outputs": [
    {
     "name": "stdout",
     "output_type": "stream",
     "text": [
      "24\n",
      "0      20190319T104019_20190319T104101_T31UGT\n",
      "1      20190319T104019_20190319T104101_T31UGU\n",
      "2      20190319T104019_20190319T104101_T32ULC\n",
      " \n",
      "3      20190329T104029_20190329T104024_T31UGT\n",
      "4      20190329T104029_20190329T104024_T31UGU\n",
      "5      20190329T104029_20190329T104024_T32ULC\n",
      " \n",
      "6      20190408T104029_20190408T104058_T31UGT\n",
      "7      20190408T104029_20190408T104058_T31UGU\n",
      "8      20190408T104029_20190408T104058_T32ULC\n",
      " \n",
      "9      20190418T104029_20190418T104115_T31UGT\n",
      "10     20190418T104029_20190418T104115_T32ULC\n",
      "11     20190423T104031_20190423T104025_T31UGU\n",
      " \n",
      "12     20190513T104031_20190513T104026_T31UGT\n",
      "13     20190513T104031_20190513T104026_T31UGU\n",
      "14     20190513T104031_20190513T104026_T32ULC\n",
      " \n",
      "15     20190607T104029_20190607T104533_T31UGT\n",
      "16     20190607T104029_20190607T104533_T31UGU\n",
      "17     20190607T104029_20190607T104533_T32ULC\n",
      " \n",
      "18     20190617T104029_20190617T104030_T31UGT\n",
      "19     20190617T104029_20190617T104030_T31UGU\n",
      "20     20190617T104029_20190617T104030_T32ULC\n",
      " \n",
      "21     20190622T104031_20190622T104026_T31UGU\n",
      "22     20190627T104029_20190627T104030_T31UGT\n",
      "23     20190627T104029_20190627T104030_T32ULC\n",
      " \n"
     ]
    }
   ],
   "source": [
    "collection = ee.ImageCollection('COPERNICUS/S2_SR_HARMONIZED') \\\n",
    "    .filterBounds(region_usselo_Ruilverkavelingsweg2_184_084_2019_glyph) \\\n",
    "    .filterDate('2019-03-01', '2019-06-30') \\\n",
    "    .filterMetadata('CLOUDY_PIXEL_PERCENTAGE', 'less_than', 25)\n",
    "listOfImages = collection.aggregate_array('system:index').getInfo()\n",
    "listOfImages_printer(listOfImages)\n"
   ]
  },
  {
   "cell_type": "code",
   "execution_count": 22,
   "metadata": {},
   "outputs": [
    {
     "name": "stdout",
     "output_type": "stream",
     "text": [
      "2019-06-07\n"
     ]
    },
    {
     "data": {
      "application/vnd.jupyter.widget-view+json": {
       "model_id": "654544d922084ff5bede50cfe8d6e66e",
       "version_major": 2,
       "version_minor": 0
      },
      "text/plain": [
       "Map(center=[52.20496, 6.84796], controls=(WidgetControl(options=['position', 'transparent_bg'], widget=HBox(ch…"
      ]
     },
     "metadata": {},
     "output_type": "display_data"
    }
   ],
   "source": [
    "Map = geemap.Map(location=[52.20496, 6.84796], zoom=15)\n",
    "show_image(Map, collection, 15, region_usselo_Ruilverkavelingsweg2_184_084_2019_glyph, ndviParams)\n",
    "# show_image_diff(Map, collection, 18, 21, region_usselo_234_135_2019_glyph, ndviParams_diff)"
   ]
  },
  {
   "cell_type": "code",
   "execution_count": null,
   "metadata": {},
   "outputs": [],
   "source": [
    "image = get_image(collection, 15, region_usselo_Ruilverkavelingsweg2_184_084_2019_glyph)\n",
    "field = \"Ruilverkavelingsweg2/\"\n",
    "filename = \"Usselo-Enschede/\" + field + get_image_date(image) + \".tif\"\n",
    "geemap.ee_export_image(\n",
    "    image,\n",
    "    filename=filename, \n",
    "    scale=30, \n",
    "    region=region_usselo_Ruilverkavelingsweg2_184_084_2019_glyph, \n",
    "    file_per_band=False\n",
    ")"
   ]
  },
  {
   "cell_type": "markdown",
   "metadata": {},
   "source": [
    "##### "
   ]
  }
 ],
 "metadata": {
  "kernelspec": {
   "display_name": "Python 3 (ipykernel)",
   "language": "python",
   "name": "python3"
  },
  "language_info": {
   "codemirror_mode": {
    "name": "ipython",
    "version": 3
   },
   "file_extension": ".py",
   "mimetype": "text/x-python",
   "name": "python",
   "nbconvert_exporter": "python",
   "pygments_lexer": "ipython3",
   "version": "3.10.9"
  }
 },
 "nbformat": 4,
 "nbformat_minor": 1
}
