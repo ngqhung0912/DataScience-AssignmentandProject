{
 "cells": [
  {
   "cell_type": "code",
   "execution_count": 1,
   "metadata": {
    "collapsed": true
   },
   "outputs": [
    {
     "data": {
      "text/html": [
       "<p>To authorize access needed by Earth Engine, open the following\n",
       "        URL in a web browser and follow the instructions:</p>\n",
       "        <p><a href=https://code.earthengine.google.com/client-auth?scopes=https%3A//www.googleapis.com/auth/earthengine%20https%3A//www.googleapis.com/auth/devstorage.full_control&request_id=zVEwUmcBTD90r82hr-eeG0O7MYRQ3nzMBdfhjshH04M&tc=EAj9dTbOSX3MhrXEauHKhj6QF3OwlSw0dys8eTdDUr4&cc=I4PHLkR6nNo7tG3esx18tXA-rxPDAHrqhWdZaDrwe3s>https://code.earthengine.google.com/client-auth?scopes=https%3A//www.googleapis.com/auth/earthengine%20https%3A//www.googleapis.com/auth/devstorage.full_control&request_id=zVEwUmcBTD90r82hr-eeG0O7MYRQ3nzMBdfhjshH04M&tc=EAj9dTbOSX3MhrXEauHKhj6QF3OwlSw0dys8eTdDUr4&cc=I4PHLkR6nNo7tG3esx18tXA-rxPDAHrqhWdZaDrwe3s</a></p>\n",
       "        <p>The authorization workflow will generate a code, which you should paste in the box below.</p>\n",
       "        "
      ],
      "text/plain": [
       "<IPython.core.display.HTML object>"
      ]
     },
     "metadata": {},
     "output_type": "display_data"
    },
    {
     "name": "stdout",
     "output_type": "stream",
     "text": [
      "\n",
      "Successfully saved authorization token.\n",
      "Google Earth Engine has initialized successfully!\n"
     ]
    }
   ],
   "source": [
    "import sys\n",
    "import os\n",
    "import ee\n",
    "import geemap\n",
    "import rasterio\n",
    "import requests\n",
    "from io import BytesIO\n",
    "import matplotlib.pyplot as plt\n",
    "import numpy as np\n",
    "import matplotlib.colors as colors\n",
    "\n",
    "\n",
    "try:\n",
    "    # Initialize the library.\n",
    "    ee.Authenticate()\n",
    "    ee.Initialize()\n",
    "    print('Google Earth Engine has initialized successfully!')\n",
    "except ee.EEException as e:\n",
    "    print('Google Earth Engine has failed to initialize!')\n",
    "except:\n",
    "    print(\"Unexpected error:\", sys.exc_info()[0])\n",
    "    raise\n",
    "    \n",
    "    \n"
   ]
  },
  {
   "cell_type": "code",
   "execution_count": 10,
   "metadata": {},
   "outputs": [],
   "source": [
    "def add_metrics(image):\n",
    "    ndvi = image.normalizedDifference(['B7', 'B4']).rename('NDVI')\n",
    "    gndvi = image.normalizedDifference(['B7', 'B3']).rename('GNDVI')   \n",
    "    savi = ee.Image().expression('((NIR-Red)/(NIR+Red+0.5))*1.5', {\n",
    "        'NIR': image.select('B8').multiply(0.0001),\n",
    "        'Red': image.select('B4').multiply(0.0001)\n",
    "      }).rename('SAVI')\n",
    "#     cvi = ee.Image().expression('(NIR/Green)*(Red/Green)', {\n",
    "#         'NIR': input.select('B8').multiply(0.0001),\n",
    "#         'Red': input.select('B4').multiply(0.0001),\n",
    "#         'Green': input.select('B3').multiply(0.0001)\n",
    "#       }).rename('SAVI')\n",
    "#     evi = image.expression(\n",
    "#       '2.5 * ((NIR - RED) / (NIR + 6 * RED - 7.5 * BLUE + 1))', {\n",
    "#       'NIR' : image.select('B8').divide(10000),\n",
    "#       'RED' : image.select('B4').divide(10000),\n",
    "#       'BLUE': image.select('B2').divide(10000)}).rename('EVI')\n",
    "    return image.addBands([ndvi, gndvi, savi])\n"
   ]
  },
  {
   "cell_type": "code",
   "execution_count": 4,
   "metadata": {},
   "outputs": [
    {
     "data": {
      "application/vnd.jupyter.widget-view+json": {
       "model_id": "0b7b270848b44fba8e1f7eb8670fdde3",
       "version_major": 2,
       "version_minor": 0
      },
      "text/plain": [
       "Map(center=[52.191838, 6.741434], controls=(WidgetControl(options=['position', 'transparent_bg'], widget=HBox(…"
      ]
     },
     "metadata": {},
     "output_type": "display_data"
    }
   ],
   "source": [
    "Map1 = geemap.Map(location=[52.191838, 6.741434], zoom=13)\n",
    "Map1.add_basemap('SATELLITE')\n",
    "Map1\n"
   ]
  },
  {
   "cell_type": "code",
   "execution_count": 5,
   "metadata": {},
   "outputs": [
    {
     "data": {
      "text/plain": [
       "[[[6.83865, 52.214627],\n",
       "  [6.834274, 52.213759],\n",
       "  [6.826034, 52.208342],\n",
       "  [6.833802, 52.205844],\n",
       "  [6.836291, 52.206554],\n",
       "  [6.837922, 52.205739],\n",
       "  [6.844102, 52.205555],\n",
       "  [6.845003, 52.207027],\n",
       "  [6.846996, 52.208514],\n",
       "  [6.846309, 52.209526],\n",
       "  [6.846502, 52.210565],\n",
       "  [6.843886, 52.212392],\n",
       "  [6.841182, 52.212918],\n",
       "  [6.83865, 52.214627]]]"
      ]
     },
     "execution_count": 5,
     "metadata": {},
     "output_type": "execute_result"
    }
   ],
   "source": [
    "fc = ee.FeatureCollection(Map1.draw_last_feature)\n",
    "region = fc.geometry()\n",
    "cords = region.getInfo()['coordinates']\n",
    "cords\n",
    "#%%\n"
   ]
  },
  {
   "cell_type": "code",
   "execution_count": 6,
   "metadata": {},
   "outputs": [],
   "source": [
    "region = ee.Geometry.Polygon([[[6.83865, 52.214627],\n",
    "  [6.834274, 52.213759],\n",
    "  [6.826034, 52.208342],\n",
    "  [6.833802, 52.205844],\n",
    "  [6.836291, 52.206554],\n",
    "  [6.837922, 52.205739],\n",
    "  [6.844102, 52.205555],\n",
    "  [6.845003, 52.207027],\n",
    "  [6.846996, 52.208514],\n",
    "  [6.846309, 52.209526],\n",
    "  [6.846502, 52.210565],\n",
    "  [6.843886, 52.212392],\n",
    "  [6.841182, 52.212918],\n",
    "  [6.83865, 52.214627]]]\n",
    ")"
   ]
  },
  {
   "cell_type": "code",
   "execution_count": 25,
   "metadata": {},
   "outputs": [
    {
     "name": "stdout",
     "output_type": "stream",
     "text": [
      "Number of images in the collection:  ['20190408T104029_20190408T104058_T31UGT', '20190408T104029_20190408T104058_T31UGU', '20190408T104029_20190408T104058_T32ULC', '20190513T104031_20190513T104026_T31UGT', '20190513T104031_20190513T104026_T31UGU', '20190513T104031_20190513T104026_T32ULC', '20190627T104029_20190627T104030_T31UGT', '20190627T104029_20190627T104030_T32ULC', '20190727T104029_20190727T104330_T31UGU', '20190821T104031_20190821T104025_T32ULC', '20190826T104029_20190826T104232_T31UGT', '20190826T104029_20190826T104232_T31UGU', '20190826T104029_20190826T104232_T32ULC']\n"
     ]
    }
   ],
   "source": [
    "myCollection = ee.ImageCollection('COPERNICUS/S2_SR_HARMONIZED') \\\n",
    "    .filterBounds(region) \\\n",
    "    .filterDate('2019-04-01', '2019-08-31') \\\n",
    "    .filterMetadata('CLOUDY_PIXEL_PERCENTAGE', 'less_than', 10)\n",
    "listOfImages = myCollection.aggregate_array('system:index').getInfo()\n",
    "print('Number of images in the collection: ', listOfImages)\n"
   ]
  },
  {
   "cell_type": "code",
   "execution_count": 26,
   "metadata": {},
   "outputs": [
    {
     "name": "stdout",
     "output_type": "stream",
     "text": [
      "https://earthengine.googleapis.com/v1alpha/projects/earthengine-legacy/videoThumbnails/6973ba8d272e7fa1a4c4f3cb9d994be0-1f5532b5a3c71486c4eebaf48b35d9a5:getPixels\n"
     ]
    }
   ],
   "source": [
    "filmArgs = {\n",
    "    \"dimensions\": 128,\n",
    "    \"region\": region,\n",
    "    \"crs\": 'EPSG:3857',\n",
    "    \"min\": 0.2, \n",
    "    \"max\" : 1,\n",
    "    \"palette\":  ['#640000', '#ff0000', '#ffff00', '#00c800', '#006400'],\n",
    "#     \"palette\":  ['#006400', '#00c800', '#ffff00', '#ff0000', '#640000'],\n",
    "#     \"palette\": ['white', 'green'],\n",
    "#     \"bands\": ['B4', 'B3', 'B2'],\n",
    "    \"bands\": ['NDVI'],\n",
    "    \"framesPerSecond\": 1\n",
    "}\n",
    "\n",
    "print(myCollection.map(add_metrics).filterMetadata('CLOUDY_PIXEL_PERCENTAGE', 'less_than', 25).getVideoThumbURL(filmArgs));\n"
   ]
  },
  {
   "cell_type": "code",
   "execution_count": null,
   "metadata": {},
   "outputs": [],
   "source": []
  }
 ],
 "metadata": {
  "kernelspec": {
   "display_name": "Python 3 (ipykernel)",
   "language": "python",
   "name": "python3"
  },
  "language_info": {
   "codemirror_mode": {
    "name": "ipython",
    "version": 3
   },
   "file_extension": ".py",
   "mimetype": "text/x-python",
   "name": "python",
   "nbconvert_exporter": "python",
   "pygments_lexer": "ipython3",
   "version": "3.10.9"
  }
 },
 "nbformat": 4,
 "nbformat_minor": 1
}
