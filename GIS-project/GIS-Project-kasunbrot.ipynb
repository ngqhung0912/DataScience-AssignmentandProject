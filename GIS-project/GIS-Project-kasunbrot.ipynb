{
 "cells": [
  {
   "cell_type": "code",
   "execution_count": 2,
   "metadata": {},
   "outputs": [],
   "source": [
    "import ee\n",
    "import geemap\n",
    "# ee.Authenticate()"
   ]
  },
  {
   "cell_type": "code",
   "execution_count": 3,
   "metadata": {},
   "outputs": [
    {
     "name": "stdout",
     "output_type": "stream",
     "text": [
      "Google Earth Engine has initialized successfully!\n"
     ]
    }
   ],
   "source": [
    "import sys\n",
    "try:\n",
    "    # Initialize the library.\n",
    "    ee.Initialize()\n",
    "    print('Google Earth Engine has initialized successfully!')\n",
    "except ee.EEException as e:\n",
    "    print(e)\n",
    "    print('Google Earth Engine has failed to initialize!')\n",
    "except:\n",
    "    print(\"Unexpected error:\", sys.exc_info()[0])\n",
    "    raise\n",
    "    \n",
    "def add_metrics(image):\n",
    "    ndvi = image.normalizedDifference(['B7', 'B4']).rename('NDVI')\n",
    "    gndvi = image.normalizedDifference(['B7', 'B3']).rename('GNDVI')   \n",
    "    savi = ee.Image().expression('((NIR-Red)/(NIR+Red+0.5))*1.5', {\n",
    "        'NIR': image.select('B8').multiply(0.0001),\n",
    "        'Red': image.select('B4').multiply(0.0001)\n",
    "      }).rename('SAVI')\n",
    "    return image.addBands([ndvi, gndvi, savi])"
   ]
  },
  {
   "cell_type": "code",
   "execution_count": 176,
   "metadata": {},
   "outputs": [
    {
     "data": {
      "text/plain": [
       "' \\nRegion for Langer Acke\\n'"
      ]
     },
     "execution_count": 176,
     "metadata": {},
     "output_type": "execute_result"
    }
   ],
   "source": [
    "'''\n",
    "Region for Kas und Brot\n",
    "'''\n",
    "region = ee.Geometry.Polygon([[[10.821064, 50.428389],\n",
    "  [10.818103, 50.427378],\n",
    "  [10.817845, 50.424343],\n",
    "  [10.816343, 50.423031],\n",
    "  [10.817545, 50.421964],\n",
    "  [10.817802, 50.419203],\n",
    "  [10.818875, 50.41841],\n",
    "  [10.820635, 50.419285],\n",
    "  [10.819948, 50.419914],\n",
    "  [10.82042, 50.422183],\n",
    "  [10.822094, 50.421964],\n",
    "  [10.823382, 50.421335],\n",
    "  [10.823339, 50.420843],\n",
    "  [10.823768, 50.42046],\n",
    "  [10.828017, 50.424234],\n",
    "  [10.82969, 50.424534],\n",
    "  [10.83072, 50.42437],\n",
    "  [10.831064, 50.425382],\n",
    "  [10.823167, 50.427077],\n",
    "  [10.821064, 50.428389]]])\n",
    "'''\n",
    "Region for Lange\n",
    "'''\n",
    "# region = ee.Geometry.Polygon([[[10.816192, 50.399397],\n",
    "#   [10.817222, 50.398495],\n",
    "#   [10.816771, 50.39818],\n",
    "#   [10.817029, 50.397811],\n",
    "#   [10.816557, 50.397633],\n",
    "#   [10.81808, 50.396334],\n",
    "#   [10.81881, 50.395868],\n",
    "#   [10.820076, 50.39621],\n",
    "#   [10.82057, 50.395554],\n",
    "#   [10.820784, 50.395335],\n",
    "#   [10.822887, 50.395554],\n",
    "#   [10.820977, 50.3974],\n",
    "#   [10.820162, 50.397072],\n",
    "#   [10.819604, 50.397373],\n",
    "#   [10.82057, 50.397879],\n",
    "#   [10.819304, 50.399986],\n",
    "#   [10.819304, 50.400314],\n",
    "#   [10.817844, 50.400013],\n",
    "#   [10.816192, 50.399397]]])\n",
    "'''\n",
    "Region for Kessel \n",
    "'''\n",
    "# region = ee.Geometry.Polygon([[[10.83377, 50.450762],\n",
    "#   [10.832998, 50.450161],\n",
    "#   [10.832848, 50.449724],\n",
    "#   [10.83347, 50.449696],\n",
    "#   [10.834693, 50.449369],\n",
    "#   [10.836216, 50.44915],\n",
    "#   [10.836966, 50.449218],\n",
    "#   [10.837803, 50.449068],\n",
    "#   [10.839777, 50.448357],\n",
    "#   [10.839712, 50.449095],\n",
    "#   [10.838747, 50.449478],\n",
    "#   [10.839004, 50.449669],\n",
    "#   [10.837052, 50.450147],\n",
    "#   [10.835143, 50.450421],\n",
    "#   [10.83377, 50.450762]]]\n",
    "# )\n",
    "'''\n",
    "Region for Kitze\n",
    "\n",
    "'''\n",
    "region = ee.Geometry.Polygon([[[10.832673, 50.46425],\n",
    "  [10.833263, 50.463021],\n",
    "  [10.834217, 50.462481],\n",
    "  [10.835033, 50.464032],\n",
    "  [10.835515, 50.464366],\n",
    "  [10.835183, 50.464503],\n",
    "  [10.834604, 50.464394],\n",
    "  [10.832673, 50.46425]]])\n",
    "''' \n",
    "Region for Langer Acke\n",
    "'''\n",
    "# region = ee.Geometry.Polygon([[[10.832573, 50.454615],\n",
    "#   [10.832069, 50.454041],\n",
    "#   [10.831296, 50.454089],\n",
    "#   [10.828314, 50.453774],\n",
    "#   [10.827531, 50.453788],\n",
    "#   [10.82532, 50.453535],\n",
    "#   [10.825728, 50.452101],\n",
    "#   [10.828496, 50.452155],\n",
    "#   [10.829333, 50.451916],\n",
    "#   [10.830932, 50.451718],\n",
    "#   [10.831951, 50.451882],\n",
    "#   [10.83429, 50.451643],\n",
    "#   [10.83503, 50.452203],\n",
    "#   [10.835041, 50.452893],\n",
    "#   [10.835212, 50.453071],\n",
    "#   [10.836178, 50.453843],\n",
    "#   [10.836103, 50.454041],\n",
    "#   [10.835255, 50.454369],\n",
    "#   [10.8337, 50.454539],\n",
    "#   [10.832573, 50.454615]]])"
   ]
  },
  {
   "cell_type": "code",
   "execution_count": 177,
   "metadata": {},
   "outputs": [
    {
     "name": "stdout",
     "output_type": "stream",
     "text": [
      "['20170706T102021_20170706T102301_T32UPB', '20170719T103021_20170719T103023_T32UPA', '20170719T103021_20170719T103023_T32UPB', '20170808T103021_20170808T103023_T32UPB', '20170815T102021_20170815T102513_T32UPA', '20170815T102021_20170815T102513_T32UPB', '20170825T102021_20170825T102114_T32UPA']\n"
     ]
    }
   ],
   "source": [
    "import os\n",
    "\n",
    "KasUnBrot_collection_2017 = ee.ImageCollection('COPERNICUS/S2_SR_HARMONIZED') \\\n",
    "    .filterBounds(region) \\\n",
    "    .filterDate('2017-07-01', '2017-08-30') \\\n",
    "    .filterMetadata('CLOUDY_PIXEL_PERCENTAGE', 'less_than', 20)\n",
    "\n",
    "listOfImages_2017 = KasUnBrot_collection_2017.aggregate_array('system:index').getInfo()\n",
    "print(listOfImages_2017)\n",
    "\n",
    "KasUnBrot_collection_2017_list = KasUnBrot_collection_2017.toList(KasUnBrot_collection_2017.size())\n",
    "\n",
    "\n",
    "# image = KasUnBrot_collection.first().clip(region)\n",
    "# image = add_metrics(image)\n",
    "# out_dir =  '/Users/hungnguyen/Masters/DataScience/DSAssignments/GIS-project/KasUnBrot-11Apr/'\n",
    "# info = KasUnBrot_collection.aggregate_array('system:index').getInfo()\n",
    "# filename = out_dir + info[0] + '.tif'\n",
    "# print(filename)\n",
    "\n",
    "# geemap.ee_export_image(\n",
    "#     image, filename=filename, scale=30, region=region, file_per_band=False\n",
    "# )"
   ]
  },
  {
   "cell_type": "code",
   "execution_count": 178,
   "metadata": {},
   "outputs": [],
   "source": [
    "visParams = {\"min\": 0, \n",
    "              \"max\": 1500, \n",
    "              \"bands\": [\"B4\", \"B3\", \"B2\"]}\n",
    "\n",
    "ndviParams_diff = {min: 0.2, max: 1, \"palette\":  ['00cd00', 'ffff00', 'ffa500', 'cd0000', '8b0000'], \"bands\": ['NDVI']}\n",
    "gndviParams_diff = {min: 0, max: 1, \"palette\":  ['00cd00', 'ffff00', 'ffa500', 'cd0000', '8b0000'], \"bands\": ['GNDVI']}\n",
    "saviParams_diff = {min: 0, max: 1, \"palette\":  ['00cd00', 'ffff00', 'ffa500', 'cd0000', '8b0000'], \"bands\": ['SAVI']}\n",
    "\n",
    "ndviParams = {min: -1, max: 1, \"palette\":  ['00cd00', 'ffff00', 'ffa500', 'cd0000', '8b0000'], \"bands\": ['NDVI']}\n",
    "\n",
    "\n"
   ]
  },
  {
   "cell_type": "code",
   "execution_count": 179,
   "metadata": {},
   "outputs": [
    {
     "name": "stdout",
     "output_type": "stream",
     "text": [
      "['20180701T102021_20180701T102404_T32UPA', '20180701T102021_20180701T102404_T32UPB', '20180709T103019_20180709T103418_T32UPB', '20180714T103021_20180714T103023_T32UPA', '20180719T103019_20180719T103020_T32UPA', '20180719T103019_20180719T103020_T32UPB', '20180724T103021_20180724T103551_T32UPA', '20180724T103021_20180724T103551_T32UPB', '20180726T102019_20180726T102150_T32UPA', '20180726T102019_20180726T102150_T32UPB', '20180731T102021_20180731T102024_T32UPA', '20180803T103021_20180803T103239_T32UPB', '20180818T103019_20180818T103015_T32UPA', '20180823T103021_20180823T103535_T32UPB']\n"
     ]
    }
   ],
   "source": [
    "KasUnBrot_collection_2018 = ee.ImageCollection('COPERNICUS/S2_SR_HARMONIZED') \\\n",
    "    .filterBounds(region) \\\n",
    "    .filterDate('2018-07-01', '2018-08-30') \\\n",
    "    .filterMetadata('CLOUDY_PIXEL_PERCENTAGE', 'less_than', 10)\n",
    "listOfImages_2018 = KasUnBrot_collection_2018.aggregate_array('system:index').getInfo()\n",
    "print(listOfImages_2018)\n",
    "KasUnBrot_collection_2018_list = KasUnBrot_collection_2018.toList(KasUnBrot_collection_2018.size())\n",
    "\n",
    "\n",
    "\n",
    "\n"
   ]
  },
  {
   "cell_type": "code",
   "execution_count": 180,
   "metadata": {},
   "outputs": [
    {
     "name": "stdout",
     "output_type": "stream",
     "text": [
      "['20190704T103029_20190704T103317_T32UPA', '20190704T103029_20190704T103317_T32UPB', '20190716T102031_20190716T102028_T32UPA', '20190724T103029_20190724T103030_T32UPA', '20190724T103029_20190724T103030_T32UPB', '20190823T103029_20190823T103244_T32UPA', '20190823T103029_20190823T103244_T32UPB', '20190825T102031_20190825T102430_T32UPA', '20190825T102031_20190825T102430_T32UPB']\n",
      "['20200723T103031_20200723T103349_T32UPA', '20200730T102031_20200730T102528_T32UPA', '20200730T102031_20200730T102528_T32UPB', '20200807T102559_20200807T103614_T32UPA', '20200807T102559_20200807T103614_T32UPB', '20200812T103031_20200812T103028_T32UPA']\n",
      "['20210718T103031_20210718T103025_T32UPA', '20210718T103031_20210718T103025_T32UPB', '20210814T102031_20210814T102609_T32UPA', '20210814T102031_20210814T102609_T32UPB']\n"
     ]
    }
   ],
   "source": [
    "KasUnBrot_collection_2019 = ee.ImageCollection('COPERNICUS/S2_SR_HARMONIZED') \\\n",
    "    .filterBounds(region) \\\n",
    "    .filterDate('2019-07-01', '2019-08-30') \\\n",
    "    .filterMetadata('CLOUDY_PIXEL_PERCENTAGE', 'less_than', 10)\n",
    "listOfImages_2019 = KasUnBrot_collection_2019.aggregate_array('system:index').getInfo()\n",
    "print(listOfImages_2019)\n",
    "KasUnBrot_collection_2019_list = KasUnBrot_collection_2019.toList(KasUnBrot_collection_2019.size())\n",
    "\n",
    "KasUnBrot_collection_2020 = ee.ImageCollection('COPERNICUS/S2_SR_HARMONIZED') \\\n",
    "    .filterBounds(region) \\\n",
    "    .filterDate('2020-07-01', '2020-08-30') \\\n",
    "    .filterMetadata('CLOUDY_PIXEL_PERCENTAGE', 'less_than', 10)\n",
    "listOfImages_2020 = KasUnBrot_collection_2020.aggregate_array('system:index').getInfo()\n",
    "print(listOfImages_2020)\n",
    "KasUnBrot_collection_2020_list = KasUnBrot_collection_2020.toList(KasUnBrot_collection_2020.size())\n",
    "\n",
    "KasUnBrot_collection_2021 = ee.ImageCollection('COPERNICUS/S2_SR_HARMONIZED') \\\n",
    "    .filterBounds(region) \\\n",
    "    .filterDate('2021-07-01', '2021-08-30') \\\n",
    "    .filterMetadata('CLOUDY_PIXEL_PERCENTAGE', 'less_than', 10)\n",
    "listOfImages_2021 = KasUnBrot_collection_2021.aggregate_array('system:index').getInfo()\n",
    "print(listOfImages_2021)\n",
    "KasUnBrot_collection_2021_list = KasUnBrot_collection_2021.toList(KasUnBrot_collection_2021.size())\n",
    "\n",
    "\n",
    "\n",
    "\n"
   ]
  },
  {
   "cell_type": "code",
   "execution_count": 136,
   "metadata": {
    "scrolled": true
   },
   "outputs": [
    {
     "name": "stdout",
     "output_type": "stream",
     "text": [
      "['20220703T102611_20220703T103617_T32UPA', '20220725T101559_20220725T102250_T32UPA', '20220807T102559_20220807T103507_T32UPA']\n"
     ]
    }
   ],
   "source": [
    "KasUnBrot_collection_2022 = ee.ImageCollection('COPERNICUS/S2_SR_HARMONIZED') \\\n",
    "    .filterBounds(region) \\\n",
    "    .filterDate('2022-07-01', '2022-08-30') \\\n",
    "    .filterMetadata('CLOUDY_PIXEL_PERCENTAGE', 'less_than', 10)\n",
    "listOfImages_2022 = KasUnBrot_collection_2022.aggregate_array('system:index').getInfo()\n",
    "print(listOfImages_2022)\n",
    "KasUnBrot_collection_2022_list = KasUnBrot_collection_2022.toList(KasUnBrot_collection_2022.size())\n",
    "\n",
    "\n"
   ]
  },
  {
   "cell_type": "code",
   "execution_count": 184,
   "metadata": {},
   "outputs": [
    {
     "name": "stdout",
     "output_type": "stream",
     "text": [
      "7\n",
      "20170706T102021_20170706T102301_T32UPB 20170825T102021_20170825T102114_T32UPA\n"
     ]
    },
    {
     "data": {
      "application/vnd.jupyter.widget-view+json": {
       "model_id": "0043d6e3bb33425faa8dc2f1f695dba8",
       "version_major": 2,
       "version_minor": 0
      },
      "text/plain": [
       "Map(center=[50.422183, 10.82], controls=(WidgetControl(options=['position', 'transparent_bg'], widget=HBox(chi…"
      ]
     },
     "metadata": {},
     "output_type": "display_data"
    }
   ],
   "source": [
    "Images = KasUnBrot_collection_2017_list\n",
    "listOfImages = listOfImages_2017\n",
    "print(len(listOfImages))\n",
    "Image_1 = ee.Image(Images.get(0)).clip(region)\n",
    "Image_1_metrics = add_metrics(Image_1)\n",
    "\n",
    "Image_2 = ee.Image(Images.get(-1)).clip(region)\n",
    "Image_2_metrics = add_metrics(Image_2)\n",
    "\n",
    "Image_diff = (Image_1_metrics.subtract(Image_2_metrics)).abs()\n",
    "print(listOfImages[0], listOfImages[-1])\n",
    "Map3 = geemap.Map(location=[ 50.422183,10.82], zoom=15)\n",
    "Map3.addLayer(Image_diff, ndviParams, \"MedianImage\", True) \n",
    "Map3\n",
    "\n",
    "\n"
   ]
  },
  {
   "cell_type": "code",
   "execution_count": 182,
   "metadata": {},
   "outputs": [],
   "source": [
    "filmArgs = {\n",
    "    \"dimensions\": 128,\n",
    "    \"region\": region,\n",
    "    \"crs\": 'EPSG:3857',\n",
    "    \"min\": 0.2, \n",
    "    \"max\" : 1,\n",
    "    \"palette\":  ['#640000', '#ff0000', '#ffff00', '#00c800', '#006400'],\n",
    "#     \"palette\":  ['#006400', '#00c800', '#ffff00', '#ff0000', '#640000'],\n",
    "#     \"palette\": ['white', 'green'],\n",
    "    \"bands\": ['NDVI'],\n",
    "    \"framesPerSecond\": 1\n",
    "}\n"
   ]
  },
  {
   "cell_type": "code",
   "execution_count": 189,
   "metadata": {},
   "outputs": [
    {
     "name": "stdout",
     "output_type": "stream",
     "text": [
      "https://earthengine.googleapis.com/v1alpha/projects/earthengine-legacy/videoThumbnails/485f37f2f7020e5a856631eef63f8596-3a0fea5b4e876513230714734665ff44:getPixels\n"
     ]
    }
   ],
   "source": [
    "print(KasUnBrot_collection_2022.map(add_metrics).filterMetadata('CLOUDY_PIXEL_PERCENTAGE', 'less_than', 10).getVideoThumbURL(filmArgs));\n"
   ]
  },
  {
   "cell_type": "code",
   "execution_count": 190,
   "metadata": {},
   "outputs": [
    {
     "data": {
      "application/vnd.jupyter.widget-view+json": {
       "model_id": "0312c5e3fa9a4ea0965b2d07d6dc3bca",
       "version_major": 2,
       "version_minor": 0
      },
      "text/plain": [
       "Map(center=[50.422183, 10.82], controls=(WidgetControl(options=['position', 'transparent_bg'], widget=HBox(chi…"
      ]
     },
     "metadata": {},
     "output_type": "display_data"
    }
   ],
   "source": [
    "Images = KasUnBrot_collection_2019_list\n",
    "Image_1 = ee.Image(Images.get(0))\n",
    "Image_1_metrics = add_metrics(Image_1)\n",
    "\n",
    "\n",
    "Map3 = geemap.Map(location=[50.422183,10.82], zoom=15)\n",
    "Map3.addLayer(Image_1_metrics, ndviParams, \"MedianImage\", True)\n",
    "Map3\n",
    "\n"
   ]
  },
  {
   "cell_type": "code",
   "execution_count": null,
   "metadata": {},
   "outputs": [],
   "source": []
  }
 ],
 "metadata": {
  "kernelspec": {
   "display_name": "Python 3 (ipykernel)",
   "language": "python",
   "name": "python3"
  },
  "language_info": {
   "codemirror_mode": {
    "name": "ipython",
    "version": 3
   },
   "file_extension": ".py",
   "mimetype": "text/x-python",
   "name": "python",
   "nbconvert_exporter": "python",
   "pygments_lexer": "ipython3",
   "version": "3.10.9"
  }
 },
 "nbformat": 4,
 "nbformat_minor": 1
}
